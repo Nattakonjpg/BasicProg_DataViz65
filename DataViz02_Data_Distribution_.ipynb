{
  "nbformat": 4,
  "nbformat_minor": 0,
  "metadata": {
    "colab": {
      "provenance": [],
      "collapsed_sections": [],
      "authorship_tag": "ABX9TyNgjO/r1jref9/VZBIHUP44",
      "include_colab_link": true
    },
    "kernelspec": {
      "name": "python3",
      "display_name": "Python 3"
    },
    "language_info": {
      "name": "python"
    }
  },
  "cells": [
    {
      "cell_type": "markdown",
      "metadata": {
        "id": "view-in-github",
        "colab_type": "text"
      },
      "source": [
        "<a href=\"https://colab.research.google.com/github/Nattakonjpg/BasicProg_DataViz65/blob/main/DataViz02_Data_Distribution_.ipynb\" target=\"_parent\"><img src=\"https://colab.research.google.com/assets/colab-badge.svg\" alt=\"Open In Colab\"/></a>"
      ]
    },
    {
      "cell_type": "markdown",
      "source": [
        "#Import data"
      ],
      "metadata": {
        "id": "9HdzsQgNjCYT"
      }
    },
    {
      "cell_type": "code",
      "execution_count": 2,
      "metadata": {
        "id": "gBZxufT2i3jv"
      },
      "outputs": [],
      "source": [
        "import pandas as pd"
      ]
    },
    {
      "cell_type": "code",
      "source": [
        "df = pd.read_csv(\"https://raw.githubusercontent.com/pandas-dev/pandas/master/pandas/tests/io/data/csv/iris.csv\")"
      ],
      "metadata": {
        "id": "ABjio99ojGjF"
      },
      "execution_count": 3,
      "outputs": []
    },
    {
      "cell_type": "code",
      "source": [
        "df.head()"
      ],
      "metadata": {
        "colab": {
          "base_uri": "https://localhost:8080/",
          "height": 206
        },
        "id": "WrvlJlryjHKx",
        "outputId": "b58bf02c-459f-431d-8afd-6f3209c399cc"
      },
      "execution_count": 4,
      "outputs": [
        {
          "output_type": "execute_result",
          "data": {
            "text/plain": [
              "   SepalLength  SepalWidth  PetalLength  PetalWidth         Name\n",
              "0          5.1         3.5          1.4         0.2  Iris-setosa\n",
              "1          4.9         3.0          1.4         0.2  Iris-setosa\n",
              "2          4.7         3.2          1.3         0.2  Iris-setosa\n",
              "3          4.6         3.1          1.5         0.2  Iris-setosa\n",
              "4          5.0         3.6          1.4         0.2  Iris-setosa"
            ],
            "text/html": [
              "\n",
              "  <div id=\"df-46a28332-fde9-42e7-9222-cdb52071a35c\">\n",
              "    <div class=\"colab-df-container\">\n",
              "      <div>\n",
              "<style scoped>\n",
              "    .dataframe tbody tr th:only-of-type {\n",
              "        vertical-align: middle;\n",
              "    }\n",
              "\n",
              "    .dataframe tbody tr th {\n",
              "        vertical-align: top;\n",
              "    }\n",
              "\n",
              "    .dataframe thead th {\n",
              "        text-align: right;\n",
              "    }\n",
              "</style>\n",
              "<table border=\"1\" class=\"dataframe\">\n",
              "  <thead>\n",
              "    <tr style=\"text-align: right;\">\n",
              "      <th></th>\n",
              "      <th>SepalLength</th>\n",
              "      <th>SepalWidth</th>\n",
              "      <th>PetalLength</th>\n",
              "      <th>PetalWidth</th>\n",
              "      <th>Name</th>\n",
              "    </tr>\n",
              "  </thead>\n",
              "  <tbody>\n",
              "    <tr>\n",
              "      <th>0</th>\n",
              "      <td>5.1</td>\n",
              "      <td>3.5</td>\n",
              "      <td>1.4</td>\n",
              "      <td>0.2</td>\n",
              "      <td>Iris-setosa</td>\n",
              "    </tr>\n",
              "    <tr>\n",
              "      <th>1</th>\n",
              "      <td>4.9</td>\n",
              "      <td>3.0</td>\n",
              "      <td>1.4</td>\n",
              "      <td>0.2</td>\n",
              "      <td>Iris-setosa</td>\n",
              "    </tr>\n",
              "    <tr>\n",
              "      <th>2</th>\n",
              "      <td>4.7</td>\n",
              "      <td>3.2</td>\n",
              "      <td>1.3</td>\n",
              "      <td>0.2</td>\n",
              "      <td>Iris-setosa</td>\n",
              "    </tr>\n",
              "    <tr>\n",
              "      <th>3</th>\n",
              "      <td>4.6</td>\n",
              "      <td>3.1</td>\n",
              "      <td>1.5</td>\n",
              "      <td>0.2</td>\n",
              "      <td>Iris-setosa</td>\n",
              "    </tr>\n",
              "    <tr>\n",
              "      <th>4</th>\n",
              "      <td>5.0</td>\n",
              "      <td>3.6</td>\n",
              "      <td>1.4</td>\n",
              "      <td>0.2</td>\n",
              "      <td>Iris-setosa</td>\n",
              "    </tr>\n",
              "  </tbody>\n",
              "</table>\n",
              "</div>\n",
              "      <button class=\"colab-df-convert\" onclick=\"convertToInteractive('df-46a28332-fde9-42e7-9222-cdb52071a35c')\"\n",
              "              title=\"Convert this dataframe to an interactive table.\"\n",
              "              style=\"display:none;\">\n",
              "        \n",
              "  <svg xmlns=\"http://www.w3.org/2000/svg\" height=\"24px\"viewBox=\"0 0 24 24\"\n",
              "       width=\"24px\">\n",
              "    <path d=\"M0 0h24v24H0V0z\" fill=\"none\"/>\n",
              "    <path d=\"M18.56 5.44l.94 2.06.94-2.06 2.06-.94-2.06-.94-.94-2.06-.94 2.06-2.06.94zm-11 1L8.5 8.5l.94-2.06 2.06-.94-2.06-.94L8.5 2.5l-.94 2.06-2.06.94zm10 10l.94 2.06.94-2.06 2.06-.94-2.06-.94-.94-2.06-.94 2.06-2.06.94z\"/><path d=\"M17.41 7.96l-1.37-1.37c-.4-.4-.92-.59-1.43-.59-.52 0-1.04.2-1.43.59L10.3 9.45l-7.72 7.72c-.78.78-.78 2.05 0 2.83L4 21.41c.39.39.9.59 1.41.59.51 0 1.02-.2 1.41-.59l7.78-7.78 2.81-2.81c.8-.78.8-2.07 0-2.86zM5.41 20L4 18.59l7.72-7.72 1.47 1.35L5.41 20z\"/>\n",
              "  </svg>\n",
              "      </button>\n",
              "      \n",
              "  <style>\n",
              "    .colab-df-container {\n",
              "      display:flex;\n",
              "      flex-wrap:wrap;\n",
              "      gap: 12px;\n",
              "    }\n",
              "\n",
              "    .colab-df-convert {\n",
              "      background-color: #E8F0FE;\n",
              "      border: none;\n",
              "      border-radius: 50%;\n",
              "      cursor: pointer;\n",
              "      display: none;\n",
              "      fill: #1967D2;\n",
              "      height: 32px;\n",
              "      padding: 0 0 0 0;\n",
              "      width: 32px;\n",
              "    }\n",
              "\n",
              "    .colab-df-convert:hover {\n",
              "      background-color: #E2EBFA;\n",
              "      box-shadow: 0px 1px 2px rgba(60, 64, 67, 0.3), 0px 1px 3px 1px rgba(60, 64, 67, 0.15);\n",
              "      fill: #174EA6;\n",
              "    }\n",
              "\n",
              "    [theme=dark] .colab-df-convert {\n",
              "      background-color: #3B4455;\n",
              "      fill: #D2E3FC;\n",
              "    }\n",
              "\n",
              "    [theme=dark] .colab-df-convert:hover {\n",
              "      background-color: #434B5C;\n",
              "      box-shadow: 0px 1px 3px 1px rgba(0, 0, 0, 0.15);\n",
              "      filter: drop-shadow(0px 1px 2px rgba(0, 0, 0, 0.3));\n",
              "      fill: #FFFFFF;\n",
              "    }\n",
              "  </style>\n",
              "\n",
              "      <script>\n",
              "        const buttonEl =\n",
              "          document.querySelector('#df-46a28332-fde9-42e7-9222-cdb52071a35c button.colab-df-convert');\n",
              "        buttonEl.style.display =\n",
              "          google.colab.kernel.accessAllowed ? 'block' : 'none';\n",
              "\n",
              "        async function convertToInteractive(key) {\n",
              "          const element = document.querySelector('#df-46a28332-fde9-42e7-9222-cdb52071a35c');\n",
              "          const dataTable =\n",
              "            await google.colab.kernel.invokeFunction('convertToInteractive',\n",
              "                                                     [key], {});\n",
              "          if (!dataTable) return;\n",
              "\n",
              "          const docLinkHtml = 'Like what you see? Visit the ' +\n",
              "            '<a target=\"_blank\" href=https://colab.research.google.com/notebooks/data_table.ipynb>data table notebook</a>'\n",
              "            + ' to learn more about interactive tables.';\n",
              "          element.innerHTML = '';\n",
              "          dataTable['output_type'] = 'display_data';\n",
              "          await google.colab.output.renderOutput(dataTable, element);\n",
              "          const docLink = document.createElement('div');\n",
              "          docLink.innerHTML = docLinkHtml;\n",
              "          element.appendChild(docLink);\n",
              "        }\n",
              "      </script>\n",
              "    </div>\n",
              "  </div>\n",
              "  "
            ]
          },
          "metadata": {},
          "execution_count": 4
        }
      ]
    },
    {
      "cell_type": "markdown",
      "source": [
        "#Scatter Plot"
      ],
      "metadata": {
        "id": "jav-rirHjI4e"
      }
    },
    {
      "cell_type": "code",
      "source": [
        "from matplotlib import pyplot as plt"
      ],
      "metadata": {
        "id": "3MIDiVTsjLPL"
      },
      "execution_count": 5,
      "outputs": []
    },
    {
      "cell_type": "code",
      "source": [
        "plt.scatter(df['PetalLength'],df['SepalLength']) #input 2 ตัว ค่าแกน x, y"
      ],
      "metadata": {
        "colab": {
          "base_uri": "https://localhost:8080/",
          "height": 282
        },
        "id": "IElPE2LsjOJT",
        "outputId": "20ee1066-fc3b-4dd0-d675-a6c51dd35647"
      },
      "execution_count": 6,
      "outputs": [
        {
          "output_type": "execute_result",
          "data": {
            "text/plain": [
              "<matplotlib.collections.PathCollection at 0x7f8a59360150>"
            ]
          },
          "metadata": {},
          "execution_count": 6
        },
        {
          "output_type": "display_data",
          "data": {
            "text/plain": [
              "<Figure size 432x288 with 1 Axes>"
            ],
            "image/png": "[encoded data removed]"
          },
          "metadata": {
            "needs_background": "light"
          }
        }
      ]
    },
    {
      "cell_type": "markdown",
      "source": [
        "##เปลี่ยนสี"
      ],
      "metadata": {
        "id": "wcAlOgoMkfnQ"
      }
    },
    {
      "cell_type": "code",
      "source": [
        "plt.scatter(df['PetalLength'],df['SepalLength'],c=\"g\") "
      ],
      "metadata": {
        "colab": {
          "base_uri": "https://localhost:8080/",
          "height": 282
        },
        "id": "58yfS-MWkhW9",
        "outputId": "b9d49ee8-3801-4207-add4-d820748c857c"
      },
      "execution_count": 7,
      "outputs": [
        {
          "output_type": "execute_result",
          "data": {
            "text/plain": [
              "<matplotlib.collections.PathCollection at 0x7f8a592e1b50>"
            ]
          },
          "metadata": {},
          "execution_count": 7
        },
        {
          "output_type": "display_data",
          "data": {
            "text/plain": [
              "<Figure size 432x288 with 1 Axes>"
            ],
            "image/png": "[encoded data removed]"
          },
          "metadata": {
            "needs_background": "light"
          }
        }
      ]
    },
    {
      "cell_type": "markdown",
      "source": [
        "##ระบุสีให้แต่ละจุด"
      ],
      "metadata": {
        "id": "d3tNePw-lLxU"
      }
    },
    {
      "cell_type": "code",
      "source": [
        "set(df['Name'])"
      ],
      "metadata": {
        "colab": {
          "base_uri": "https://localhost:8080/"
        },
        "id": "LaoycbohlNJO",
        "outputId": "e0234ac3-35a4-47ce-b427-5af974191b5f"
      },
      "execution_count": 8,
      "outputs": [
        {
          "output_type": "execute_result",
          "data": {
            "text/plain": [
              "{'Iris-setosa', 'Iris-versicolor', 'Iris-virginica'}"
            ]
          },
          "metadata": {},
          "execution_count": 8
        }
      ]
    },
    {
      "cell_type": "markdown",
      "source": [
        "##แทนค่าชื่อดอกไม้ด้วยตัวอักษรแทนสี (r g b c m y k w)"
      ],
      "metadata": {
        "id": "aBICJQ8mlPc7"
      }
    },
    {
      "cell_type": "code",
      "source": [
        "df2= df.replace({'Iris-setosa':'r', 'Iris-versicolor':'g', 'Iris-virginica':'b'})\n",
        "df2.head()"
      ],
      "metadata": {
        "colab": {
          "base_uri": "https://localhost:8080/",
          "height": 206
        },
        "id": "SdnPdH63lTxL",
        "outputId": "8613fc25-830b-468e-d7ba-bc01eb6d1cd1"
      },
      "execution_count": 9,
      "outputs": [
        {
          "output_type": "execute_result",
          "data": {
            "text/plain": [
              "   SepalLength  SepalWidth  PetalLength  PetalWidth Name\n",
              "0          5.1         3.5          1.4         0.2    r\n",
              "1          4.9         3.0          1.4         0.2    r\n",
              "2          4.7         3.2          1.3         0.2    r\n",
              "3          4.6         3.1          1.5         0.2    r\n",
              "4          5.0         3.6          1.4         0.2    r"
            ],
            "text/html": [
              "\n",
              "  <div id=\"df-89dca471-3113-4c48-9d67-ed34ad90254c\">\n",
              "    <div class=\"colab-df-container\">\n",
              "      <div>\n",
              "<style scoped>\n",
              "    .dataframe tbody tr th:only-of-type {\n",
              "        vertical-align: middle;\n",
              "    }\n",
              "\n",
              "    .dataframe tbody tr th {\n",
              "        vertical-align: top;\n",
              "    }\n",
              "\n",
              "    .dataframe thead th {\n",
              "        text-align: right;\n",
              "    }\n",
              "</style>\n",
              "<table border=\"1\" class=\"dataframe\">\n",
              "  <thead>\n",
              "    <tr style=\"text-align: right;\">\n",
              "      <th></th>\n",
              "      <th>SepalLength</th>\n",
              "      <th>SepalWidth</th>\n",
              "      <th>PetalLength</th>\n",
              "      <th>PetalWidth</th>\n",
              "      <th>Name</th>\n",
              "    </tr>\n",
              "  </thead>\n",
              "  <tbody>\n",
              "    <tr>\n",
              "      <th>0</th>\n",
              "      <td>5.1</td>\n",
              "      <td>3.5</td>\n",
              "      <td>1.4</td>\n",
              "      <td>0.2</td>\n",
              "      <td>r</td>\n",
              "    </tr>\n",
              "    <tr>\n",
              "      <th>1</th>\n",
              "      <td>4.9</td>\n",
              "      <td>3.0</td>\n",
              "      <td>1.4</td>\n",
              "      <td>0.2</td>\n",
              "      <td>r</td>\n",
              "    </tr>\n",
              "    <tr>\n",
              "      <th>2</th>\n",
              "      <td>4.7</td>\n",
              "      <td>3.2</td>\n",
              "      <td>1.3</td>\n",
              "      <td>0.2</td>\n",
              "      <td>r</td>\n",
              "    </tr>\n",
              "    <tr>\n",
              "      <th>3</th>\n",
              "      <td>4.6</td>\n",
              "      <td>3.1</td>\n",
              "      <td>1.5</td>\n",
              "      <td>0.2</td>\n",
              "      <td>r</td>\n",
              "    </tr>\n",
              "    <tr>\n",
              "      <th>4</th>\n",
              "      <td>5.0</td>\n",
              "      <td>3.6</td>\n",
              "      <td>1.4</td>\n",
              "      <td>0.2</td>\n",
              "      <td>r</td>\n",
              "    </tr>\n",
              "  </tbody>\n",
              "</table>\n",
              "</div>\n",
              "      <button class=\"colab-df-convert\" onclick=\"convertToInteractive('df-89dca471-3113-4c48-9d67-ed34ad90254c')\"\n",
              "              title=\"Convert this dataframe to an interactive table.\"\n",
              "              style=\"display:none;\">\n",
              "        \n",
              "  <svg xmlns=\"http://www.w3.org/2000/svg\" height=\"24px\"viewBox=\"0 0 24 24\"\n",
              "       width=\"24px\">\n",
              "    <path d=\"M0 0h24v24H0V0z\" fill=\"none\"/>\n",
              "    <path d=\"M18.56 5.44l.94 2.06.94-2.06 2.06-.94-2.06-.94-.94-2.06-.94 2.06-2.06.94zm-11 1L8.5 8.5l.94-2.06 2.06-.94-2.06-.94L8.5 2.5l-.94 2.06-2.06.94zm10 10l.94 2.06.94-2.06 2.06-.94-2.06-.94-.94-2.06-.94 2.06-2.06.94z\"/><path d=\"M17.41 7.96l-1.37-1.37c-.4-.4-.92-.59-1.43-.59-.52 0-1.04.2-1.43.59L10.3 9.45l-7.72 7.72c-.78.78-.78 2.05 0 2.83L4 21.41c.39.39.9.59 1.41.59.51 0 1.02-.2 1.41-.59l7.78-7.78 2.81-2.81c.8-.78.8-2.07 0-2.86zM5.41 20L4 18.59l7.72-7.72 1.47 1.35L5.41 20z\"/>\n",
              "  </svg>\n",
              "      </button>\n",
              "      \n",
              "  <style>\n",
              "    .colab-df-container {\n",
              "      display:flex;\n",
              "      flex-wrap:wrap;\n",
              "      gap: 12px;\n",
              "    }\n",
              "\n",
              "    .colab-df-convert {\n",
              "      background-color: #E8F0FE;\n",
              "      border: none;\n",
              "      border-radius: 50%;\n",
              "      cursor: pointer;\n",
              "      display: none;\n",
              "      fill: #1967D2;\n",
              "      height: 32px;\n",
              "      padding: 0 0 0 0;\n",
              "      width: 32px;\n",
              "    }\n",
              "\n",
              "    .colab-df-convert:hover {\n",
              "      background-color: #E2EBFA;\n",
              "      box-shadow: 0px 1px 2px rgba(60, 64, 67, 0.3), 0px 1px 3px 1px rgba(60, 64, 67, 0.15);\n",
              "      fill: #174EA6;\n",
              "    }\n",
              "\n",
              "    [theme=dark] .colab-df-convert {\n",
              "      background-color: #3B4455;\n",
              "      fill: #D2E3FC;\n",
              "    }\n",
              "\n",
              "    [theme=dark] .colab-df-convert:hover {\n",
              "      background-color: #434B5C;\n",
              "      box-shadow: 0px 1px 3px 1px rgba(0, 0, 0, 0.15);\n",
              "      filter: drop-shadow(0px 1px 2px rgba(0, 0, 0, 0.3));\n",
              "      fill: #FFFFFF;\n",
              "    }\n",
              "  </style>\n",
              "\n",
              "      <script>\n",
              "        const buttonEl =\n",
              "          document.querySelector('#df-89dca471-3113-4c48-9d67-ed34ad90254c button.colab-df-convert');\n",
              "        buttonEl.style.display =\n",
              "          google.colab.kernel.accessAllowed ? 'block' : 'none';\n",
              "\n",
              "        async function convertToInteractive(key) {\n",
              "          const element = document.querySelector('#df-89dca471-3113-4c48-9d67-ed34ad90254c');\n",
              "          const dataTable =\n",
              "            await google.colab.kernel.invokeFunction('convertToInteractive',\n",
              "                                                     [key], {});\n",
              "          if (!dataTable) return;\n",
              "\n",
              "          const docLinkHtml = 'Like what you see? Visit the ' +\n",
              "            '<a target=\"_blank\" href=https://colab.research.google.com/notebooks/data_table.ipynb>data table notebook</a>'\n",
              "            + ' to learn more about interactive tables.';\n",
              "          element.innerHTML = '';\n",
              "          dataTable['output_type'] = 'display_data';\n",
              "          await google.colab.output.renderOutput(dataTable, element);\n",
              "          const docLink = document.createElement('div');\n",
              "          docLink.innerHTML = docLinkHtml;\n",
              "          element.appendChild(docLink);\n",
              "        }\n",
              "      </script>\n",
              "    </div>\n",
              "  </div>\n",
              "  "
            ]
          },
          "metadata": {},
          "execution_count": 9
        }
      ]
    },
    {
      "cell_type": "code",
      "source": [
        "plt.scatter(df2['PetalLength'],df2['SepalLength'],c=df2['Name']) "
      ],
      "metadata": {
        "colab": {
          "base_uri": "https://localhost:8080/",
          "height": 282
        },
        "id": "y1QN98cIleFc",
        "outputId": "8c53649a-9437-4b0a-f716-f5b172aa10f0"
      },
      "execution_count": 10,
      "outputs": [
        {
          "output_type": "execute_result",
          "data": {
            "text/plain": [
              "<matplotlib.collections.PathCollection at 0x7f8a58e44d90>"
            ]
          },
          "metadata": {},
          "execution_count": 10
        },
        {
          "output_type": "display_data",
          "data": {
            "text/plain": [
              "<Figure size 432x288 with 1 Axes>"
            ],
            "image/png": "[encoded data removed]"
          },
          "metadata": {
            "needs_background": "light"
          }
        }
      ]
    },
    {
      "cell_type": "code",
      "source": [
        "plt.scatter(df2['PetalLength'],df2['SepalWidth'],c=df2['Name']) \n",
        "#เวลาอธิยาย กลุ่มแต่ละกลุ่มยังไง แยกกลุ่มได้ไหม "
      ],
      "metadata": {
        "colab": {
          "base_uri": "https://localhost:8080/",
          "height": 285
        },
        "id": "e2EXr82qmMxh",
        "outputId": "b5c2735d-27be-4d76-ad3a-df51d42d19e8"
      },
      "execution_count": 11,
      "outputs": [
        {
          "output_type": "execute_result",
          "data": {
            "text/plain": [
              "<matplotlib.collections.PathCollection at 0x7f8a58d9fbd0>"
            ]
          },
          "metadata": {},
          "execution_count": 11
        },
        {
          "output_type": "display_data",
          "data": {
            "text/plain": [
              "<Figure size 432x288 with 1 Axes>"
            ],
            "image/png": "[encoded data removed]"
          },
          "metadata": {
            "needs_background": "light"
          }
        }
      ]
    },
    {
      "cell_type": "code",
      "source": [
        "plt.scatter(df2['PetalWidth'],df2['SepalLength'],c=df2['Name']) \n"
      ],
      "metadata": {
        "colab": {
          "base_uri": "https://localhost:8080/",
          "height": 282
        },
        "id": "-38yBh_ioaJV",
        "outputId": "59b56249-4dd2-45d8-dc8e-fc5b7a52897d"
      },
      "execution_count": 12,
      "outputs": [
        {
          "output_type": "execute_result",
          "data": {
            "text/plain": [
              "<matplotlib.collections.PathCollection at 0x7f8a58d15790>"
            ]
          },
          "metadata": {},
          "execution_count": 12
        },
        {
          "output_type": "display_data",
          "data": {
            "text/plain": [
              "<Figure size 432x288 with 1 Axes>"
            ],
            "image/png": "[encoded data removed]"
          },
          "metadata": {
            "needs_background": "light"
          }
        }
      ]
    },
    {
      "cell_type": "markdown",
      "source": [
        "##เพิ่มรายละเอียดกราฟ\n"
      ],
      "metadata": {
        "id": "Z6P1ZTau2Fdw"
      }
    },
    {
      "cell_type": "markdown",
      "source": [
        "ชื่อแกน\n"
      ],
      "metadata": {
        "id": "9_Y71kEh3aB8"
      }
    },
    {
      "cell_type": "code",
      "source": [
        "plt.scatter(df2['PetalLength'],df2['SepalLength'],c=df2['Name'])\n",
        "plt.xlabel('PetalLength') #ชื่อกราฟแกน x\n",
        "plt.ylabel('SepalLength') #ชื่อกราฟแกน y"
      ],
      "metadata": {
        "colab": {
          "base_uri": "https://localhost:8080/",
          "height": 296
        },
        "id": "ppsBifwO2J3E",
        "outputId": "4c84f0fd-54c8-41d2-fcce-bfdc1d99529c"
      },
      "execution_count": 14,
      "outputs": [
        {
          "output_type": "execute_result",
          "data": {
            "text/plain": [
              "Text(0, 0.5, 'SepalLength')"
            ]
          },
          "metadata": {},
          "execution_count": 14
        },
        {
          "output_type": "display_data",
          "data": {
            "text/plain": [
              "<Figure size 432x288 with 1 Axes>"
            ],
            "image/png": "[encoded data removed]"
          },
          "metadata": {
            "needs_background": "light"
          }
        }
      ]
    },
    {
      "cell_type": "markdown",
      "source": [
        "ชื่อ marker\n"
      ],
      "metadata": {
        "id": "TlqB7WBi3YXc"
      }
    },
    {
      "cell_type": "code",
      "source": [
        "plt.scatter(df2['PetalLength'][:50],df2['SepalLength'][:50],c=df2['Name'][:50],label='setosa')\n",
        "plt.scatter(df2['PetalLength'][50:100],df2['SepalLength'][50:100],c=df2['Name'][50:100],label='versicolor')\n",
        "plt.scatter(df2['PetalLength'][100:],df2['SepalLength'][100:],c=df2['Name'][100:],label='verginiga')\n",
        "plt.legend()\n",
        "plt.xlabel('PetalLength')\n",
        "plt.ylabel('SepalLength')"
      ],
      "metadata": {
        "colab": {
          "base_uri": "https://localhost:8080/",
          "height": 296
        },
        "id": "Rvey2d-j3bYS",
        "outputId": "bdbbf114-5875-4b4b-8b72-3c8130e6033c"
      },
      "execution_count": 15,
      "outputs": [
        {
          "output_type": "execute_result",
          "data": {
            "text/plain": [
              "Text(0, 0.5, 'SepalLength')"
            ]
          },
          "metadata": {},
          "execution_count": 15
        },
        {
          "output_type": "display_data",
          "data": {
            "text/plain": [
              "<Figure size 432x288 with 1 Axes>"
            ],
            "image/png": "[encoded data removed]"
          },
          "metadata": {
            "needs_background": "light"
          }
        }
      ]
    },
    {
      "cell_type": "markdown",
      "source": [
        "ชื่อกราฟ\n"
      ],
      "metadata": {
        "id": "YauGNeFs3i6Y"
      }
    },
    {
      "cell_type": "code",
      "source": [
        "plt.scatter(df2['PetalLength'][:50],df2['SepalLength'][:50],c=df2['Name'][:50],label='setosa')\n",
        "plt.scatter(df2['PetalLength'][50:100],df2['SepalLength'][50:100],c=df2['Name'][50:100],label='versicolor')\n",
        "plt.scatter(df2['PetalLength'][100:],df2['SepalLength'][100:],c=df2['Name'][100:],label='verginiga')\n",
        "plt.legend()\n",
        "plt.xlabel('PetalLength')\n",
        "plt.ylabel('SepalLength')\n",
        "plt.title('Comparing petal & sepal length of different iris flowers');"
      ],
      "metadata": {
        "id": "-i2JmNeA3hKL"
      },
      "execution_count": null,
      "outputs": []
    },
    {
      "cell_type": "markdown",
      "source": [
        "###ใช้ ขนาดของ marker ในการแสดงค่าใน column\n"
      ],
      "metadata": {
        "id": "dQvm6N9F3oTB"
      }
    },
    {
      "cell_type": "code",
      "source": [
        "plt.scatter(df2['PetalLength'][:50],df2['SepalLength'][:50],c=df2['Name'][:50],label='setosa',s=df2['PetalWidth'][:50])\n",
        "plt.scatter(df2['PetalLength'][50:100],df2['SepalLength'][50:100],c=df2['Name'][50:100],label='versicolor',s=df2['PetalWidth'][50:100])\n",
        "plt.scatter(df2['PetalLength'][100:],df2['SepalLength'][100:],c=df2['Name'][100:],label='verginiga',s=df2['PetalWidth'][100:])\n",
        "plt.legend()\n",
        "plt.xlabel('PetalLength')\n",
        "plt.ylabel('SepalLength')\n",
        "plt.title('comparing petal&sepal length of different iris flowers');"
      ],
      "metadata": {
        "id": "3NStjZRL380g"
      },
      "execution_count": null,
      "outputs": []
    },
    {
      "cell_type": "markdown",
      "source": [
        "ขยายของขนาด marker ที่เล็กเกินไป\n",
        "\n"
      ],
      "metadata": {
        "id": "_KbiW7Bo3_HD"
      }
    },
    {
      "cell_type": "code",
      "source": [
        "plt.scatter(df2['PetalLength'][:50],df2['SepalLength'][:50],c=df2['Name'][:50],label='setosa',s=40*df2['PetalWidth'][:50])\n",
        "plt.scatter(df2['PetalLength'][50:100],df2['SepalLength'][50:100],c=df2['Name'][50:100],label='versicolor',s=40*df2['PetalWidth'][50:100])\n",
        "plt.scatter(df2['PetalLength'][100:],df2['SepalLength'][100:],c=df2['Name'][100:],label='verginiga',s=40*df2['PetalWidth'][100:])\n",
        "plt.legend()\n",
        "plt.xlabel('PetalLength')\n",
        "plt.ylabel('SepalLength')\n",
        "plt.title('comparing petal&sepal length of different iris flowers');"
      ],
      "metadata": {
        "id": "sm1nQG9l4Alj"
      },
      "execution_count": null,
      "outputs": []
    },
    {
      "cell_type": "markdown",
      "source": [
        "###ปรับความโปรงใสของ marker เพื่อให้มองเห็นจุดที่ถูกบัง (Bubble Chart)\n"
      ],
      "metadata": {
        "id": "owZpdiZM47PL"
      }
    },
    {
      "cell_type": "code",
      "source": [
        "plt.scatter(df2['PetalLength'][:50],df2['SepalLength'][:50],alpha=0.5,c=df2['Name'][:50],label='setosa',s=40*df2['PetalWidth'][:50])\n",
        "plt.scatter(df2['PetalLength'][50:100],df2['SepalLength'][50:100],alpha=0.5,c=df2['Name'][50:100],label='versicolor',s=40*df2['PetalWidth'][50:100])\n",
        "plt.scatter(df2['PetalLength'][100:],df2['SepalLength'][100:],alpha=0.5,c=df2['Name'][100:],label='verginiga',s=40*df2['PetalWidth'][100:])\n",
        "plt.legend()\n",
        "plt.xlabel('PetalLength')\n",
        "plt.ylabel('SepalLength')\n",
        "plt.title('comparing petal&sepal length of different iris flowers \\n(sizes of the circle determine petal widths of the flowers)');\n"
      ],
      "metadata": {
        "id": "-jr7iOco5DWC"
      },
      "execution_count": null,
      "outputs": []
    },
    {
      "cell_type": "markdown",
      "source": [
        "###เปลี่ยน หน้าตาของ Marker เพื่อความสวยงาม\n"
      ],
      "metadata": {
        "id": "KN9v0EaV5WRH"
      }
    },
    {
      "cell_type": "code",
      "source": [
        "plt.scatter(df2['PetalLength'][:50],df2['SepalLength'][:50],alpha=0.5,c=df2['Name'][:50],label='setosa',s=40*df2['PetalWidth'][:50],marker='X')\n",
        "plt.scatter(df2['PetalLength'][50:100],df2['SepalLength'][50:100],alpha=0.5,c=df2['Name'][50:100],label='versicolor',s=40*df2['PetalWidth'][50:100],marker='X')\n",
        "plt.scatter(df2['PetalLength'][100:],df2['SepalLength'][100:],alpha=0.5,c=df2['Name'][100:],label='verginiga',s=40*df2['PetalWidth'][100:],marker='X')\n",
        "plt.legend()\n",
        "plt.xlabel('PetalLength')\n",
        "plt.ylabel('SepalLength')\n",
        "plt.title('comparing petal&sepal length of different iris flowers');"
      ],
      "metadata": {
        "id": "BMYyvXoi5YEy"
      },
      "execution_count": null,
      "outputs": []
    },
    {
      "cell_type": "code",
      "source": [
        "plt.scatter(df2['PetalLength'][:50],df2['SepalLength'][:50],alpha=0.5,c=df2['Name'][:50],label='setosa',s=40*df2['PetalWidth'][:50],marker='$s$')\n",
        "plt.scatter(df2['PetalLength'][50:100],df2['SepalLength'][50:100],alpha=0.5,c=df2['Name'][50:100],label='versicolor',s=40*df2['PetalWidth'][50:100],marker='$c$')\n",
        "plt.scatter(df2['PetalLength'][100:],df2['SepalLength'][100:],alpha=0.5,c=df2['Name'][100:],label='verginiga',s=40*df2['PetalWidth'][100:],marker='$g$')\n",
        "plt.legend()\n",
        "plt.xlabel('PetalLength')\n",
        "plt.ylabel('SepalLength')\n",
        "plt.title('comparing petal&sepal length of different iris flowers');"
      ],
      "metadata": {
        "id": "-40pQcEz5azO"
      },
      "execution_count": null,
      "outputs": []
    },
    {
      "cell_type": "markdown",
      "source": [
        "###แสดงแบบ 3 มิติ\n"
      ],
      "metadata": {
        "id": "te7qwPtj5c1q"
      }
    },
    {
      "cell_type": "code",
      "source": [
        "ax = plt.axes(projection = \"3d\")\n",
        "ax.scatter(df2['PetalLength'],df2['SepalLength'],df2['SepalWidth'],c=df2['Name'],s=80*df2['PetalWidth'])"
      ],
      "metadata": {
        "colab": {
          "base_uri": "https://localhost:8080/",
          "height": 265
        },
        "id": "SiCrQxXG5fcN",
        "outputId": "6fadbf1b-f175-45c6-d8d2-3f2c763f1876"
      },
      "execution_count": 24,
      "outputs": [
        {
          "output_type": "execute_result",
          "data": {
            "text/plain": [
              "<mpl_toolkits.mplot3d.art3d.Path3DCollection at 0x7f8a55e7f250>"
            ]
          },
          "metadata": {},
          "execution_count": 24
        },
        {
          "output_type": "display_data",
          "data": {
            "text/plain": [
              "<Figure size 432x288 with 1 Axes>"
            ],
            "image/png": "[encoded data removed]"
          },
          "metadata": {
            "needs_background": "light"
          }
        }
      ]
    },
    {
      "cell_type": "code",
      "source": [
        "ax = plt.axes(projection = \"3d\")\n",
        "ax.scatter(df2['PetalLength'][:50],df2['SepalLength'][:50],df2['SepalWidth'][:50],c=df2['Name'][:50],s=80*df2['PetalWidth'][:50],label='setosa')\n",
        "ax.scatter(df2['PetalLength'][50:100],df2['SepalLength'][50:100],df2['SepalWidth'][50:100],c=df2['Name'][50:100],s=80*df2['PetalWidth'][50:100],label='versicolor')\n",
        "ax.scatter(df2['PetalLength'][100:],df2['SepalLength'][100:],df2['SepalWidth'][100:],c=df2['Name'][100:],s=80*df2['PetalWidth'][100:],label='verginica')\n",
        "plt.legend()\n",
        "plt.xlabel('PetalLength')\n",
        "plt.ylabel('SepalLength')\n",
        "plt.title('comparing petal&sepal length of different iris flowers');"
      ],
      "metadata": {
        "colab": {
          "base_uri": "https://localhost:8080/",
          "height": 248
        },
        "id": "dWl762XL5fGS",
        "outputId": "f3ef97fd-8921-47f4-84ca-2297e5b9e64e"
      },
      "execution_count": 25,
      "outputs": [
        {
          "output_type": "display_data",
          "data": {
            "text/plain": [
              "<Figure size 432x288 with 1 Axes>"
            ],
            "image/png": "[encoded data removed]"
          },
          "metadata": {
            "needs_background": "light"
          }
        }
      ]
    },
    {
      "cell_type": "markdown",
      "source": [
        "#Boxplot"
      ],
      "metadata": {
        "id": "GdA3vlGw5xlo"
      }
    },
    {
      "cell_type": "code",
      "source": [
        "from matplotlib import pyplot as plt\n"
      ],
      "metadata": {
        "id": "2ZQCIIPj500f"
      },
      "execution_count": 26,
      "outputs": []
    },
    {
      "cell_type": "code",
      "source": [
        "plt.boxplot(df['SepalLength'])\n"
      ],
      "metadata": {
        "colab": {
          "base_uri": "https://localhost:8080/",
          "height": 404
        },
        "id": "fauRkjzn51-w",
        "outputId": "7a9667eb-429d-4c6a-8c00-11223bed9397"
      },
      "execution_count": 27,
      "outputs": [
        {
          "output_type": "execute_result",
          "data": {
            "text/plain": [
              "{'whiskers': [<matplotlib.lines.Line2D at 0x7f8a55dfe5d0>,\n",
              "  <matplotlib.lines.Line2D at 0x7f8a55da5450>],\n",
              " 'caps': [<matplotlib.lines.Line2D at 0x7f8a55ede450>,\n",
              "  <matplotlib.lines.Line2D at 0x7f8a55eded90>],\n",
              " 'boxes': [<matplotlib.lines.Line2D at 0x7f8a587062d0>],\n",
              " 'medians': [<matplotlib.lines.Line2D at 0x7f8a55e7cf90>],\n",
              " 'fliers': [<matplotlib.lines.Line2D at 0x7f8a55e74510>],\n",
              " 'means': []}"
            ]
          },
          "metadata": {},
          "execution_count": 27
        },
        {
          "output_type": "display_data",
          "data": {
            "text/plain": [
              "<Figure size 432x288 with 1 Axes>"
            ],
            "image/png": "[encoded data removed]"
          },
          "metadata": {
            "needs_background": "light"
          }
        }
      ]
    },
    {
      "cell_type": "code",
      "source": [
        "plt.boxplot(df['SepalLength'],vert=False)\n",
        "ybp = plt.boxplot(df['SepalLength'],vert=False)\n"
      ],
      "metadata": {
        "colab": {
          "base_uri": "https://localhost:8080/",
          "height": 265
        },
        "id": "0KwMHoW36Jd6",
        "outputId": "0d1b811c-4ec6-48b4-89c7-0f40df3e8966"
      },
      "execution_count": 29,
      "outputs": [
        {
          "output_type": "display_data",
          "data": {
            "text/plain": [
              "<Figure size 432x288 with 1 Axes>"
            ],
            "image/png": "[encoded data removed]"
          },
          "metadata": {
            "needs_background": "light"
          }
        }
      ]
    },
    {
      "cell_type": "markdown",
      "source": [
        "median\n",
        "\n"
      ],
      "metadata": {
        "id": "ti61bl_16OIf"
      }
    },
    {
      "cell_type": "code",
      "source": [
        "ybp['medians'][0].get_ydata()\n"
      ],
      "metadata": {
        "colab": {
          "base_uri": "https://localhost:8080/"
        },
        "id": "qFj0151u6PNe",
        "outputId": "26ad95df-8f00-49c8-d718-a84ace3f84fb"
      },
      "execution_count": 30,
      "outputs": [
        {
          "output_type": "execute_result",
          "data": {
            "text/plain": [
              "array([0.925, 1.075])"
            ]
          },
          "metadata": {},
          "execution_count": 30
        }
      ]
    },
    {
      "cell_type": "code",
      "source": [
        "ybp['medians'][0].get_xdata()\n"
      ],
      "metadata": {
        "colab": {
          "base_uri": "https://localhost:8080/"
        },
        "id": "te822t4X6Q7g",
        "outputId": "eb30d2ee-e886-4e7f-d1aa-51fd41b0aadd"
      },
      "execution_count": 31,
      "outputs": [
        {
          "output_type": "execute_result",
          "data": {
            "text/plain": [
              "array([5.8, 5.8])"
            ]
          },
          "metadata": {},
          "execution_count": 31
        }
      ]
    },
    {
      "cell_type": "code",
      "source": [
        "ybp['whiskers'][0].get_xdata()\n"
      ],
      "metadata": {
        "id": "cZpZU7hJ6SKG"
      },
      "execution_count": null,
      "outputs": []
    },
    {
      "cell_type": "markdown",
      "source": [
        "min\n",
        "\n"
      ],
      "metadata": {
        "id": "yuAPyMgW6VPK"
      }
    },
    {
      "cell_type": "code",
      "source": [
        "min(ybp['whiskers'][0].get_xdata())\n"
      ],
      "metadata": {
        "colab": {
          "base_uri": "https://localhost:8080/"
        },
        "id": "xcpHQz926Xe3",
        "outputId": "23a14d1c-4921-4616-e145-1c6a127279b3"
      },
      "execution_count": 33,
      "outputs": [
        {
          "output_type": "execute_result",
          "data": {
            "text/plain": [
              "4.3"
            ]
          },
          "metadata": {},
          "execution_count": 33
        }
      ]
    },
    {
      "cell_type": "markdown",
      "source": [
        "max\n",
        "\n"
      ],
      "metadata": {
        "id": "9lz8nez06aMv"
      }
    },
    {
      "cell_type": "code",
      "source": [
        "max(ybp['whiskers'][1].get_xdata())\n"
      ],
      "metadata": {
        "colab": {
          "base_uri": "https://localhost:8080/"
        },
        "id": "X8KsZtsx6bOO",
        "outputId": "7e1cad07-bbf4-438c-92c2-513bd4dd69f2"
      },
      "execution_count": 34,
      "outputs": [
        {
          "output_type": "execute_result",
          "data": {
            "text/plain": [
              "7.9"
            ]
          },
          "metadata": {},
          "execution_count": 34
        }
      ]
    },
    {
      "cell_type": "code",
      "source": [
        "ybp['caps'][1].get_xdata()\n"
      ],
      "metadata": {
        "colab": {
          "base_uri": "https://localhost:8080/"
        },
        "id": "LdIsNvb86clQ",
        "outputId": "4ab5eb2f-4f7a-4340-b4ac-1a450ce4609c"
      },
      "execution_count": 35,
      "outputs": [
        {
          "output_type": "execute_result",
          "data": {
            "text/plain": [
              "array([7.9, 7.9])"
            ]
          },
          "metadata": {},
          "execution_count": 35
        }
      ]
    },
    {
      "cell_type": "markdown",
      "source": [
        "q1"
      ],
      "metadata": {
        "id": "n_cm52f16f0u"
      }
    },
    {
      "cell_type": "code",
      "source": [
        "ybp['boxes'][0].get_xdata()\n"
      ],
      "metadata": {
        "colab": {
          "base_uri": "https://localhost:8080/"
        },
        "id": "c2EPRrNR6eqz",
        "outputId": "6904a91f-75e8-4c14-f1a8-a3f5ae1ca191"
      },
      "execution_count": 36,
      "outputs": [
        {
          "output_type": "execute_result",
          "data": {
            "text/plain": [
              "array([5.1, 5.1, 6.4, 6.4, 5.1])"
            ]
          },
          "metadata": {},
          "execution_count": 36
        }
      ]
    },
    {
      "cell_type": "code",
      "source": [
        "ybp['boxes'][0].get_xdata()[0]\n"
      ],
      "metadata": {
        "colab": {
          "base_uri": "https://localhost:8080/"
        },
        "id": "INcdljWV6nXl",
        "outputId": "aa35ef65-cda4-4c0e-9fb3-7f00af84a470"
      },
      "execution_count": 37,
      "outputs": [
        {
          "output_type": "execute_result",
          "data": {
            "text/plain": [
              "5.1"
            ]
          },
          "metadata": {},
          "execution_count": 37
        }
      ]
    },
    {
      "cell_type": "code",
      "source": [
        "max(ybp['whiskers'][0].get_xdata())\n"
      ],
      "metadata": {
        "colab": {
          "base_uri": "https://localhost:8080/"
        },
        "id": "NVJH9R3E6ow2",
        "outputId": "56759e1d-40fc-424c-e4d3-7977f1ba591e"
      },
      "execution_count": 38,
      "outputs": [
        {
          "output_type": "execute_result",
          "data": {
            "text/plain": [
              "5.1"
            ]
          },
          "metadata": {},
          "execution_count": 38
        }
      ]
    },
    {
      "cell_type": "code",
      "source": [
        "plt.boxplot(df['SepalLength'],vert=False,showmeans=True)\n"
      ],
      "metadata": {
        "colab": {
          "base_uri": "https://localhost:8080/",
          "height": 404
        },
        "id": "8LBcdmFS6sH8",
        "outputId": "0783478b-8a09-4abe-a61a-bf43fcf3b5bf"
      },
      "execution_count": 39,
      "outputs": [
        {
          "output_type": "execute_result",
          "data": {
            "text/plain": [
              "{'whiskers': [<matplotlib.lines.Line2D at 0x7f8a58b24310>,\n",
              "  <matplotlib.lines.Line2D at 0x7f8a58b24f10>],\n",
              " 'caps': [<matplotlib.lines.Line2D at 0x7f8a58be1dd0>,\n",
              "  <matplotlib.lines.Line2D at 0x7f8a58be1cd0>],\n",
              " 'boxes': [<matplotlib.lines.Line2D at 0x7f8a58b24bd0>],\n",
              " 'medians': [<matplotlib.lines.Line2D at 0x7f8a58be1d10>],\n",
              " 'fliers': [<matplotlib.lines.Line2D at 0x7f8a59316990>],\n",
              " 'means': [<matplotlib.lines.Line2D at 0x7f8a58a686d0>]}"
            ]
          },
          "metadata": {},
          "execution_count": 39
        },
        {
          "output_type": "display_data",
          "data": {
            "text/plain": [
              "<Figure size 432x288 with 1 Axes>"
            ],
            "image/png": "[encoded data removed]"
          },
          "metadata": {
            "needs_background": "light"
          }
        }
      ]
    },
    {
      "cell_type": "code",
      "source": [
        "plt.boxplot(df['SepalLength'],vert=False,meanline=True,showmeans=True)\n"
      ],
      "metadata": {
        "colab": {
          "base_uri": "https://localhost:8080/",
          "height": 404
        },
        "id": "CL2ASUGX6vTg",
        "outputId": "cf4dc306-7487-4697-801b-c5d8855c0aab"
      },
      "execution_count": 40,
      "outputs": [
        {
          "output_type": "execute_result",
          "data": {
            "text/plain": [
              "{'whiskers': [<matplotlib.lines.Line2D at 0x7f8a58adf550>,\n",
              "  <matplotlib.lines.Line2D at 0x7f8a58adfa90>],\n",
              " 'caps': [<matplotlib.lines.Line2D at 0x7f8a58adffd0>,\n",
              "  <matplotlib.lines.Line2D at 0x7f8a58ac2550>],\n",
              " 'boxes': [<matplotlib.lines.Line2D at 0x7f8a58adf050>],\n",
              " 'medians': [<matplotlib.lines.Line2D at 0x7f8a58ac2ad0>],\n",
              " 'fliers': [<matplotlib.lines.Line2D at 0x7f8a5889b590>],\n",
              " 'means': [<matplotlib.lines.Line2D at 0x7f8a5889b050>]}"
            ]
          },
          "metadata": {},
          "execution_count": 40
        },
        {
          "output_type": "display_data",
          "data": {
            "text/plain": [
              "<Figure size 432x288 with 1 Axes>"
            ],
            "image/png": "[encoded data removed]"
          },
          "metadata": {
            "needs_background": "light"
          }
        }
      ]
    },
    {
      "cell_type": "code",
      "source": [
        "plt.boxplot(df['SepalLength'],vert=False,showmeans=True,meanprops={'marker':'o'})\n"
      ],
      "metadata": {
        "colab": {
          "base_uri": "https://localhost:8080/",
          "height": 404
        },
        "id": "Eqi7Iz2D6xHk",
        "outputId": "d71186b1-2e1f-4d91-8dc7-30e3b21d1515"
      },
      "execution_count": 41,
      "outputs": [
        {
          "output_type": "execute_result",
          "data": {
            "text/plain": [
              "{'whiskers': [<matplotlib.lines.Line2D at 0x7f8a58990490>,\n",
              "  <matplotlib.lines.Line2D at 0x7f8a589909d0>],\n",
              " 'caps': [<matplotlib.lines.Line2D at 0x7f8a58990f10>,\n",
              "  <matplotlib.lines.Line2D at 0x7f8a58983490>],\n",
              " 'boxes': [<matplotlib.lines.Line2D at 0x7f8a58997f50>],\n",
              " 'medians': [<matplotlib.lines.Line2D at 0x7f8a58983a10>],\n",
              " 'fliers': [<matplotlib.lines.Line2D at 0x7f8a589a94d0>],\n",
              " 'means': [<matplotlib.lines.Line2D at 0x7f8a58983f50>]}"
            ]
          },
          "metadata": {},
          "execution_count": 41
        },
        {
          "output_type": "display_data",
          "data": {
            "text/plain": [
              "<Figure size 432x288 with 1 Axes>"
            ],
            "image/png": "[encoded data removed]"
          },
          "metadata": {
            "needs_background": "light"
          }
        }
      ]
    },
    {
      "cell_type": "markdown",
      "source": [
        "#Quiz กลุ่มfinal\n",
        "- เขียน function ที่รับ input เป็น output ของ boxplot แล้ว แสดงค่า min, max, q1, q2, q3\n",
        "- วาด boxplot เปรียบเทียบ การกระจายตัวของข้อมูล PetalLength ของดอก iris ทั้ง 3 ชนิด"
      ],
      "metadata": {
        "id": "F1Lmij0e7ISl"
      }
    },
    {
      "cell_type": "code",
      "source": [
        "bb = plt.boxplot(df['SepalLength'])"
      ],
      "metadata": {
        "colab": {
          "base_uri": "https://localhost:8080/",
          "height": 265
        },
        "id": "APLQPqDa7Plt",
        "outputId": "a37d2cd7-d2db-44b1-c7a1-d37ba86e5933"
      },
      "execution_count": 42,
      "outputs": [
        {
          "output_type": "display_data",
          "data": {
            "text/plain": [
              "<Figure size 432x288 with 1 Axes>"
            ],
            "image/png": "[encoded data removed]"
          },
          "metadata": {
            "needs_background": "light"
          }
        }
      ]
    },
    {
      "cell_type": "code",
      "source": [
        "def detail_boxreturn(boxreturn):\n",
        "    q1 = boxreturn['boxes'][0].get_ydata()[0]\n",
        "    q2 = boxreturn['medians'][0].get_ydata()[0]\n",
        "    q3 = boxreturn['boxes'][0].get_ydata()[2]\n",
        "    minv = min(boxreturn['whiskers'][0].get_ydata())\n",
        "    maxv = max(boxreturn['whiskers'][1].get_ydata())\n",
        "    print(f'min = {minv}, max = {maxv}, q1 = {q1}, q2 = {q2}, q3 = {q3}')"
      ],
      "metadata": {
        "id": "61W0A1VX7Rbo"
      },
      "execution_count": 43,
      "outputs": []
    },
    {
      "cell_type": "code",
      "source": [
        "detail_boxreturn(bb)\n"
      ],
      "metadata": {
        "colab": {
          "base_uri": "https://localhost:8080/"
        },
        "id": "nswpjsiM7SfR",
        "outputId": "cd23a8c1-4bbf-4052-dc29-d294abe14da5"
      },
      "execution_count": 44,
      "outputs": [
        {
          "output_type": "stream",
          "name": "stdout",
          "text": [
            "min = 4.3, max = 7.9, q1 = 5.1, q2 = 5.8, q3 = 6.4\n"
          ]
        }
      ]
    },
    {
      "cell_type": "code",
      "source": [
        "bb2 = plt.boxplot(df['SepalLength'],vert=False)\n"
      ],
      "metadata": {
        "id": "a13tN4Br7UPx"
      },
      "execution_count": null,
      "outputs": []
    },
    {
      "cell_type": "code",
      "source": [
        "detail_boxreturn(bb2)\n"
      ],
      "metadata": {
        "colab": {
          "base_uri": "https://localhost:8080/"
        },
        "id": "LPf-QYao7Vrm",
        "outputId": "29aab72e-552c-4f07-e626-8eab3221739a"
      },
      "execution_count": 46,
      "outputs": [
        {
          "output_type": "stream",
          "name": "stdout",
          "text": [
            "min = 1.0, max = 1.0, q1 = 0.925, q2 = 0.925, q3 = 1.075\n"
          ]
        }
      ]
    },
    {
      "cell_type": "code",
      "source": [
        "def detail_boxreturn_v2(boxreturn, vert=True):\n",
        "    if vert == True:\n",
        "        q1 = boxreturn['boxes'][0].get_ydata()[0]\n",
        "        q2 = boxreturn['medians'][0].get_ydata()[0]\n",
        "        q3 = boxreturn['boxes'][0].get_ydata()[2]\n",
        "        minv = min(boxreturn['whiskers'][0].get_ydata())\n",
        "        maxv = max(boxreturn['whiskers'][1].get_ydata())     \n",
        "    else: #vert == False\n",
        "        q1 = boxreturn['boxes'][0].get_xdata()[0]\n",
        "        q2 = boxreturn['medians'][0].get_xdata()[0]\n",
        "        q3 = boxreturn['boxes'][0].get_xdata()[2]\n",
        "        minv = min(boxreturn['whiskers'][0].get_xdata())\n",
        "        maxv = max(boxreturn['whiskers'][1].get_xdata())   \n",
        "\n",
        "    print(f'min = {minv}, max = {maxv}, q1 = {q1}, q2 = {q2}, q3 = {q3}')"
      ],
      "metadata": {
        "id": "k78E-9c77Y6r"
      },
      "execution_count": 47,
      "outputs": []
    },
    {
      "cell_type": "code",
      "source": [
        "detail_boxreturn_v2(bb)\n"
      ],
      "metadata": {
        "colab": {
          "base_uri": "https://localhost:8080/"
        },
        "id": "JNPkM_2O7Z-y",
        "outputId": "a5484cb6-da00-4b72-e531-ec32d032f58c"
      },
      "execution_count": 48,
      "outputs": [
        {
          "output_type": "stream",
          "name": "stdout",
          "text": [
            "min = 4.3, max = 7.9, q1 = 5.1, q2 = 5.8, q3 = 6.4\n"
          ]
        }
      ]
    },
    {
      "cell_type": "code",
      "source": [
        "plt.boxplot(df['PetalLength'][:50],positions = [1] )\n",
        "plt.boxplot(df['PetalLength'][50:100],positions = [2] )\n",
        "plt.boxplot(df['PetalLength'][100:150],positions = [3] );"
      ],
      "metadata": {
        "colab": {
          "base_uri": "https://localhost:8080/",
          "height": 265
        },
        "id": "n6RvL5617bgr",
        "outputId": "2051d3f1-676d-4964-c840-90ffab3d69e0"
      },
      "execution_count": 49,
      "outputs": [
        {
          "output_type": "display_data",
          "data": {
            "text/plain": [
              "<Figure size 432x288 with 1 Axes>"
            ],
            "image/png": "[encoded data removed]"
          },
          "metadata": {
            "needs_background": "light"
          }
        }
      ]
    },
    {
      "cell_type": "markdown",
      "source": [
        "#Violin plot\n"
      ],
      "metadata": {
        "id": "wf--eLa07esT"
      }
    },
    {
      "cell_type": "code",
      "source": [
        "bb = plt.boxplot(df['PetalLength'][:50])\n"
      ],
      "metadata": {
        "id": "6tsFHp7S7gRq"
      },
      "execution_count": null,
      "outputs": []
    },
    {
      "cell_type": "code",
      "source": [
        "plt.violinplot(df['PetalLength'][:50])\n"
      ],
      "metadata": {
        "id": "iqD_Uczb7hx-"
      },
      "execution_count": null,
      "outputs": []
    },
    {
      "cell_type": "code",
      "source": [
        "plt.subplot(1,2,1)\n",
        "bb = plt.boxplot(df['PetalLength'][:50])\n",
        "q1 = bb['boxes'][0].get_ydata()[0]\n",
        "q2 = bb['medians'][0].get_ydata()[0]\n",
        "q3 = bb['boxes'][0].get_ydata()[2]\n",
        "plt.subplot(1,2,2)\n",
        "vi = plt.violinplot(df['PetalLength'][:50],showmedians=True)"
      ],
      "metadata": {
        "colab": {
          "base_uri": "https://localhost:8080/",
          "height": 265
        },
        "id": "KSYG5n2T7jc3",
        "outputId": "d2f1b76e-e084-4b59-cede-a2004debe0bb"
      },
      "execution_count": 52,
      "outputs": [
        {
          "output_type": "display_data",
          "data": {
            "text/plain": [
              "<Figure size 432x288 with 2 Axes>"
            ],
            "image/png": "[encoded data removed]"
          },
          "metadata": {
            "needs_background": "light"
          }
        }
      ]
    },
    {
      "cell_type": "markdown",
      "source": [
        "#Quiz 6\n",
        "- quiz 6\n",
        "ให้เปรียบเทียบการกระจายตัวของราคาบ้านเดี่ยวและคอนโด ระหว่างจังหวัด กทม ขอนแก่น และเชียงใหม่ (ด้วย boxplot)\n",
        "![gege.jfif](data:image/jpeg;base64,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)"
      ],
      "metadata": {
        "id": "CmL8Hlo17sK3"
      }
    },
    {
      "cell_type": "code",
      "source": [
        "from google.colab import drive\n",
        "drive.mount('/content/drive')"
      ],
      "metadata": {
        "id": "yPODybzk8mpX"
      },
      "execution_count": null,
      "outputs": []
    },
    {
      "cell_type": "code",
      "source": [
        "unit = pd.read_csv('/content/drive/MyDrive/dataviz_2022/opendata_unittype.csv')\n",
        "unit.head(10)"
      ],
      "metadata": {
        "id": "spYaoCxp9t97"
      },
      "execution_count": null,
      "outputs": []
    },
    {
      "cell_type": "code",
      "source": [
        "project = pd.read_csv('/content/drive/MyDrive/dataviz_2022/opendata_project.csv')\n",
        "project.head()"
      ],
      "metadata": {
        "id": "V2pNzyW-90-T"
      },
      "execution_count": null,
      "outputs": []
    },
    {
      "cell_type": "code",
      "source": [
        "data1 = unit.merge(project, left_on='project_id', right_on='project_id')\n",
        "data1.head()"
      ],
      "metadata": {
        "colab": {
          "base_uri": "https://localhost:8080/",
          "height": 386
        },
        "id": "JQZAXOAV_hCd",
        "outputId": "998fc2a7-a86a-4d1a-9dbd-be15f4767871"
      },
      "execution_count": 65,
      "outputs": [
        {
          "output_type": "execute_result",
          "data": {
            "text/plain": [
              "   row_number_x     unittype_id    project_id           name_th_x  \\\n",
              "0         27501   unittype_9565  project_2446           2 Bedroom   \n",
              "1         38108  unittype_18502  project_2446           1 Bedroom   \n",
              "2          2396   unittype_9564  project_2446      1 Bedroom Plus   \n",
              "3         28777  unittype_10267  project_3543  บ้านแฝดสองชั้น Z-2   \n",
              "4         28777  unittype_10267  project_3543  บ้านแฝดสองชั้น Z-2   \n",
              "\n",
              "   propertytype_id_x propertytype_name_en_x propertytype_name_th_x  \\\n",
              "0                  2                  Condo                  คอนโด   \n",
              "1                  2                  Condo                  คอนโด   \n",
              "2                  2                  Condo                  คอนโด   \n",
              "3              20000             Twin house                บ้านแฝด   \n",
              "4              20000             Twin house                บ้านแฝด   \n",
              "\n",
              "   area_total_min_wa  area_usable_min  price_min_x  ...  facility_meeting  \\\n",
              "0                NaN             37.3    2500000.0  ...               NaN   \n",
              "1                NaN             24.0    1390000.0  ...               NaN   \n",
              "2                NaN             29.0    1990000.0  ...               NaN   \n",
              "3               40.0            150.0    2390000.0  ...               NaN   \n",
              "4               40.0            150.0    2390000.0  ...               NaN   \n",
              "\n",
              "   facility_park  facility_playground  facility_pool  facility_security  \\\n",
              "0            1.0                  NaN            1.0                1.0   \n",
              "1            1.0                  NaN            1.0                1.0   \n",
              "2            1.0                  NaN            1.0                1.0   \n",
              "3            NaN                  NaN            NaN                NaN   \n",
              "4            NaN                  NaN            NaN                NaN   \n",
              "\n",
              "        date_created_y          date_finish       date_updated_y  source_y  \\\n",
              "0  2016-11-10 16:56:40  2018-01-01 07:00:00  2021-11-19 18:00:09    baania   \n",
              "1  2016-11-10 16:56:40  2018-01-01 07:00:00  2021-11-19 18:00:09    baania   \n",
              "2  2016-11-10 16:56:40  2018-01-01 07:00:00  2021-11-19 18:00:09    baania   \n",
              "3  2017-01-24 13:55:45  2022-01-01 07:00:00  2022-01-27 14:30:04    baania   \n",
              "4  2017-01-24 13:55:45  2022-01-01 07:00:00  2022-01-27 14:30:04    baania   \n",
              "\n",
              "                                         url_project  \n",
              "0  https://baania.com/th/project/เฟ-ลิค-คอนโด-ลาด...  \n",
              "1  https://baania.com/th/project/เฟ-ลิค-คอนโด-ลาด...  \n",
              "2  https://baania.com/th/project/เฟ-ลิค-คอนโด-ลาด...  \n",
              "3  https://baania.com/th/project/เซน-บาย-ศิวาลัย-...  \n",
              "4  https://baania.com/th/project/เซน-บาย-ศิวาลัย-...  \n",
              "\n",
              "[5 rows x 72 columns]"
            ],
            "text/html": [
              "\n",
              "  <div id=\"df-f60de52a-83e6-47a6-a501-8298948609aa\">\n",
              "    <div class=\"colab-df-container\">\n",
              "      <div>\n",
              "<style scoped>\n",
              "    .dataframe tbody tr th:only-of-type {\n",
              "        vertical-align: middle;\n",
              "    }\n",
              "\n",
              "    .dataframe tbody tr th {\n",
              "        vertical-align: top;\n",
              "    }\n",
              "\n",
              "    .dataframe thead th {\n",
              "        text-align: right;\n",
              "    }\n",
              "</style>\n",
              "<table border=\"1\" class=\"dataframe\">\n",
              "  <thead>\n",
              "    <tr style=\"text-align: right;\">\n",
              "      <th></th>\n",
              "      <th>row_number_x</th>\n",
              "      <th>unittype_id</th>\n",
              "      <th>project_id</th>\n",
              "      <th>name_th_x</th>\n",
              "      <th>propertytype_id_x</th>\n",
              "      <th>propertytype_name_en_x</th>\n",
              "      <th>propertytype_name_th_x</th>\n",
              "      <th>area_total_min_wa</th>\n",
              "      <th>area_usable_min</th>\n",
              "      <th>price_min_x</th>\n",
              "      <th>...</th>\n",
              "      <th>facility_meeting</th>\n",
              "      <th>facility_park</th>\n",
              "      <th>facility_playground</th>\n",
              "      <th>facility_pool</th>\n",
              "      <th>facility_security</th>\n",
              "      <th>date_created_y</th>\n",
              "      <th>date_finish</th>\n",
              "      <th>date_updated_y</th>\n",
              "      <th>source_y</th>\n",
              "      <th>url_project</th>\n",
              "    </tr>\n",
              "  </thead>\n",
              "  <tbody>\n",
              "    <tr>\n",
              "      <th>0</th>\n",
              "      <td>27501</td>\n",
              "      <td>unittype_9565</td>\n",
              "      <td>project_2446</td>\n",
              "      <td>2 Bedroom</td>\n",
              "      <td>2</td>\n",
              "      <td>Condo</td>\n",
              "      <td>คอนโด</td>\n",
              "      <td>NaN</td>\n",
              "      <td>37.3</td>\n",
              "      <td>2500000.0</td>\n",
              "      <td>...</td>\n",
              "      <td>NaN</td>\n",
              "      <td>1.0</td>\n",
              "      <td>NaN</td>\n",
              "      <td>1.0</td>\n",
              "      <td>1.0</td>\n",
              "      <td>2016-11-10 16:56:40</td>\n",
              "      <td>2018-01-01 07:00:00</td>\n",
              "      <td>2021-11-19 18:00:09</td>\n",
              "      <td>baania</td>\n",
              "      <td>https://baania.com/th/project/เฟ-ลิค-คอนโด-ลาด...</td>\n",
              "    </tr>\n",
              "    <tr>\n",
              "      <th>1</th>\n",
              "      <td>38108</td>\n",
              "      <td>unittype_18502</td>\n",
              "      <td>project_2446</td>\n",
              "      <td>1 Bedroom</td>\n",
              "      <td>2</td>\n",
              "      <td>Condo</td>\n",
              "      <td>คอนโด</td>\n",
              "      <td>NaN</td>\n",
              "      <td>24.0</td>\n",
              "      <td>1390000.0</td>\n",
              "      <td>...</td>\n",
              "      <td>NaN</td>\n",
              "      <td>1.0</td>\n",
              "      <td>NaN</td>\n",
              "      <td>1.0</td>\n",
              "      <td>1.0</td>\n",
              "      <td>2016-11-10 16:56:40</td>\n",
              "      <td>2018-01-01 07:00:00</td>\n",
              "      <td>2021-11-19 18:00:09</td>\n",
              "      <td>baania</td>\n",
              "      <td>https://baania.com/th/project/เฟ-ลิค-คอนโด-ลาด...</td>\n",
              "    </tr>\n",
              "    <tr>\n",
              "      <th>2</th>\n",
              "      <td>2396</td>\n",
              "      <td>unittype_9564</td>\n",
              "      <td>project_2446</td>\n",
              "      <td>1 Bedroom Plus</td>\n",
              "      <td>2</td>\n",
              "      <td>Condo</td>\n",
              "      <td>คอนโด</td>\n",
              "      <td>NaN</td>\n",
              "      <td>29.0</td>\n",
              "      <td>1990000.0</td>\n",
              "      <td>...</td>\n",
              "      <td>NaN</td>\n",
              "      <td>1.0</td>\n",
              "      <td>NaN</td>\n",
              "      <td>1.0</td>\n",
              "      <td>1.0</td>\n",
              "      <td>2016-11-10 16:56:40</td>\n",
              "      <td>2018-01-01 07:00:00</td>\n",
              "      <td>2021-11-19 18:00:09</td>\n",
              "      <td>baania</td>\n",
              "      <td>https://baania.com/th/project/เฟ-ลิค-คอนโด-ลาด...</td>\n",
              "    </tr>\n",
              "    <tr>\n",
              "      <th>3</th>\n",
              "      <td>28777</td>\n",
              "      <td>unittype_10267</td>\n",
              "      <td>project_3543</td>\n",
              "      <td>บ้านแฝดสองชั้น Z-2</td>\n",
              "      <td>20000</td>\n",
              "      <td>Twin house</td>\n",
              "      <td>บ้านแฝด</td>\n",
              "      <td>40.0</td>\n",
              "      <td>150.0</td>\n",
              "      <td>2390000.0</td>\n",
              "      <td>...</td>\n",
              "      <td>NaN</td>\n",
              "      <td>NaN</td>\n",
              "      <td>NaN</td>\n",
              "      <td>NaN</td>\n",
              "      <td>NaN</td>\n",
              "      <td>2017-01-24 13:55:45</td>\n",
              "      <td>2022-01-01 07:00:00</td>\n",
              "      <td>2022-01-27 14:30:04</td>\n",
              "      <td>baania</td>\n",
              "      <td>https://baania.com/th/project/เซน-บาย-ศิวาลัย-...</td>\n",
              "    </tr>\n",
              "    <tr>\n",
              "      <th>4</th>\n",
              "      <td>28777</td>\n",
              "      <td>unittype_10267</td>\n",
              "      <td>project_3543</td>\n",
              "      <td>บ้านแฝดสองชั้น Z-2</td>\n",
              "      <td>20000</td>\n",
              "      <td>Twin house</td>\n",
              "      <td>บ้านแฝด</td>\n",
              "      <td>40.0</td>\n",
              "      <td>150.0</td>\n",
              "      <td>2390000.0</td>\n",
              "      <td>...</td>\n",
              "      <td>NaN</td>\n",
              "      <td>NaN</td>\n",
              "      <td>NaN</td>\n",
              "      <td>NaN</td>\n",
              "      <td>NaN</td>\n",
              "      <td>2017-01-24 13:55:45</td>\n",
              "      <td>2022-01-01 07:00:00</td>\n",
              "      <td>2022-01-27 14:30:04</td>\n",
              "      <td>baania</td>\n",
              "      <td>https://baania.com/th/project/เซน-บาย-ศิวาลัย-...</td>\n",
              "    </tr>\n",
              "  </tbody>\n",
              "</table>\n",
              "<p>5 rows × 72 columns</p>\n",
              "</div>\n",
              "      <button class=\"colab-df-convert\" onclick=\"convertToInteractive('df-f60de52a-83e6-47a6-a501-8298948609aa')\"\n",
              "              title=\"Convert this dataframe to an interactive table.\"\n",
              "              style=\"display:none;\">\n",
              "        \n",
              "  <svg xmlns=\"http://www.w3.org/2000/svg\" height=\"24px\"viewBox=\"0 0 24 24\"\n",
              "       width=\"24px\">\n",
              "    <path d=\"M0 0h24v24H0V0z\" fill=\"none\"/>\n",
              "    <path d=\"M18.56 5.44l.94 2.06.94-2.06 2.06-.94-2.06-.94-.94-2.06-.94 2.06-2.06.94zm-11 1L8.5 8.5l.94-2.06 2.06-.94-2.06-.94L8.5 2.5l-.94 2.06-2.06.94zm10 10l.94 2.06.94-2.06 2.06-.94-2.06-.94-.94-2.06-.94 2.06-2.06.94z\"/><path d=\"M17.41 7.96l-1.37-1.37c-.4-.4-.92-.59-1.43-.59-.52 0-1.04.2-1.43.59L10.3 9.45l-7.72 7.72c-.78.78-.78 2.05 0 2.83L4 21.41c.39.39.9.59 1.41.59.51 0 1.02-.2 1.41-.59l7.78-7.78 2.81-2.81c.8-.78.8-2.07 0-2.86zM5.41 20L4 18.59l7.72-7.72 1.47 1.35L5.41 20z\"/>\n",
              "  </svg>\n",
              "      </button>\n",
              "      \n",
              "  <style>\n",
              "    .colab-df-container {\n",
              "      display:flex;\n",
              "      flex-wrap:wrap;\n",
              "      gap: 12px;\n",
              "    }\n",
              "\n",
              "    .colab-df-convert {\n",
              "      background-color: #E8F0FE;\n",
              "      border: none;\n",
              "      border-radius: 50%;\n",
              "      cursor: pointer;\n",
              "      display: none;\n",
              "      fill: #1967D2;\n",
              "      height: 32px;\n",
              "      padding: 0 0 0 0;\n",
              "      width: 32px;\n",
              "    }\n",
              "\n",
              "    .colab-df-convert:hover {\n",
              "      background-color: #E2EBFA;\n",
              "      box-shadow: 0px 1px 2px rgba(60, 64, 67, 0.3), 0px 1px 3px 1px rgba(60, 64, 67, 0.15);\n",
              "      fill: #174EA6;\n",
              "    }\n",
              "\n",
              "    [theme=dark] .colab-df-convert {\n",
              "      background-color: #3B4455;\n",
              "      fill: #D2E3FC;\n",
              "    }\n",
              "\n",
              "    [theme=dark] .colab-df-convert:hover {\n",
              "      background-color: #434B5C;\n",
              "      box-shadow: 0px 1px 3px 1px rgba(0, 0, 0, 0.15);\n",
              "      filter: drop-shadow(0px 1px 2px rgba(0, 0, 0, 0.3));\n",
              "      fill: #FFFFFF;\n",
              "    }\n",
              "  </style>\n",
              "\n",
              "      <script>\n",
              "        const buttonEl =\n",
              "          document.querySelector('#df-f60de52a-83e6-47a6-a501-8298948609aa button.colab-df-convert');\n",
              "        buttonEl.style.display =\n",
              "          google.colab.kernel.accessAllowed ? 'block' : 'none';\n",
              "\n",
              "        async function convertToInteractive(key) {\n",
              "          const element = document.querySelector('#df-f60de52a-83e6-47a6-a501-8298948609aa');\n",
              "          const dataTable =\n",
              "            await google.colab.kernel.invokeFunction('convertToInteractive',\n",
              "                                                     [key], {});\n",
              "          if (!dataTable) return;\n",
              "\n",
              "          const docLinkHtml = 'Like what you see? Visit the ' +\n",
              "            '<a target=\"_blank\" href=https://colab.research.google.com/notebooks/data_table.ipynb>data table notebook</a>'\n",
              "            + ' to learn more about interactive tables.';\n",
              "          element.innerHTML = '';\n",
              "          dataTable['output_type'] = 'display_data';\n",
              "          await google.colab.output.renderOutput(dataTable, element);\n",
              "          const docLink = document.createElement('div');\n",
              "          docLink.innerHTML = docLinkHtml;\n",
              "          element.appendChild(docLink);\n",
              "        }\n",
              "      </script>\n",
              "    </div>\n",
              "  </div>\n",
              "  "
            ]
          },
          "metadata": {},
          "execution_count": 65
        }
      ]
    },
    {
      "cell_type": "code",
      "source": [
        "a = data1[['province_name_en','price_min_x','propertytype_name_en_x']]\n",
        "a"
      ],
      "metadata": {
        "id": "c04s7nEaFd1M"
      },
      "execution_count": null,
      "outputs": []
    },
    {
      "cell_type": "code",
      "source": [
        "a.isnull().any()\n"
      ],
      "metadata": {
        "colab": {
          "base_uri": "https://localhost:8080/"
        },
        "id": "WWpCH0SoFy11",
        "outputId": "43d102cb-134d-4854-b254-09a274e7951a"
      },
      "execution_count": 67,
      "outputs": [
        {
          "output_type": "execute_result",
          "data": {
            "text/plain": [
              "province_name_en           True\n",
              "price_min_x                True\n",
              "propertytype_name_en_x    False\n",
              "dtype: bool"
            ]
          },
          "metadata": {},
          "execution_count": 67
        }
      ]
    },
    {
      "cell_type": "code",
      "source": [
        "a1= a.dropna() # สร้างตัวแปร a1 โดยตัดค่า missing ออกจาก a\n",
        "a1 # แสดงผล"
      ],
      "metadata": {
        "id": "8JafzKTSF0hN"
      },
      "execution_count": null,
      "outputs": []
    },
    {
      "cell_type": "code",
      "source": [
        "a1.isnull().any() # ตรวจสอบค่าmissing ในตาราง a1 อีกครั้ง\n"
      ],
      "metadata": {
        "id": "PODyHeNhF0ZD"
      },
      "execution_count": null,
      "outputs": []
    },
    {
      "cell_type": "code",
      "source": [
        "set(a1['province_name_en'])\n"
      ],
      "metadata": {
        "id": "ClgGGf3AF4RO"
      },
      "execution_count": null,
      "outputs": []
    },
    {
      "cell_type": "code",
      "source": [
        "set(a1['propertytype_name_en_x'])\n"
      ],
      "metadata": {
        "id": "Nm8EDbrFF76D"
      },
      "execution_count": null,
      "outputs": []
    },
    {
      "cell_type": "code",
      "source": [
        "b = a1[a1['propertytype_name_en_x']=='Detached House']\n",
        "b\n"
      ],
      "metadata": {
        "id": "xEPuOHvpF_MX"
      },
      "execution_count": null,
      "outputs": []
    },
    {
      "cell_type": "code",
      "source": [
        "aa = b[b['province_name_en']=='Khon Kaen']\n",
        "aa"
      ],
      "metadata": {
        "id": "jPxhoDvoGPtc"
      },
      "execution_count": null,
      "outputs": []
    },
    {
      "cell_type": "code",
      "source": [
        "bb = b[b['province_name_en']=='Bangkok']\n",
        "bb"
      ],
      "metadata": {
        "id": "WR53NRluGSZ_"
      },
      "execution_count": null,
      "outputs": []
    },
    {
      "cell_type": "code",
      "source": [
        "cc = b[b['province_name_en']=='Chiang Mai']\n",
        "cc"
      ],
      "metadata": {
        "id": "byYS7_NWGVMK"
      },
      "execution_count": null,
      "outputs": []
    },
    {
      "cell_type": "code",
      "source": [
        "c = a1[a1['propertytype_name_en_x']=='Condo']\n",
        "c"
      ],
      "metadata": {
        "id": "MeeBMdM6GXMO"
      },
      "execution_count": null,
      "outputs": []
    },
    {
      "cell_type": "code",
      "source": [
        "aa1 = c[c['province_name_en']=='Khon Kaen']\n",
        "aa1"
      ],
      "metadata": {
        "id": "YIi1KUVQGZIo"
      },
      "execution_count": null,
      "outputs": []
    },
    {
      "cell_type": "code",
      "source": [
        "bb1 = c[c['province_name_en']=='Bangkok']\n",
        "bb1"
      ],
      "metadata": {
        "id": "zS6fdlQ1Gbe2"
      },
      "execution_count": null,
      "outputs": []
    },
    {
      "cell_type": "code",
      "source": [
        "cc1 = c[c['province_name_en']=='Chiang Mai']\n",
        "cc1"
      ],
      "metadata": {
        "colab": {
          "base_uri": "https://localhost:8080/",
          "height": 424
        },
        "id": "U5KYSeTlGgaf",
        "outputId": "769cddf2-1222-433a-d8c8-e985ae90a921"
      },
      "execution_count": 79,
      "outputs": [
        {
          "output_type": "execute_result",
          "data": {
            "text/plain": [
              "      province_name_en  price_min_x propertytype_name_en_x\n",
              "19          Chiang Mai    1600000.0                  Condo\n",
              "119         Chiang Mai    3180000.0                  Condo\n",
              "123         Chiang Mai    4900000.0                  Condo\n",
              "124         Chiang Mai    3981575.0                  Condo\n",
              "155         Chiang Mai    2900000.0                  Condo\n",
              "...                ...          ...                    ...\n",
              "52766       Chiang Mai     690000.0                  Condo\n",
              "52796       Chiang Mai    2800000.0                  Condo\n",
              "53282       Chiang Mai     699000.0                  Condo\n",
              "53357       Chiang Mai     700000.0                  Condo\n",
              "53537       Chiang Mai    2192000.0                  Condo\n",
              "\n",
              "[635 rows x 3 columns]"
            ],
            "text/html": [
              "\n",
              "  <div id=\"df-ad176c6c-2346-46ca-bbb6-22d54fc1da39\">\n",
              "    <div class=\"colab-df-container\">\n",
              "      <div>\n",
              "<style scoped>\n",
              "    .dataframe tbody tr th:only-of-type {\n",
              "        vertical-align: middle;\n",
              "    }\n",
              "\n",
              "    .dataframe tbody tr th {\n",
              "        vertical-align: top;\n",
              "    }\n",
              "\n",
              "    .dataframe thead th {\n",
              "        text-align: right;\n",
              "    }\n",
              "</style>\n",
              "<table border=\"1\" class=\"dataframe\">\n",
              "  <thead>\n",
              "    <tr style=\"text-align: right;\">\n",
              "      <th></th>\n",
              "      <th>province_name_en</th>\n",
              "      <th>price_min_x</th>\n",
              "      <th>propertytype_name_en_x</th>\n",
              "    </tr>\n",
              "  </thead>\n",
              "  <tbody>\n",
              "    <tr>\n",
              "      <th>19</th>\n",
              "      <td>Chiang Mai</td>\n",
              "      <td>1600000.0</td>\n",
              "      <td>Condo</td>\n",
              "    </tr>\n",
              "    <tr>\n",
              "      <th>119</th>\n",
              "      <td>Chiang Mai</td>\n",
              "      <td>3180000.0</td>\n",
              "      <td>Condo</td>\n",
              "    </tr>\n",
              "    <tr>\n",
              "      <th>123</th>\n",
              "      <td>Chiang Mai</td>\n",
              "      <td>4900000.0</td>\n",
              "      <td>Condo</td>\n",
              "    </tr>\n",
              "    <tr>\n",
              "      <th>124</th>\n",
              "      <td>Chiang Mai</td>\n",
              "      <td>3981575.0</td>\n",
              "      <td>Condo</td>\n",
              "    </tr>\n",
              "    <tr>\n",
              "      <th>155</th>\n",
              "      <td>Chiang Mai</td>\n",
              "      <td>2900000.0</td>\n",
              "      <td>Condo</td>\n",
              "    </tr>\n",
              "    <tr>\n",
              "      <th>...</th>\n",
              "      <td>...</td>\n",
              "      <td>...</td>\n",
              "      <td>...</td>\n",
              "    </tr>\n",
              "    <tr>\n",
              "      <th>52766</th>\n",
              "      <td>Chiang Mai</td>\n",
              "      <td>690000.0</td>\n",
              "      <td>Condo</td>\n",
              "    </tr>\n",
              "    <tr>\n",
              "      <th>52796</th>\n",
              "      <td>Chiang Mai</td>\n",
              "      <td>2800000.0</td>\n",
              "      <td>Condo</td>\n",
              "    </tr>\n",
              "    <tr>\n",
              "      <th>53282</th>\n",
              "      <td>Chiang Mai</td>\n",
              "      <td>699000.0</td>\n",
              "      <td>Condo</td>\n",
              "    </tr>\n",
              "    <tr>\n",
              "      <th>53357</th>\n",
              "      <td>Chiang Mai</td>\n",
              "      <td>700000.0</td>\n",
              "      <td>Condo</td>\n",
              "    </tr>\n",
              "    <tr>\n",
              "      <th>53537</th>\n",
              "      <td>Chiang Mai</td>\n",
              "      <td>2192000.0</td>\n",
              "      <td>Condo</td>\n",
              "    </tr>\n",
              "  </tbody>\n",
              "</table>\n",
              "<p>635 rows × 3 columns</p>\n",
              "</div>\n",
              "      <button class=\"colab-df-convert\" onclick=\"convertToInteractive('df-ad176c6c-2346-46ca-bbb6-22d54fc1da39')\"\n",
              "              title=\"Convert this dataframe to an interactive table.\"\n",
              "              style=\"display:none;\">\n",
              "        \n",
              "  <svg xmlns=\"http://www.w3.org/2000/svg\" height=\"24px\"viewBox=\"0 0 24 24\"\n",
              "       width=\"24px\">\n",
              "    <path d=\"M0 0h24v24H0V0z\" fill=\"none\"/>\n",
              "    <path d=\"M18.56 5.44l.94 2.06.94-2.06 2.06-.94-2.06-.94-.94-2.06-.94 2.06-2.06.94zm-11 1L8.5 8.5l.94-2.06 2.06-.94-2.06-.94L8.5 2.5l-.94 2.06-2.06.94zm10 10l.94 2.06.94-2.06 2.06-.94-2.06-.94-.94-2.06-.94 2.06-2.06.94z\"/><path d=\"M17.41 7.96l-1.37-1.37c-.4-.4-.92-.59-1.43-.59-.52 0-1.04.2-1.43.59L10.3 9.45l-7.72 7.72c-.78.78-.78 2.05 0 2.83L4 21.41c.39.39.9.59 1.41.59.51 0 1.02-.2 1.41-.59l7.78-7.78 2.81-2.81c.8-.78.8-2.07 0-2.86zM5.41 20L4 18.59l7.72-7.72 1.47 1.35L5.41 20z\"/>\n",
              "  </svg>\n",
              "      </button>\n",
              "      \n",
              "  <style>\n",
              "    .colab-df-container {\n",
              "      display:flex;\n",
              "      flex-wrap:wrap;\n",
              "      gap: 12px;\n",
              "    }\n",
              "\n",
              "    .colab-df-convert {\n",
              "      background-color: #E8F0FE;\n",
              "      border: none;\n",
              "      border-radius: 50%;\n",
              "      cursor: pointer;\n",
              "      display: none;\n",
              "      fill: #1967D2;\n",
              "      height: 32px;\n",
              "      padding: 0 0 0 0;\n",
              "      width: 32px;\n",
              "    }\n",
              "\n",
              "    .colab-df-convert:hover {\n",
              "      background-color: #E2EBFA;\n",
              "      box-shadow: 0px 1px 2px rgba(60, 64, 67, 0.3), 0px 1px 3px 1px rgba(60, 64, 67, 0.15);\n",
              "      fill: #174EA6;\n",
              "    }\n",
              "\n",
              "    [theme=dark] .colab-df-convert {\n",
              "      background-color: #3B4455;\n",
              "      fill: #D2E3FC;\n",
              "    }\n",
              "\n",
              "    [theme=dark] .colab-df-convert:hover {\n",
              "      background-color: #434B5C;\n",
              "      box-shadow: 0px 1px 3px 1px rgba(0, 0, 0, 0.15);\n",
              "      filter: drop-shadow(0px 1px 2px rgba(0, 0, 0, 0.3));\n",
              "      fill: #FFFFFF;\n",
              "    }\n",
              "  </style>\n",
              "\n",
              "      <script>\n",
              "        const buttonEl =\n",
              "          document.querySelector('#df-ad176c6c-2346-46ca-bbb6-22d54fc1da39 button.colab-df-convert');\n",
              "        buttonEl.style.display =\n",
              "          google.colab.kernel.accessAllowed ? 'block' : 'none';\n",
              "\n",
              "        async function convertToInteractive(key) {\n",
              "          const element = document.querySelector('#df-ad176c6c-2346-46ca-bbb6-22d54fc1da39');\n",
              "          const dataTable =\n",
              "            await google.colab.kernel.invokeFunction('convertToInteractive',\n",
              "                                                     [key], {});\n",
              "          if (!dataTable) return;\n",
              "\n",
              "          const docLinkHtml = 'Like what you see? Visit the ' +\n",
              "            '<a target=\"_blank\" href=https://colab.research.google.com/notebooks/data_table.ipynb>data table notebook</a>'\n",
              "            + ' to learn more about interactive tables.';\n",
              "          element.innerHTML = '';\n",
              "          dataTable['output_type'] = 'display_data';\n",
              "          await google.colab.output.renderOutput(dataTable, element);\n",
              "          const docLink = document.createElement('div');\n",
              "          docLink.innerHTML = docLinkHtml;\n",
              "          element.appendChild(docLink);\n",
              "        }\n",
              "      </script>\n",
              "    </div>\n",
              "  </div>\n",
              "  "
            ]
          },
          "metadata": {},
          "execution_count": 79
        }
      ]
    },
    {
      "cell_type": "code",
      "source": [
        "j =pd.concat([aa,bb,cc])\n",
        "j"
      ],
      "metadata": {
        "colab": {
          "base_uri": "https://localhost:8080/",
          "height": 424
        },
        "id": "jZrJ6bOeGiDQ",
        "outputId": "ad7ce21e-f0a3-4a16-fcb1-1833ec9bb425"
      },
      "execution_count": 80,
      "outputs": [
        {
          "output_type": "execute_result",
          "data": {
            "text/plain": [
              "      province_name_en  price_min_x propertytype_name_en_x\n",
              "37           Khon Kaen     990000.0         Detached House\n",
              "38           Khon Kaen    1530000.0         Detached House\n",
              "39           Khon Kaen    1350000.0         Detached House\n",
              "80           Khon Kaen    2200000.0         Detached House\n",
              "531          Khon Kaen    4423000.0         Detached House\n",
              "...                ...          ...                    ...\n",
              "53609       Chiang Mai    5500000.0         Detached House\n",
              "53611       Chiang Mai   47000000.0         Detached House\n",
              "53613       Chiang Mai    1590000.0         Detached House\n",
              "53615       Chiang Mai    2500000.0         Detached House\n",
              "53699       Chiang Mai    1590000.0         Detached House\n",
              "\n",
              "[6026 rows x 3 columns]"
            ],
            "text/html": [
              "\n",
              "  <div id=\"df-b14e58b7-860f-468b-80d5-763cb0f1b645\">\n",
              "    <div class=\"colab-df-container\">\n",
              "      <div>\n",
              "<style scoped>\n",
              "    .dataframe tbody tr th:only-of-type {\n",
              "        vertical-align: middle;\n",
              "    }\n",
              "\n",
              "    .dataframe tbody tr th {\n",
              "        vertical-align: top;\n",
              "    }\n",
              "\n",
              "    .dataframe thead th {\n",
              "        text-align: right;\n",
              "    }\n",
              "</style>\n",
              "<table border=\"1\" class=\"dataframe\">\n",
              "  <thead>\n",
              "    <tr style=\"text-align: right;\">\n",
              "      <th></th>\n",
              "      <th>province_name_en</th>\n",
              "      <th>price_min_x</th>\n",
              "      <th>propertytype_name_en_x</th>\n",
              "    </tr>\n",
              "  </thead>\n",
              "  <tbody>\n",
              "    <tr>\n",
              "      <th>37</th>\n",
              "      <td>Khon Kaen</td>\n",
              "      <td>990000.0</td>\n",
              "      <td>Detached House</td>\n",
              "    </tr>\n",
              "    <tr>\n",
              "      <th>38</th>\n",
              "      <td>Khon Kaen</td>\n",
              "      <td>1530000.0</td>\n",
              "      <td>Detached House</td>\n",
              "    </tr>\n",
              "    <tr>\n",
              "      <th>39</th>\n",
              "      <td>Khon Kaen</td>\n",
              "      <td>1350000.0</td>\n",
              "      <td>Detached House</td>\n",
              "    </tr>\n",
              "    <tr>\n",
              "      <th>80</th>\n",
              "      <td>Khon Kaen</td>\n",
              "      <td>2200000.0</td>\n",
              "      <td>Detached House</td>\n",
              "    </tr>\n",
              "    <tr>\n",
              "      <th>531</th>\n",
              "      <td>Khon Kaen</td>\n",
              "      <td>4423000.0</td>\n",
              "      <td>Detached House</td>\n",
              "    </tr>\n",
              "    <tr>\n",
              "      <th>...</th>\n",
              "      <td>...</td>\n",
              "      <td>...</td>\n",
              "      <td>...</td>\n",
              "    </tr>\n",
              "    <tr>\n",
              "      <th>53609</th>\n",
              "      <td>Chiang Mai</td>\n",
              "      <td>5500000.0</td>\n",
              "      <td>Detached House</td>\n",
              "    </tr>\n",
              "    <tr>\n",
              "      <th>53611</th>\n",
              "      <td>Chiang Mai</td>\n",
              "      <td>47000000.0</td>\n",
              "      <td>Detached House</td>\n",
              "    </tr>\n",
              "    <tr>\n",
              "      <th>53613</th>\n",
              "      <td>Chiang Mai</td>\n",
              "      <td>1590000.0</td>\n",
              "      <td>Detached House</td>\n",
              "    </tr>\n",
              "    <tr>\n",
              "      <th>53615</th>\n",
              "      <td>Chiang Mai</td>\n",
              "      <td>2500000.0</td>\n",
              "      <td>Detached House</td>\n",
              "    </tr>\n",
              "    <tr>\n",
              "      <th>53699</th>\n",
              "      <td>Chiang Mai</td>\n",
              "      <td>1590000.0</td>\n",
              "      <td>Detached House</td>\n",
              "    </tr>\n",
              "  </tbody>\n",
              "</table>\n",
              "<p>6026 rows × 3 columns</p>\n",
              "</div>\n",
              "      <button class=\"colab-df-convert\" onclick=\"convertToInteractive('df-b14e58b7-860f-468b-80d5-763cb0f1b645')\"\n",
              "              title=\"Convert this dataframe to an interactive table.\"\n",
              "              style=\"display:none;\">\n",
              "        \n",
              "  <svg xmlns=\"http://www.w3.org/2000/svg\" height=\"24px\"viewBox=\"0 0 24 24\"\n",
              "       width=\"24px\">\n",
              "    <path d=\"M0 0h24v24H0V0z\" fill=\"none\"/>\n",
              "    <path d=\"M18.56 5.44l.94 2.06.94-2.06 2.06-.94-2.06-.94-.94-2.06-.94 2.06-2.06.94zm-11 1L8.5 8.5l.94-2.06 2.06-.94-2.06-.94L8.5 2.5l-.94 2.06-2.06.94zm10 10l.94 2.06.94-2.06 2.06-.94-2.06-.94-.94-2.06-.94 2.06-2.06.94z\"/><path d=\"M17.41 7.96l-1.37-1.37c-.4-.4-.92-.59-1.43-.59-.52 0-1.04.2-1.43.59L10.3 9.45l-7.72 7.72c-.78.78-.78 2.05 0 2.83L4 21.41c.39.39.9.59 1.41.59.51 0 1.02-.2 1.41-.59l7.78-7.78 2.81-2.81c.8-.78.8-2.07 0-2.86zM5.41 20L4 18.59l7.72-7.72 1.47 1.35L5.41 20z\"/>\n",
              "  </svg>\n",
              "      </button>\n",
              "      \n",
              "  <style>\n",
              "    .colab-df-container {\n",
              "      display:flex;\n",
              "      flex-wrap:wrap;\n",
              "      gap: 12px;\n",
              "    }\n",
              "\n",
              "    .colab-df-convert {\n",
              "      background-color: #E8F0FE;\n",
              "      border: none;\n",
              "      border-radius: 50%;\n",
              "      cursor: pointer;\n",
              "      display: none;\n",
              "      fill: #1967D2;\n",
              "      height: 32px;\n",
              "      padding: 0 0 0 0;\n",
              "      width: 32px;\n",
              "    }\n",
              "\n",
              "    .colab-df-convert:hover {\n",
              "      background-color: #E2EBFA;\n",
              "      box-shadow: 0px 1px 2px rgba(60, 64, 67, 0.3), 0px 1px 3px 1px rgba(60, 64, 67, 0.15);\n",
              "      fill: #174EA6;\n",
              "    }\n",
              "\n",
              "    [theme=dark] .colab-df-convert {\n",
              "      background-color: #3B4455;\n",
              "      fill: #D2E3FC;\n",
              "    }\n",
              "\n",
              "    [theme=dark] .colab-df-convert:hover {\n",
              "      background-color: #434B5C;\n",
              "      box-shadow: 0px 1px 3px 1px rgba(0, 0, 0, 0.15);\n",
              "      filter: drop-shadow(0px 1px 2px rgba(0, 0, 0, 0.3));\n",
              "      fill: #FFFFFF;\n",
              "    }\n",
              "  </style>\n",
              "\n",
              "      <script>\n",
              "        const buttonEl =\n",
              "          document.querySelector('#df-b14e58b7-860f-468b-80d5-763cb0f1b645 button.colab-df-convert');\n",
              "        buttonEl.style.display =\n",
              "          google.colab.kernel.accessAllowed ? 'block' : 'none';\n",
              "\n",
              "        async function convertToInteractive(key) {\n",
              "          const element = document.querySelector('#df-b14e58b7-860f-468b-80d5-763cb0f1b645');\n",
              "          const dataTable =\n",
              "            await google.colab.kernel.invokeFunction('convertToInteractive',\n",
              "                                                     [key], {});\n",
              "          if (!dataTable) return;\n",
              "\n",
              "          const docLinkHtml = 'Like what you see? Visit the ' +\n",
              "            '<a target=\"_blank\" href=https://colab.research.google.com/notebooks/data_table.ipynb>data table notebook</a>'\n",
              "            + ' to learn more about interactive tables.';\n",
              "          element.innerHTML = '';\n",
              "          dataTable['output_type'] = 'display_data';\n",
              "          await google.colab.output.renderOutput(dataTable, element);\n",
              "          const docLink = document.createElement('div');\n",
              "          docLink.innerHTML = docLinkHtml;\n",
              "          element.appendChild(docLink);\n",
              "        }\n",
              "      </script>\n",
              "    </div>\n",
              "  </div>\n",
              "  "
            ]
          },
          "metadata": {},
          "execution_count": 80
        }
      ]
    },
    {
      "cell_type": "code",
      "source": [
        "from matplotlib import pyplot as plt\n"
      ],
      "metadata": {
        "id": "xXUdngsQGjof"
      },
      "execution_count": 81,
      "outputs": []
    },
    {
      "cell_type": "code",
      "source": [
        "import seaborn as sns\n"
      ],
      "metadata": {
        "id": "oaSSngtGGleJ"
      },
      "execution_count": 82,
      "outputs": []
    },
    {
      "cell_type": "code",
      "source": [
        "plt.subplot(2,3,1)\n",
        "s1= plt.boxplot(aa['price_min_x'][:50])\n",
        "plt.subplot(2,3,2)\n",
        "s2= plt.boxplot(bb['price_min_x'][:50])\n",
        "plt.subplot(2,3,3)\n",
        "s3= plt.boxplot(cc['price_min_x'][:50])\n",
        "\n",
        "plt.subplot(2,3,1)\n",
        "s11= plt.boxplot(aa1['price_min_x'[:50]])\n",
        "plt.subplot(2,3,2)\n",
        "s22= plt.boxplot(bb1['price_min_x'][:50])\n",
        "plt.subplot(2,3,3)\n",
        "s33= plt.boxplot(cc1['price_min_x'])"
      ],
      "metadata": {
        "colab": {
          "base_uri": "https://localhost:8080/",
          "height": 282
        },
        "id": "figMOuC4GlWN",
        "outputId": "954c0ff9-6e27-4d04-cefa-73c672f65723"
      },
      "execution_count": 84,
      "outputs": [
        {
          "output_type": "stream",
          "name": "stderr",
          "text": [
            "/usr/local/lib/python3.7/dist-packages/ipykernel_launcher.py:8: MatplotlibDeprecationWarning: Adding an axes using the same arguments as a previous axes currently reuses the earlier instance.  In a future version, a new instance will always be created and returned.  Meanwhile, this warning can be suppressed, and the future behavior ensured, by passing a unique label to each axes instance.\n",
            "  \n",
            "/usr/local/lib/python3.7/dist-packages/ipykernel_launcher.py:10: MatplotlibDeprecationWarning: Adding an axes using the same arguments as a previous axes currently reuses the earlier instance.  In a future version, a new instance will always be created and returned.  Meanwhile, this warning can be suppressed, and the future behavior ensured, by passing a unique label to each axes instance.\n",
            "  # Remove the CWD from sys.path while we load stuff.\n",
            "/usr/local/lib/python3.7/dist-packages/ipykernel_launcher.py:12: MatplotlibDeprecationWarning: Adding an axes using the same arguments as a previous axes currently reuses the earlier instance.  In a future version, a new instance will always be created and returned.  Meanwhile, this warning can be suppressed, and the future behavior ensured, by passing a unique label to each axes instance.\n",
            "  if sys.path[0] == '':\n"
          ]
        },
        {
          "output_type": "display_data",
          "data": {
            "text/plain": [
              "<Figure size 432x288 with 3 Axes>"
            ],
            "image/png": "[encoded data removed]"
          },
          "metadata": {
            "needs_background": "light"
          }
        }
      ]
    }
  ]
}