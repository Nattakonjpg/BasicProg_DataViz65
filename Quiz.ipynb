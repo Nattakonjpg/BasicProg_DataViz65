{
  "nbformat": 4,
  "nbformat_minor": 0,
  "metadata": {
    "colab": {
      "name": "Quiz.ipynb",
      "provenance": [],
      "authorship_tag": "ABX9TyOCMfttbTOK2nZcSIvh80mJ",
      "include_colab_link": true
    },
    "kernelspec": {
      "name": "python3",
      "display_name": "Python 3"
    },
    "language_info": {
      "name": "python"
    }
  },
  "cells": [
    {
      "cell_type": "markdown",
      "metadata": {
        "id": "view-in-github",
        "colab_type": "text"
      },
      "source": [
        "<a href=\"https://colab.research.google.com/github/Nattakonjpg/BasicProg_DataViz65/blob/main/Quiz.ipynb\" target=\"_parent\"><img src=\"https://colab.research.google.com/assets/colab-badge.svg\" alt=\"Open In Colab\"/></a>"
      ]
    },
    {
      "cell_type": "markdown",
      "source": [
        "# Quiz 1\n",
        "\n",
        "คำนวณเวลาเป็นความต่างของเวลาเป็นวินาทีของช่วงเวลาต่อไปนี้โดยใช้คำสั่ง split() ช่วย และ print ออกมาให้สวยงาม\n",
        "\n",
        "09:11:50 - 12:30:15 \\\n",
        "13:41:07 - 20:00:18 \\\n",
        "21:30:15 - 00:00:00  \n",
        "00:00:00 - 23:59:59 \n"
      ],
      "metadata": {
        "id": "7yAGV-a3B-Oj"
      }
    },
    {
      "cell_type": "code",
      "source": [
        "A = ((12*60*60)+(30*60)+15)-((9*60*60)+(11*60)+50)\n",
        "print(f'ความต่างเวลา 09:11:50 - 12:30:15 เป็นวินาที เท่ากับ {A} วินาที')"
      ],
      "metadata": {
        "colab": {
          "base_uri": "https://localhost:8080/"
        },
        "id": "iUZlWaxICDiG",
        "outputId": "a5714a5f-dc1e-4d47-e7fd-5173b4a7c53a"
      },
      "execution_count": null,
      "outputs": [
        {
          "output_type": "stream",
          "name": "stdout",
          "text": [
            "ความต่างเวลา 09:11:50 -> 12:30:15 เป็นวินาที เท่ากับ 11905 วินาที\n"
          ]
        }
      ]
    },
    {
      "cell_type": "code",
      "source": [
        "B = ((20*60*60)+(0*60)+18)-((13*60*60)+(41*60)+7)\n",
        "print(f'ความต่างเวลา 13:41:07 - 20:00:18 เป็นวินาที เท่ากับ {B} วินาที')"
      ],
      "metadata": {
        "colab": {
          "base_uri": "https://localhost:8080/"
        },
        "id": "Asb51xmzC3l4",
        "outputId": "79a54852-dc66-42b9-8265-f07f0e11b3d7"
      },
      "execution_count": null,
      "outputs": [
        {
          "output_type": "stream",
          "name": "stdout",
          "text": [
            "ความต่างเวล 13:41:07 -> 20:00:18 เป็นวินาที เท่ากับ 22751 วินาที\n"
          ]
        }
      ]
    },
    {
      "cell_type": "code",
      "source": [
        "C = ((24*60*60)+(0*60))-((21*60*60)+(30*60)+15)\n",
        "print(f'ความต่างเวลา 21:30:15 - 00:00:00 เป็นวินาที เท่ากับ {C} วินาที')"
      ],
      "metadata": {
        "colab": {
          "base_uri": "https://localhost:8080/"
        },
        "id": "JP6SCCkmDgfE",
        "outputId": "8e90f2c9-d3d8-4e47-914f-0a2b70cbde19"
      },
      "execution_count": null,
      "outputs": [
        {
          "output_type": "stream",
          "name": "stdout",
          "text": [
            "ความต่างเวล 21:30:15 -> 00:00:00 เป็นวินาที เท่ากับ 8985 วินาที\n"
          ]
        }
      ]
    },
    {
      "cell_type": "code",
      "source": [
        "D = ((24*60*60)+(0*60))-((23*60*60)+(59*60)+59)\n",
        "print(f'ความต่างเวลา 00:00:00 - 23:59:59 เป็นวินาที เท่ากับ {D} วินาที')"
      ],
      "metadata": {
        "colab": {
          "base_uri": "https://localhost:8080/"
        },
        "id": "3XnlmeAiETVU",
        "outputId": "a0c3ad12-5160-4180-b533-d5409681f940"
      },
      "execution_count": null,
      "outputs": [
        {
          "output_type": "stream",
          "name": "stdout",
          "text": [
            "ความต่างเวลา 00:00:00 - 23:59:59 เป็นวินาที เท่ากับ 1 วินาที\n"
          ]
        }
      ]
    }
  ]
}