{
  "nbformat": 4,
  "nbformat_minor": 0,
  "metadata": {
    "colab": {
      "name": "Quiz.ipynb",
      "provenance": [],
      "include_colab_link": true
    },
    "kernelspec": {
      "name": "python3",
      "display_name": "Python 3"
    },
    "language_info": {
      "name": "python"
    }
  },
  "cells": [
    {
      "cell_type": "markdown",
      "metadata": {
        "id": "view-in-github",
        "colab_type": "text"
      },
      "source": [
        "<a href=\"https://colab.research.google.com/github/Nattakonjpg/BasicProg_DataViz65/blob/main/Quiz.ipynb\" target=\"_parent\"><img src=\"https://colab.research.google.com/assets/colab-badge.svg\" alt=\"Open In Colab\"/></a>"
      ]
    },
    {
      "cell_type": "markdown",
      "source": [
        "# Quiz 1\n",
        "\n",
        "คำนวณเวลาเป็นความต่างของเวลาเป็นวินาทีของช่วงเวลาต่อไปนี้โดยใช้คำสั่ง split() ช่วย และ print ออกมาให้สวยงาม\n",
        "\n",
        "09:11:50 - 12:30:15 \\\n",
        "13:41:07 - 20:00:18 \\\n",
        "21:30:15 - 00:00:00  \n",
        "00:00:00 - 23:59:59 \n"
      ],
      "metadata": {
        "id": "7yAGV-a3B-Oj"
      }
    },
    {
      "cell_type": "code",
      "source": [
        "t1 = \"09:11:50\"\n",
        "print(t1)"
      ],
      "metadata": {
        "id": "tj6HRc6nHDMw"
      },
      "execution_count": null,
      "outputs": []
    },
    {
      "cell_type": "code",
      "source": [
        "sp_t1 =t1.split(\":\")\n",
        "print(sp_t1)"
      ],
      "metadata": {
        "id": "n-wV9pFuHP3N"
      },
      "execution_count": null,
      "outputs": []
    },
    {
      "cell_type": "code",
      "source": [
        "t2 =\"12:30:15\"\n",
        "print(t2)"
      ],
      "metadata": {
        "id": "D19HJqqpKkbL"
      },
      "execution_count": null,
      "outputs": []
    },
    {
      "cell_type": "code",
      "source": [
        "sp_t2=t2.split(\":\")\n",
        "print(sp_t2)\n",
        "print(sp_t2[0])"
      ],
      "metadata": {
        "id": "SlF2kdm3KoCE"
      },
      "execution_count": null,
      "outputs": []
    },
    {
      "cell_type": "code",
      "source": [
        "a1 = (int(sp_t2[0])*3600)+(int(sp_t2[1])*60)+int(sp_t2[2])\n",
        "a2 = (int(sp_t1[0])*3600)+(int(sp_t1[1])*60)+int(sp_t1[2])\n",
        "A= a1-a2\n",
        "print(f'ความต่างเวลา {t1} - {t2} เป็นวินาที เท่ากับ {A} วินาที')"
      ],
      "metadata": {
        "colab": {
          "base_uri": "https://localhost:8080/"
        },
        "id": "iUZlWaxICDiG",
        "outputId": "ce871a91-f126-4a29-c285-68a2b0046777"
      },
      "execution_count": 36,
      "outputs": [
        {
          "output_type": "stream",
          "name": "stdout",
          "text": [
            "ความต่างเวลา 09:11:50 - 12:30:15 เป็นวินาที เท่ากับ 11905 วินาที\n"
          ]
        }
      ]
    },
    {
      "cell_type": "code",
      "source": [
        "t3=\"13:41:07\"\n",
        "sp_t3 =t3.split(\":\")\n",
        "print(sp_t3)"
      ],
      "metadata": {
        "id": "GttXwDxbPStQ"
      },
      "execution_count": null,
      "outputs": []
    },
    {
      "cell_type": "code",
      "source": [
        "t4=\"20:00:18\"\n",
        "sp_t4 =t4.split(\":\")\n",
        "print(t4[1])"
      ],
      "metadata": {
        "id": "3AAyvKmzPgaG"
      },
      "execution_count": null,
      "outputs": []
    },
    {
      "cell_type": "code",
      "source": [
        "b1 = (int(sp_t4[0])*3600)+(int(sp_t4[1])*60)+int(sp_t4[2])\n",
        "b2 = (int(sp_t3[0])*3600)+(int(sp_t3[1])*60)+int(sp_t3[2])\n",
        "B = b1-b2\n",
        "print(f'ความต่างเวลา {t3} - {t4} เป็นวินาที เท่ากับ {B} วินาที')"
      ],
      "metadata": {
        "colab": {
          "base_uri": "https://localhost:8080/"
        },
        "id": "Asb51xmzC3l4",
        "outputId": "8565b150-5f93-456d-fdcd-5a33c7f78643"
      },
      "execution_count": 37,
      "outputs": [
        {
          "output_type": "stream",
          "name": "stdout",
          "text": [
            "ความต่างเวลา 13:41:07 - 20:00:18 เป็นวินาที เท่ากับ 22751 วินาที\n"
          ]
        }
      ]
    },
    {
      "cell_type": "code",
      "source": [
        "t5=\"21:30:15\"\n",
        "sp_t5 =t5.split(\":\")\n",
        "print(sp_t5)"
      ],
      "metadata": {
        "id": "7qYPkEMrQ5BD",
        "outputId": "0b7077b2-5827-4f7d-c15e-f1d0f3329e8c",
        "colab": {
          "base_uri": "https://localhost:8080/"
        }
      },
      "execution_count": 38,
      "outputs": [
        {
          "output_type": "stream",
          "name": "stdout",
          "text": [
            "['21', '30', '15']\n"
          ]
        }
      ]
    },
    {
      "cell_type": "code",
      "source": [
        "t6=\"24:00:00\"\n",
        "sp_t6=t6.split(\":\")\n",
        "print(sp_t6)"
      ],
      "metadata": {
        "id": "XX-dkTuHRJM2",
        "outputId": "9c13fc71-7476-49d1-c790-451c5054ad00",
        "colab": {
          "base_uri": "https://localhost:8080/"
        }
      },
      "execution_count": 53,
      "outputs": [
        {
          "output_type": "stream",
          "name": "stdout",
          "text": [
            "['24', '00', '00']\n"
          ]
        }
      ]
    },
    {
      "cell_type": "code",
      "source": [
        "c1 = (int(sp_t6[0])*3600)+(int(sp_t6[1])*60)+int(sp_t6[2])\n",
        "c2 = (int(sp_t5[0])*3600)+(int(sp_t5[1])*60)+int(sp_t5[2])\n",
        "C = c1-c2\n",
        "print(f'ความต่างเวลา {t5} - {t6} เป็นวินาที เท่ากับ {C} วินาที')"
      ],
      "metadata": {
        "colab": {
          "base_uri": "https://localhost:8080/"
        },
        "id": "JP6SCCkmDgfE",
        "outputId": "eabfafca-462a-4dda-d7cc-7320f68cfaa5"
      },
      "execution_count": 56,
      "outputs": [
        {
          "output_type": "stream",
          "name": "stdout",
          "text": [
            "ความต่างเวลา 21:30:15 - 24:00:00 เป็นวินาที เท่ากับ 8985 วินาที\n"
          ]
        }
      ]
    },
    {
      "cell_type": "code",
      "source": [
        "t7=\"24:00:00\"\n",
        "sp_t7=t7.split(\":\")\n",
        "t8=\"23:59:59\"\n",
        "sp_t8=t8.split(\":\")\n",
        "print(sp_t7,sp_t8)"
      ],
      "metadata": {
        "id": "TGt8KLnoTOcG",
        "outputId": "b06998ff-0df9-4b5b-a2db-976d18f5b541",
        "colab": {
          "base_uri": "https://localhost:8080/"
        }
      },
      "execution_count": 57,
      "outputs": [
        {
          "output_type": "stream",
          "name": "stdout",
          "text": [
            "['24', '00', '00'] ['23', '59', '59']\n"
          ]
        }
      ]
    },
    {
      "cell_type": "code",
      "source": [
        "d1 = (int(sp_t7[0])*3600)\n",
        "d2 = (int(sp_t8[0])*3600)+(int(sp_t8[1])*60)+int(sp_t8[2])\n",
        "D= d1-d2\n",
        "print(f'ความต่างเวลา 00:00:00 - 23:59:59 เป็นวินาที เท่ากับ {D} วินาที')"
      ],
      "metadata": {
        "colab": {
          "base_uri": "https://localhost:8080/"
        },
        "id": "3XnlmeAiETVU",
        "outputId": "4faa7d5c-1805-4b45-d9fa-189778693d08"
      },
      "execution_count": 61,
      "outputs": [
        {
          "output_type": "stream",
          "name": "stdout",
          "text": [
            "ความต่างเวลา 00:00:00 - 23:59:59 เป็นวินาที เท่ากับ 1 วินาที\n"
          ]
        }
      ]
    }
  ]
}