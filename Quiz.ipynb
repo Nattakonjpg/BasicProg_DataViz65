{
  "nbformat": 4,
  "nbformat_minor": 0,
  "metadata": {
    "colab": {
      "name": "Quiz.ipynb",
      "provenance": [],
      "include_colab_link": true
    },
    "kernelspec": {
      "name": "python3",
      "display_name": "Python 3"
    },
    "language_info": {
      "name": "python"
    }
  },
  "cells": [
    {
      "cell_type": "markdown",
      "metadata": {
        "id": "view-in-github",
        "colab_type": "text"
      },
      "source": [
        "<a href=\"https://colab.research.google.com/github/Nattakonjpg/BasicProg_DataViz65/blob/main/Quiz.ipynb\" target=\"_parent\"><img src=\"https://colab.research.google.com/assets/colab-badge.svg\" alt=\"Open In Colab\"/></a>"
      ]
    },
    {
      "cell_type": "markdown",
      "source": [
        "# Quiz 1\n",
        "\n",
        "คำนวณเวลาเป็นความต่างของเวลาเป็นวินาทีของช่วงเวลาต่อไปนี้โดยใช้คำสั่ง split() ช่วย และ print ออกมาให้สวยงาม\n",
        "\n",
        "09:11:50 - 12:30:15 \\\n",
        "13:41:07 - 20:00:18 \\\n",
        "21:30:15 - 00:00:00  \n",
        "00:00:00 - 23:59:59 \n"
      ],
      "metadata": {
        "id": "7yAGV-a3B-Oj"
      }
    },
    {
      "cell_type": "code",
      "source": [
        "t1 = \"09:11:50\"\n",
        "sp_t1 =t1.split(\":\")\n",
        "t2 =\"12:30:15\"\n",
        "sp_t2=t2.split(\":\")"
      ],
      "metadata": {
        "id": "tj6HRc6nHDMw"
      },
      "execution_count": 62,
      "outputs": []
    },
    {
      "cell_type": "code",
      "source": [
        "a1 = (int(sp_t2[0])*3600)+(int(sp_t2[1])*60)+int(sp_t2[2])\n",
        "a2 = (int(sp_t1[0])*3600)+(int(sp_t1[1])*60)+int(sp_t1[2])\n",
        "A= a1-a2\n",
        "print(f'ความต่างเวลา {t1} - {t2} เป็นวินาที เท่ากับ {A} วินาที')"
      ],
      "metadata": {
        "colab": {
          "base_uri": "https://localhost:8080/"
        },
        "id": "iUZlWaxICDiG",
        "outputId": "3c33de37-b057-4d94-b9d2-c71efadbc3b1"
      },
      "execution_count": 63,
      "outputs": [
        {
          "output_type": "stream",
          "name": "stdout",
          "text": [
            "ความต่างเวลา 09:11:50 - 12:30:15 เป็นวินาที เท่ากับ 11905 วินาที\n"
          ]
        }
      ]
    },
    {
      "cell_type": "code",
      "source": [
        "t3=\"13:41:07\"\n",
        "sp_t3 =t3.split(\":\")\n",
        "t4=\"20:00:18\"\n",
        "sp_t4 =t4.split(\":\")"
      ],
      "metadata": {
        "id": "GttXwDxbPStQ"
      },
      "execution_count": 64,
      "outputs": []
    },
    {
      "cell_type": "code",
      "source": [
        "b1 = (int(sp_t4[0])*3600)+(int(sp_t4[1])*60)+int(sp_t4[2])\n",
        "b2 = (int(sp_t3[0])*3600)+(int(sp_t3[1])*60)+int(sp_t3[2])\n",
        "B = b1-b2\n",
        "print(f'ความต่างเวลา {t3} - {t4} เป็นวินาที เท่ากับ {B} วินาที')"
      ],
      "metadata": {
        "colab": {
          "base_uri": "https://localhost:8080/"
        },
        "id": "Asb51xmzC3l4",
        "outputId": "4f14dfe1-b611-4772-9e70-7e663a82338b"
      },
      "execution_count": 65,
      "outputs": [
        {
          "output_type": "stream",
          "name": "stdout",
          "text": [
            "ความต่างเวลา 13:41:07 - 20:00:18 เป็นวินาที เท่ากับ 22751 วินาที\n"
          ]
        }
      ]
    },
    {
      "cell_type": "code",
      "source": [
        "t5=\"21:30:15\"\n",
        "sp_t5 =t5.split(\":\")\n",
        "t6=\"24:00:00\"\n",
        "sp_t6=t6.split(\":\")"
      ],
      "metadata": {
        "id": "7qYPkEMrQ5BD"
      },
      "execution_count": 66,
      "outputs": []
    },
    {
      "cell_type": "code",
      "source": [
        "c1 = (int(sp_t6[0])*3600)+(int(sp_t6[1])*60)+int(sp_t6[2])\n",
        "c2 = (int(sp_t5[0])*3600)+(int(sp_t5[1])*60)+int(sp_t5[2])\n",
        "C = c1-c2\n",
        "print(f'ความต่างเวลา {t5} - {t6} เป็นวินาที เท่ากับ {C} วินาที')"
      ],
      "metadata": {
        "colab": {
          "base_uri": "https://localhost:8080/"
        },
        "id": "JP6SCCkmDgfE",
        "outputId": "e941337d-7979-4cc2-e1f1-75dc3bba0763"
      },
      "execution_count": 67,
      "outputs": [
        {
          "output_type": "stream",
          "name": "stdout",
          "text": [
            "ความต่างเวลา 21:30:15 - 24:00:00 เป็นวินาที เท่ากับ 8985 วินาที\n"
          ]
        }
      ]
    },
    {
      "cell_type": "code",
      "source": [
        "t7=\"24:00:00\"\n",
        "sp_t7=t7.split(\":\")\n",
        "t8=\"23:59:59\"\n",
        "sp_t8=t8.split(\":\")"
      ],
      "metadata": {
        "id": "TGt8KLnoTOcG"
      },
      "execution_count": 69,
      "outputs": []
    },
    {
      "cell_type": "code",
      "source": [
        "d1 = (int(sp_t7[0])*3600)\n",
        "d2 = (int(sp_t8[0])*3600)+(int(sp_t8[1])*60)+int(sp_t8[2])\n",
        "D= d1-d2\n",
        "print(f'ความต่างเวลา {t7} - {t8} เป็นวินาที เท่ากับ {D} วินาที')"
      ],
      "metadata": {
        "colab": {
          "base_uri": "https://localhost:8080/"
        },
        "id": "3XnlmeAiETVU",
        "outputId": "196181f2-477b-4273-a897-7ae93b0355ad"
      },
      "execution_count": 70,
      "outputs": [
        {
          "output_type": "stream",
          "name": "stdout",
          "text": [
            "ความต่างเวลา 24:00:00 - 23:59:59 เป็นวินาที เท่ากับ 1 วินาที\n"
          ]
        }
      ]
    }
  ]
}