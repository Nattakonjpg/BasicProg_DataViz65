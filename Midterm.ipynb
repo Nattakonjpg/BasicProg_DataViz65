{
  "nbformat": 4,
  "nbformat_minor": 0,
  "metadata": {
    "colab": {
      "provenance": [],
      "authorship_tag": "ABX9TyNJk36ruc63UdWLvaxID8vd",
      "include_colab_link": true
    },
    "kernelspec": {
      "name": "python3",
      "display_name": "Python 3"
    },
    "language_info": {
      "name": "python"
    }
  },
  "cells": [
    {
      "cell_type": "markdown",
      "metadata": {
        "id": "view-in-github",
        "colab_type": "text"
      },
      "source": [
        "<a href=\"https://colab.research.google.com/github/Nattakonjpg/BasicProg_DataViz65/blob/main/Midterm.ipynb\" target=\"_parent\"><img src=\"https://colab.research.google.com/assets/colab-badge.svg\" alt=\"Open In Colab\"/></a>"
      ]
    },
    {
      "cell_type": "code",
      "source": [
        "from google.colab import drive ## google drive\n",
        "drive.mount('/content/drive')"
      ],
      "metadata": {
        "colab": {
          "base_uri": "https://localhost:8080/"
        },
        "id": "yquMRtCoUwEn",
        "outputId": "267de73a-5127-412c-b92e-689149046865"
      },
      "execution_count": 3,
      "outputs": [
        {
          "output_type": "stream",
          "name": "stdout",
          "text": [
            "Mounted at /content/drive\n"
          ]
        }
      ]
    },
    {
      "cell_type": "code",
      "execution_count": 1,
      "metadata": {
        "id": "lTk9Xgx1TyPT"
      },
      "outputs": [],
      "source": [
        "import pandas as pd"
      ]
    },
    {
      "cell_type": "code",
      "source": [
        "import os"
      ],
      "metadata": {
        "id": "vBHc62HnUdg7"
      },
      "execution_count": 2,
      "outputs": []
    },
    {
      "cell_type": "code",
      "source": [
        "Unit = pd.read_csv('/content/drive/My Drive/dataviz_2022/Midterm/opendata_unittype.csv')\n",
        "Unit.head()"
      ],
      "metadata": {
        "id": "AoWZfFJVXVnX"
      },
      "execution_count": null,
      "outputs": []
    },
    {
      "cell_type": "code",
      "source": [
        "rent = pd.read_csv('/content/drive/My Drive/dataviz_2022/Midterm/opendata_volume_listing_rent.csv')\n",
        "rent.head()"
      ],
      "metadata": {
        "id": "mY2I9dLpW45v"
      },
      "execution_count": null,
      "outputs": []
    },
    {
      "cell_type": "code",
      "source": [
        "project = pd.read_csv('/content/drive/MyDrive/dataviz_2022/Midterm/opendata_project.csv')\n",
        "project.head()"
      ],
      "metadata": {
        "id": "x7sUbx90Xh9F"
      },
      "execution_count": null,
      "outputs": []
    },
    {
      "cell_type": "code",
      "source": [
        "eat = pd.read_csv('/content/drive/MyDrive/dataviz_2022/Midterm/opendata_eating_score.csv')\n",
        "eat.head()"
      ],
      "metadata": {
        "id": "GGqJ-AcdX2Bo"
      },
      "execution_count": null,
      "outputs": []
    },
    {
      "cell_type": "markdown",
      "source": [
        "**Midterm**\n",
        "- หาพื้นที่ (district_name)  ที่มีจำนวนโครงการเยอะที่สุดและมีความต้องการเช่าเยอะที่สุด (5 คะแนน)\n",
        "- โครงการที่แพงที่สุดในพื้นที่ที่มีความต้องการเช่าสูงที่สุด (5 คะแนน)\n",
        "- ราคาเฉลี่ยของโครงการ ที่อยู่ในย่าน (subdistrict) ที่ อาหารการกินมีความหลากหลายที่สุดในช่วงกลางวัน (eating_daytime_variety) ของประเทศไทย (5 คะแนน)\n",
        "- พื้นที่ ที่มีความต้องการเช่ามากที่สุด คือพื้นที่ใด และพื้นที่นั้นมีชนิดของบ้าน แบบไหนมากที่สุด (7 คะแนน)\n",
        "(เฉพาะ กรุงเทพมหานคร) \n",
        "- เปรียบเทียบราคาโครงการที่แพงที่สุดในย่าน (subdistrict)ที่ราคาของอาหารการกินในช่วงกลางคืนที่ราคาสูงที่สุด (eating_nighttime_price) กับ ย่าน (subdistrict)ที่ราคาของอาหารการกินในช่วงกลางคืนที่ราคาต่ำที่สุด (eating_nighttime_price) (10 คะแนน)\n",
        "- แสดงย่านที่ อาหารการกินมีความหลากหลายที่สุดในช่วงกลางวัน (eating_daytime_variety) และ กลางคืน (eating_nighttime_variety) ของแต่ละจังหวัด (13 คะแนน)"
      ],
      "metadata": {
        "id": "JBBy9VUjVzNW"
      }
    },
    {
      "cell_type": "code",
      "source": [
        "Unit.describe()"
      ],
      "metadata": {
        "id": "AzbFjbArnj-x"
      },
      "execution_count": null,
      "outputs": []
    },
    {
      "cell_type": "code",
      "source": [
        "rent.describe()"
      ],
      "metadata": {
        "id": "_4raN3H9nmzJ"
      },
      "execution_count": null,
      "outputs": []
    },
    {
      "cell_type": "code",
      "source": [
        "dataall = Unit.merge(rent, left_on='row_number', right_on='row_number')\n",
        "dataall.head()"
      ],
      "metadata": {
        "id": "Lxs_LohImkw9"
      },
      "execution_count": null,
      "outputs": []
    },
    {
      "cell_type": "code",
      "source": [
        "dataall['volume_of_rental'].max()"
      ],
      "metadata": {
        "id": "AjChQGAtghGm"
      },
      "execution_count": null,
      "outputs": []
    },
    {
      "cell_type": "code",
      "source": [
        "Ans1 =dataall[dataall['volume_of_rental']==rent['volume_of_rental'].max()][['propertytype_name_th','volume_of_rental']]\n",
        "Ans1"
      ],
      "metadata": {
        "id": "YjbUl_9Fq_Mq"
      },
      "execution_count": null,
      "outputs": []
    },
    {
      "cell_type": "markdown",
      "source": [
        "##โครงการที่แพงที่สุดในพื้นที่ที่มีความต้องการเช่าสูงที่สุด (5 คะแนน)\n"
      ],
      "metadata": {
        "id": "VN-YuxcPlE8b"
      }
    },
    {
      "cell_type": "code",
      "source": [
        "Ans2 = dataall[dataall['volume_of_rental']==rent['volume_of_rental'].max()][['propertytype_name_en','price_min','volume_of_rental']]\n",
        "Ans2"
      ],
      "metadata": {
        "colab": {
          "base_uri": "https://localhost:8080/",
          "height": 81
        },
        "id": "onwOSTVOcJfu",
        "outputId": "9fc38bbb-3eb3-40c5-9c81-9c3d1401b0b8"
      },
      "execution_count": 158,
      "outputs": [
        {
          "output_type": "execute_result",
          "data": {
            "text/plain": [
              "    propertytype_name_en  price_min  volume_of_rental\n",
              "697                Condo  1800000.0              3996"
            ],
            "text/html": [
              "\n",
              "  <div id=\"df-e6fbb884-3f5c-4c94-9562-1931706149e0\">\n",
              "    <div class=\"colab-df-container\">\n",
              "      <div>\n",
              "<style scoped>\n",
              "    .dataframe tbody tr th:only-of-type {\n",
              "        vertical-align: middle;\n",
              "    }\n",
              "\n",
              "    .dataframe tbody tr th {\n",
              "        vertical-align: top;\n",
              "    }\n",
              "\n",
              "    .dataframe thead th {\n",
              "        text-align: right;\n",
              "    }\n",
              "</style>\n",
              "<table border=\"1\" class=\"dataframe\">\n",
              "  <thead>\n",
              "    <tr style=\"text-align: right;\">\n",
              "      <th></th>\n",
              "      <th>propertytype_name_en</th>\n",
              "      <th>price_min</th>\n",
              "      <th>volume_of_rental</th>\n",
              "    </tr>\n",
              "  </thead>\n",
              "  <tbody>\n",
              "    <tr>\n",
              "      <th>697</th>\n",
              "      <td>Condo</td>\n",
              "      <td>1800000.0</td>\n",
              "      <td>3996</td>\n",
              "    </tr>\n",
              "  </tbody>\n",
              "</table>\n",
              "</div>\n",
              "      <button class=\"colab-df-convert\" onclick=\"convertToInteractive('df-e6fbb884-3f5c-4c94-9562-1931706149e0')\"\n",
              "              title=\"Convert this dataframe to an interactive table.\"\n",
              "              style=\"display:none;\">\n",
              "        \n",
              "  <svg xmlns=\"http://www.w3.org/2000/svg\" height=\"24px\"viewBox=\"0 0 24 24\"\n",
              "       width=\"24px\">\n",
              "    <path d=\"M0 0h24v24H0V0z\" fill=\"none\"/>\n",
              "    <path d=\"M18.56 5.44l.94 2.06.94-2.06 2.06-.94-2.06-.94-.94-2.06-.94 2.06-2.06.94zm-11 1L8.5 8.5l.94-2.06 2.06-.94-2.06-.94L8.5 2.5l-.94 2.06-2.06.94zm10 10l.94 2.06.94-2.06 2.06-.94-2.06-.94-.94-2.06-.94 2.06-2.06.94z\"/><path d=\"M17.41 7.96l-1.37-1.37c-.4-.4-.92-.59-1.43-.59-.52 0-1.04.2-1.43.59L10.3 9.45l-7.72 7.72c-.78.78-.78 2.05 0 2.83L4 21.41c.39.39.9.59 1.41.59.51 0 1.02-.2 1.41-.59l7.78-7.78 2.81-2.81c.8-.78.8-2.07 0-2.86zM5.41 20L4 18.59l7.72-7.72 1.47 1.35L5.41 20z\"/>\n",
              "  </svg>\n",
              "      </button>\n",
              "      \n",
              "  <style>\n",
              "    .colab-df-container {\n",
              "      display:flex;\n",
              "      flex-wrap:wrap;\n",
              "      gap: 12px;\n",
              "    }\n",
              "\n",
              "    .colab-df-convert {\n",
              "      background-color: #E8F0FE;\n",
              "      border: none;\n",
              "      border-radius: 50%;\n",
              "      cursor: pointer;\n",
              "      display: none;\n",
              "      fill: #1967D2;\n",
              "      height: 32px;\n",
              "      padding: 0 0 0 0;\n",
              "      width: 32px;\n",
              "    }\n",
              "\n",
              "    .colab-df-convert:hover {\n",
              "      background-color: #E2EBFA;\n",
              "      box-shadow: 0px 1px 2px rgba(60, 64, 67, 0.3), 0px 1px 3px 1px rgba(60, 64, 67, 0.15);\n",
              "      fill: #174EA6;\n",
              "    }\n",
              "\n",
              "    [theme=dark] .colab-df-convert {\n",
              "      background-color: #3B4455;\n",
              "      fill: #D2E3FC;\n",
              "    }\n",
              "\n",
              "    [theme=dark] .colab-df-convert:hover {\n",
              "      background-color: #434B5C;\n",
              "      box-shadow: 0px 1px 3px 1px rgba(0, 0, 0, 0.15);\n",
              "      filter: drop-shadow(0px 1px 2px rgba(0, 0, 0, 0.3));\n",
              "      fill: #FFFFFF;\n",
              "    }\n",
              "  </style>\n",
              "\n",
              "      <script>\n",
              "        const buttonEl =\n",
              "          document.querySelector('#df-e6fbb884-3f5c-4c94-9562-1931706149e0 button.colab-df-convert');\n",
              "        buttonEl.style.display =\n",
              "          google.colab.kernel.accessAllowed ? 'block' : 'none';\n",
              "\n",
              "        async function convertToInteractive(key) {\n",
              "          const element = document.querySelector('#df-e6fbb884-3f5c-4c94-9562-1931706149e0');\n",
              "          const dataTable =\n",
              "            await google.colab.kernel.invokeFunction('convertToInteractive',\n",
              "                                                     [key], {});\n",
              "          if (!dataTable) return;\n",
              "\n",
              "          const docLinkHtml = 'Like what you see? Visit the ' +\n",
              "            '<a target=\"_blank\" href=https://colab.research.google.com/notebooks/data_table.ipynb>data table notebook</a>'\n",
              "            + ' to learn more about interactive tables.';\n",
              "          element.innerHTML = '';\n",
              "          dataTable['output_type'] = 'display_data';\n",
              "          await google.colab.output.renderOutput(dataTable, element);\n",
              "          const docLink = document.createElement('div');\n",
              "          docLink.innerHTML = docLinkHtml;\n",
              "          element.appendChild(docLink);\n",
              "        }\n",
              "      </script>\n",
              "    </div>\n",
              "  </div>\n",
              "  "
            ]
          },
          "metadata": {},
          "execution_count": 158
        }
      ]
    },
    {
      "cell_type": "code",
      "source": [
        "print(f'โครงการที่แพงที่สุดในพื้นที่ที่มีความต้องการเช่าสูงที่สุด {Ans2}')"
      ],
      "metadata": {
        "colab": {
          "base_uri": "https://localhost:8080/"
        },
        "id": "p6Mq9pdklMej",
        "outputId": "ca1e7094-3b8a-487c-fde0-732130f87188"
      },
      "execution_count": 135,
      "outputs": [
        {
          "output_type": "stream",
          "name": "stdout",
          "text": [
            "โครงการที่แพงที่สุดในพื้นที่ที่มีความต้องการเช่าสูงที่สุด     propertytype_name_en  volume_of_rental\n",
            "697                Condo              3996\n"
          ]
        }
      ]
    },
    {
      "cell_type": "markdown",
      "source": [
        "##- ราคาเฉลี่ยของโครงการ ที่อยู่ในย่าน (subdistrict) ที่ อาหารการกินมีความหลากหลายที่สุดในช่วงกลางวัน (eating_daytime_variety) ของประเทศไทย (5 คะแนน)"
      ],
      "metadata": {
        "id": "BX0wXp9Ui7RD"
      }
    },
    {
      "cell_type": "code",
      "source": [
        "dataall2 = project.merge(eat, left_on='row_number', right_on='row_number')\n",
        "dataall2.head()"
      ],
      "metadata": {
        "colab": {
          "base_uri": "https://localhost:8080/",
          "height": 456
        },
        "id": "5MA35GBKjBZY",
        "outputId": "9671bbec-42f6-4e63-cc01-24ce2a8e5e2f"
      },
      "execution_count": 164,
      "outputs": [
        {
          "output_type": "execute_result",
          "data": {
            "text/plain": [
              "   row_number                project_id                            name_en  \\\n",
              "0       290.0  62739c4089233e001362b001   Sanrak 9 Sukprayoon Nong Krathum   \n",
              "1       199.0             project_16838         Baanpruksa Ratchapruek-345   \n",
              "2       270.0  5efc3cb4bc2af40019402f74  Golden Valley Assumption-Sriracha   \n",
              "3        73.0              project_1914                        Ohana Condo   \n",
              "4       258.0  5e5e04d435e8160012b45527         Chanothai Sukhonthasawat 8   \n",
              "\n",
              "                             name_th propertytype_id propertytype_name_en  \\\n",
              "0     แสนรัก 9 ศุขประยูร หนองกระทุ่ม               3             Townhome   \n",
              "1             บ้านพฤกษา ราชพฤกษ์-345               3             Townhome   \n",
              "2  โกลเด้น วัลเลย์ อัสสัมชัญ-ศรีราชา               1       Detached House   \n",
              "3                      โอฮาน่า คอนโด               2                Condo   \n",
              "4              ชโนทัย สุคนธสวัสดิ์ 8               3             Townhome   \n",
              "\n",
              "  propertytype_name_th  price_min     developer_id  \\\n",
              "0             ทาวน์โฮม        0.0  developer_10510   \n",
              "1             ทาวน์โฮม  1930000.0   developer_1026   \n",
              "2                 บ้าน  2590000.0  developer_10510   \n",
              "3                คอนโด  1400000.0  developer_10510   \n",
              "4             ทาวน์โฮม  6990000.0  developer_10657   \n",
              "\n",
              "              developer_name_en  ... eating_daytime  eating_daytime_price  \\\n",
              "0                           NaN  ...           66.0                  58.0   \n",
              "1  Preuksa Real Estate Co.,Ltd.  ...           49.0                  72.0   \n",
              "2                           NaN  ...           70.0                  84.0   \n",
              "3                           NaN  ...           56.0                  84.0   \n",
              "4    Chanothai Estate Co., Ltd.  ...           71.0                  74.0   \n",
              "\n",
              "   eating_daytime_quality eating_daytime_variety eating_nighttime  \\\n",
              "0                    68.0                   72.0             64.0   \n",
              "1                    27.0                   60.0             48.0   \n",
              "2                    57.0                   77.0             73.0   \n",
              "3                    30.0                   63.0             57.0   \n",
              "4                    69.0                   74.0             65.0   \n",
              "\n",
              "  eating_nighttime_price  eating_nighttime_quality eating_nighttime_variety  \\\n",
              "0                   49.0                      68.0                     70.0   \n",
              "1                   62.0                      20.0                     59.0   \n",
              "2                   72.0                      61.0                     80.0   \n",
              "3                   69.0                      29.0                     69.0   \n",
              "4                   60.0                      60.0                     71.0   \n",
              "\n",
              "  source_y         day  \n",
              "0   baania  2022-08-31  \n",
              "1   baania  2022-08-31  \n",
              "2   baania  2022-08-31  \n",
              "3   baania  2022-08-31  \n",
              "4   baania  2022-08-31  \n",
              "\n",
              "[5 rows x 64 columns]"
            ],
            "text/html": [
              "\n",
              "  <div id=\"df-e399de67-ff63-48ab-89c0-43cdc6668edd\">\n",
              "    <div class=\"colab-df-container\">\n",
              "      <div>\n",
              "<style scoped>\n",
              "    .dataframe tbody tr th:only-of-type {\n",
              "        vertical-align: middle;\n",
              "    }\n",
              "\n",
              "    .dataframe tbody tr th {\n",
              "        vertical-align: top;\n",
              "    }\n",
              "\n",
              "    .dataframe thead th {\n",
              "        text-align: right;\n",
              "    }\n",
              "</style>\n",
              "<table border=\"1\" class=\"dataframe\">\n",
              "  <thead>\n",
              "    <tr style=\"text-align: right;\">\n",
              "      <th></th>\n",
              "      <th>row_number</th>\n",
              "      <th>project_id</th>\n",
              "      <th>name_en</th>\n",
              "      <th>name_th</th>\n",
              "      <th>propertytype_id</th>\n",
              "      <th>propertytype_name_en</th>\n",
              "      <th>propertytype_name_th</th>\n",
              "      <th>price_min</th>\n",
              "      <th>developer_id</th>\n",
              "      <th>developer_name_en</th>\n",
              "      <th>...</th>\n",
              "      <th>eating_daytime</th>\n",
              "      <th>eating_daytime_price</th>\n",
              "      <th>eating_daytime_quality</th>\n",
              "      <th>eating_daytime_variety</th>\n",
              "      <th>eating_nighttime</th>\n",
              "      <th>eating_nighttime_price</th>\n",
              "      <th>eating_nighttime_quality</th>\n",
              "      <th>eating_nighttime_variety</th>\n",
              "      <th>source_y</th>\n",
              "      <th>day</th>\n",
              "    </tr>\n",
              "  </thead>\n",
              "  <tbody>\n",
              "    <tr>\n",
              "      <th>0</th>\n",
              "      <td>290.0</td>\n",
              "      <td>62739c4089233e001362b001</td>\n",
              "      <td>Sanrak 9 Sukprayoon Nong Krathum</td>\n",
              "      <td>แสนรัก 9 ศุขประยูร หนองกระทุ่ม</td>\n",
              "      <td>3</td>\n",
              "      <td>Townhome</td>\n",
              "      <td>ทาวน์โฮม</td>\n",
              "      <td>0.0</td>\n",
              "      <td>developer_10510</td>\n",
              "      <td>NaN</td>\n",
              "      <td>...</td>\n",
              "      <td>66.0</td>\n",
              "      <td>58.0</td>\n",
              "      <td>68.0</td>\n",
              "      <td>72.0</td>\n",
              "      <td>64.0</td>\n",
              "      <td>49.0</td>\n",
              "      <td>68.0</td>\n",
              "      <td>70.0</td>\n",
              "      <td>baania</td>\n",
              "      <td>2022-08-31</td>\n",
              "    </tr>\n",
              "    <tr>\n",
              "      <th>1</th>\n",
              "      <td>199.0</td>\n",
              "      <td>project_16838</td>\n",
              "      <td>Baanpruksa Ratchapruek-345</td>\n",
              "      <td>บ้านพฤกษา ราชพฤกษ์-345</td>\n",
              "      <td>3</td>\n",
              "      <td>Townhome</td>\n",
              "      <td>ทาวน์โฮม</td>\n",
              "      <td>1930000.0</td>\n",
              "      <td>developer_1026</td>\n",
              "      <td>Preuksa Real Estate Co.,Ltd.</td>\n",
              "      <td>...</td>\n",
              "      <td>49.0</td>\n",
              "      <td>72.0</td>\n",
              "      <td>27.0</td>\n",
              "      <td>60.0</td>\n",
              "      <td>48.0</td>\n",
              "      <td>62.0</td>\n",
              "      <td>20.0</td>\n",
              "      <td>59.0</td>\n",
              "      <td>baania</td>\n",
              "      <td>2022-08-31</td>\n",
              "    </tr>\n",
              "    <tr>\n",
              "      <th>2</th>\n",
              "      <td>270.0</td>\n",
              "      <td>5efc3cb4bc2af40019402f74</td>\n",
              "      <td>Golden Valley Assumption-Sriracha</td>\n",
              "      <td>โกลเด้น วัลเลย์ อัสสัมชัญ-ศรีราชา</td>\n",
              "      <td>1</td>\n",
              "      <td>Detached House</td>\n",
              "      <td>บ้าน</td>\n",
              "      <td>2590000.0</td>\n",
              "      <td>developer_10510</td>\n",
              "      <td>NaN</td>\n",
              "      <td>...</td>\n",
              "      <td>70.0</td>\n",
              "      <td>84.0</td>\n",
              "      <td>57.0</td>\n",
              "      <td>77.0</td>\n",
              "      <td>73.0</td>\n",
              "      <td>72.0</td>\n",
              "      <td>61.0</td>\n",
              "      <td>80.0</td>\n",
              "      <td>baania</td>\n",
              "      <td>2022-08-31</td>\n",
              "    </tr>\n",
              "    <tr>\n",
              "      <th>3</th>\n",
              "      <td>73.0</td>\n",
              "      <td>project_1914</td>\n",
              "      <td>Ohana Condo</td>\n",
              "      <td>โอฮาน่า คอนโด</td>\n",
              "      <td>2</td>\n",
              "      <td>Condo</td>\n",
              "      <td>คอนโด</td>\n",
              "      <td>1400000.0</td>\n",
              "      <td>developer_10510</td>\n",
              "      <td>NaN</td>\n",
              "      <td>...</td>\n",
              "      <td>56.0</td>\n",
              "      <td>84.0</td>\n",
              "      <td>30.0</td>\n",
              "      <td>63.0</td>\n",
              "      <td>57.0</td>\n",
              "      <td>69.0</td>\n",
              "      <td>29.0</td>\n",
              "      <td>69.0</td>\n",
              "      <td>baania</td>\n",
              "      <td>2022-08-31</td>\n",
              "    </tr>\n",
              "    <tr>\n",
              "      <th>4</th>\n",
              "      <td>258.0</td>\n",
              "      <td>5e5e04d435e8160012b45527</td>\n",
              "      <td>Chanothai Sukhonthasawat 8</td>\n",
              "      <td>ชโนทัย สุคนธสวัสดิ์ 8</td>\n",
              "      <td>3</td>\n",
              "      <td>Townhome</td>\n",
              "      <td>ทาวน์โฮม</td>\n",
              "      <td>6990000.0</td>\n",
              "      <td>developer_10657</td>\n",
              "      <td>Chanothai Estate Co., Ltd.</td>\n",
              "      <td>...</td>\n",
              "      <td>71.0</td>\n",
              "      <td>74.0</td>\n",
              "      <td>69.0</td>\n",
              "      <td>74.0</td>\n",
              "      <td>65.0</td>\n",
              "      <td>60.0</td>\n",
              "      <td>60.0</td>\n",
              "      <td>71.0</td>\n",
              "      <td>baania</td>\n",
              "      <td>2022-08-31</td>\n",
              "    </tr>\n",
              "  </tbody>\n",
              "</table>\n",
              "<p>5 rows × 64 columns</p>\n",
              "</div>\n",
              "      <button class=\"colab-df-convert\" onclick=\"convertToInteractive('df-e399de67-ff63-48ab-89c0-43cdc6668edd')\"\n",
              "              title=\"Convert this dataframe to an interactive table.\"\n",
              "              style=\"display:none;\">\n",
              "        \n",
              "  <svg xmlns=\"http://www.w3.org/2000/svg\" height=\"24px\"viewBox=\"0 0 24 24\"\n",
              "       width=\"24px\">\n",
              "    <path d=\"M0 0h24v24H0V0z\" fill=\"none\"/>\n",
              "    <path d=\"M18.56 5.44l.94 2.06.94-2.06 2.06-.94-2.06-.94-.94-2.06-.94 2.06-2.06.94zm-11 1L8.5 8.5l.94-2.06 2.06-.94-2.06-.94L8.5 2.5l-.94 2.06-2.06.94zm10 10l.94 2.06.94-2.06 2.06-.94-2.06-.94-.94-2.06-.94 2.06-2.06.94z\"/><path d=\"M17.41 7.96l-1.37-1.37c-.4-.4-.92-.59-1.43-.59-.52 0-1.04.2-1.43.59L10.3 9.45l-7.72 7.72c-.78.78-.78 2.05 0 2.83L4 21.41c.39.39.9.59 1.41.59.51 0 1.02-.2 1.41-.59l7.78-7.78 2.81-2.81c.8-.78.8-2.07 0-2.86zM5.41 20L4 18.59l7.72-7.72 1.47 1.35L5.41 20z\"/>\n",
              "  </svg>\n",
              "      </button>\n",
              "      \n",
              "  <style>\n",
              "    .colab-df-container {\n",
              "      display:flex;\n",
              "      flex-wrap:wrap;\n",
              "      gap: 12px;\n",
              "    }\n",
              "\n",
              "    .colab-df-convert {\n",
              "      background-color: #E8F0FE;\n",
              "      border: none;\n",
              "      border-radius: 50%;\n",
              "      cursor: pointer;\n",
              "      display: none;\n",
              "      fill: #1967D2;\n",
              "      height: 32px;\n",
              "      padding: 0 0 0 0;\n",
              "      width: 32px;\n",
              "    }\n",
              "\n",
              "    .colab-df-convert:hover {\n",
              "      background-color: #E2EBFA;\n",
              "      box-shadow: 0px 1px 2px rgba(60, 64, 67, 0.3), 0px 1px 3px 1px rgba(60, 64, 67, 0.15);\n",
              "      fill: #174EA6;\n",
              "    }\n",
              "\n",
              "    [theme=dark] .colab-df-convert {\n",
              "      background-color: #3B4455;\n",
              "      fill: #D2E3FC;\n",
              "    }\n",
              "\n",
              "    [theme=dark] .colab-df-convert:hover {\n",
              "      background-color: #434B5C;\n",
              "      box-shadow: 0px 1px 3px 1px rgba(0, 0, 0, 0.15);\n",
              "      filter: drop-shadow(0px 1px 2px rgba(0, 0, 0, 0.3));\n",
              "      fill: #FFFFFF;\n",
              "    }\n",
              "  </style>\n",
              "\n",
              "      <script>\n",
              "        const buttonEl =\n",
              "          document.querySelector('#df-e399de67-ff63-48ab-89c0-43cdc6668edd button.colab-df-convert');\n",
              "        buttonEl.style.display =\n",
              "          google.colab.kernel.accessAllowed ? 'block' : 'none';\n",
              "\n",
              "        async function convertToInteractive(key) {\n",
              "          const element = document.querySelector('#df-e399de67-ff63-48ab-89c0-43cdc6668edd');\n",
              "          const dataTable =\n",
              "            await google.colab.kernel.invokeFunction('convertToInteractive',\n",
              "                                                     [key], {});\n",
              "          if (!dataTable) return;\n",
              "\n",
              "          const docLinkHtml = 'Like what you see? Visit the ' +\n",
              "            '<a target=\"_blank\" href=https://colab.research.google.com/notebooks/data_table.ipynb>data table notebook</a>'\n",
              "            + ' to learn more about interactive tables.';\n",
              "          element.innerHTML = '';\n",
              "          dataTable['output_type'] = 'display_data';\n",
              "          await google.colab.output.renderOutput(dataTable, element);\n",
              "          const docLink = document.createElement('div');\n",
              "          docLink.innerHTML = docLinkHtml;\n",
              "          element.appendChild(docLink);\n",
              "        }\n",
              "      </script>\n",
              "    </div>\n",
              "  </div>\n",
              "  "
            ]
          },
          "metadata": {},
          "execution_count": 164
        }
      ]
    },
    {
      "cell_type": "code",
      "source": [
        "dataall2['price_min'].mean() #['price_min'].mean()"
      ],
      "metadata": {
        "colab": {
          "base_uri": "https://localhost:8080/"
        },
        "id": "uk-Aep3HjyEw",
        "outputId": "1d6b066f-ecdc-4676-d773-15bce3cd0f00"
      },
      "execution_count": 160,
      "outputs": [
        {
          "output_type": "execute_result",
          "data": {
            "text/plain": [
              "4400366.1942990115"
            ]
          },
          "metadata": {},
          "execution_count": 160
        }
      ]
    },
    {
      "cell_type": "code",
      "source": [
        "dataall2['subdistrict_name_th'].describe()"
      ],
      "metadata": {
        "colab": {
          "base_uri": "https://localhost:8080/",
          "height": 502
        },
        "id": "cOykXWsVk1jE",
        "outputId": "8365d9d2-ef60-4969-d3db-1262099578f8"
      },
      "execution_count": 162,
      "outputs": [
        {
          "output_type": "error",
          "ename": "KeyError",
          "evalue": "ignored",
          "traceback": [
            "\u001b[0;31m---------------------------------------------------------------------------\u001b[0m",
            "\u001b[0;31mKeyError\u001b[0m                                  Traceback (most recent call last)",
            "\u001b[0;32m/usr/local/lib/python3.7/dist-packages/pandas/core/indexes/base.py\u001b[0m in \u001b[0;36mget_loc\u001b[0;34m(self, key, method, tolerance)\u001b[0m\n\u001b[1;32m   3360\u001b[0m             \u001b[0;32mtry\u001b[0m\u001b[0;34m:\u001b[0m\u001b[0;34m\u001b[0m\u001b[0;34m\u001b[0m\u001b[0m\n\u001b[0;32m-> 3361\u001b[0;31m                 \u001b[0;32mreturn\u001b[0m \u001b[0mself\u001b[0m\u001b[0;34m.\u001b[0m\u001b[0m_engine\u001b[0m\u001b[0;34m.\u001b[0m\u001b[0mget_loc\u001b[0m\u001b[0;34m(\u001b[0m\u001b[0mcasted_key\u001b[0m\u001b[0;34m)\u001b[0m\u001b[0;34m\u001b[0m\u001b[0;34m\u001b[0m\u001b[0m\n\u001b[0m\u001b[1;32m   3362\u001b[0m             \u001b[0;32mexcept\u001b[0m \u001b[0mKeyError\u001b[0m \u001b[0;32mas\u001b[0m \u001b[0merr\u001b[0m\u001b[0;34m:\u001b[0m\u001b[0;34m\u001b[0m\u001b[0;34m\u001b[0m\u001b[0m\n",
            "\u001b[0;32m/usr/local/lib/python3.7/dist-packages/pandas/_libs/index.pyx\u001b[0m in \u001b[0;36mpandas._libs.index.IndexEngine.get_loc\u001b[0;34m()\u001b[0m\n",
            "\u001b[0;32m/usr/local/lib/python3.7/dist-packages/pandas/_libs/index.pyx\u001b[0m in \u001b[0;36mpandas._libs.index.IndexEngine.get_loc\u001b[0;34m()\u001b[0m\n",
            "\u001b[0;32mpandas/_libs/hashtable_class_helper.pxi\u001b[0m in \u001b[0;36mpandas._libs.hashtable.PyObjectHashTable.get_item\u001b[0;34m()\u001b[0m\n",
            "\u001b[0;32mpandas/_libs/hashtable_class_helper.pxi\u001b[0m in \u001b[0;36mpandas._libs.hashtable.PyObjectHashTable.get_item\u001b[0;34m()\u001b[0m\n",
            "\u001b[0;31mKeyError\u001b[0m: 'subdistrict_name_th'",
            "\nThe above exception was the direct cause of the following exception:\n",
            "\u001b[0;31mKeyError\u001b[0m                                  Traceback (most recent call last)",
            "\u001b[0;32m<ipython-input-162-ea6397ec67af>\u001b[0m in \u001b[0;36m<module>\u001b[0;34m\u001b[0m\n\u001b[0;32m----> 1\u001b[0;31m \u001b[0mdataall2\u001b[0m\u001b[0;34m[\u001b[0m\u001b[0;34m'subdistrict_name_th'\u001b[0m\u001b[0;34m]\u001b[0m\u001b[0;34m.\u001b[0m\u001b[0mdescribe\u001b[0m\u001b[0;34m(\u001b[0m\u001b[0;34m)\u001b[0m\u001b[0;34m\u001b[0m\u001b[0;34m\u001b[0m\u001b[0m\n\u001b[0m",
            "\u001b[0;32m/usr/local/lib/python3.7/dist-packages/pandas/core/frame.py\u001b[0m in \u001b[0;36m__getitem__\u001b[0;34m(self, key)\u001b[0m\n\u001b[1;32m   3456\u001b[0m             \u001b[0;32mif\u001b[0m \u001b[0mself\u001b[0m\u001b[0;34m.\u001b[0m\u001b[0mcolumns\u001b[0m\u001b[0;34m.\u001b[0m\u001b[0mnlevels\u001b[0m \u001b[0;34m>\u001b[0m \u001b[0;36m1\u001b[0m\u001b[0;34m:\u001b[0m\u001b[0;34m\u001b[0m\u001b[0;34m\u001b[0m\u001b[0m\n\u001b[1;32m   3457\u001b[0m                 \u001b[0;32mreturn\u001b[0m \u001b[0mself\u001b[0m\u001b[0;34m.\u001b[0m\u001b[0m_getitem_multilevel\u001b[0m\u001b[0;34m(\u001b[0m\u001b[0mkey\u001b[0m\u001b[0;34m)\u001b[0m\u001b[0;34m\u001b[0m\u001b[0;34m\u001b[0m\u001b[0m\n\u001b[0;32m-> 3458\u001b[0;31m             \u001b[0mindexer\u001b[0m \u001b[0;34m=\u001b[0m \u001b[0mself\u001b[0m\u001b[0;34m.\u001b[0m\u001b[0mcolumns\u001b[0m\u001b[0;34m.\u001b[0m\u001b[0mget_loc\u001b[0m\u001b[0;34m(\u001b[0m\u001b[0mkey\u001b[0m\u001b[0;34m)\u001b[0m\u001b[0;34m\u001b[0m\u001b[0;34m\u001b[0m\u001b[0m\n\u001b[0m\u001b[1;32m   3459\u001b[0m             \u001b[0;32mif\u001b[0m \u001b[0mis_integer\u001b[0m\u001b[0;34m(\u001b[0m\u001b[0mindexer\u001b[0m\u001b[0;34m)\u001b[0m\u001b[0;34m:\u001b[0m\u001b[0;34m\u001b[0m\u001b[0;34m\u001b[0m\u001b[0m\n\u001b[1;32m   3460\u001b[0m                 \u001b[0mindexer\u001b[0m \u001b[0;34m=\u001b[0m \u001b[0;34m[\u001b[0m\u001b[0mindexer\u001b[0m\u001b[0;34m]\u001b[0m\u001b[0;34m\u001b[0m\u001b[0;34m\u001b[0m\u001b[0m\n",
            "\u001b[0;32m/usr/local/lib/python3.7/dist-packages/pandas/core/indexes/base.py\u001b[0m in \u001b[0;36mget_loc\u001b[0;34m(self, key, method, tolerance)\u001b[0m\n\u001b[1;32m   3361\u001b[0m                 \u001b[0;32mreturn\u001b[0m \u001b[0mself\u001b[0m\u001b[0;34m.\u001b[0m\u001b[0m_engine\u001b[0m\u001b[0;34m.\u001b[0m\u001b[0mget_loc\u001b[0m\u001b[0;34m(\u001b[0m\u001b[0mcasted_key\u001b[0m\u001b[0;34m)\u001b[0m\u001b[0;34m\u001b[0m\u001b[0;34m\u001b[0m\u001b[0m\n\u001b[1;32m   3362\u001b[0m             \u001b[0;32mexcept\u001b[0m \u001b[0mKeyError\u001b[0m \u001b[0;32mas\u001b[0m \u001b[0merr\u001b[0m\u001b[0;34m:\u001b[0m\u001b[0;34m\u001b[0m\u001b[0;34m\u001b[0m\u001b[0m\n\u001b[0;32m-> 3363\u001b[0;31m                 \u001b[0;32mraise\u001b[0m \u001b[0mKeyError\u001b[0m\u001b[0;34m(\u001b[0m\u001b[0mkey\u001b[0m\u001b[0;34m)\u001b[0m \u001b[0;32mfrom\u001b[0m \u001b[0merr\u001b[0m\u001b[0;34m\u001b[0m\u001b[0;34m\u001b[0m\u001b[0m\n\u001b[0m\u001b[1;32m   3364\u001b[0m \u001b[0;34m\u001b[0m\u001b[0m\n\u001b[1;32m   3365\u001b[0m         \u001b[0;32mif\u001b[0m \u001b[0mis_scalar\u001b[0m\u001b[0;34m(\u001b[0m\u001b[0mkey\u001b[0m\u001b[0;34m)\u001b[0m \u001b[0;32mand\u001b[0m \u001b[0misna\u001b[0m\u001b[0;34m(\u001b[0m\u001b[0mkey\u001b[0m\u001b[0;34m)\u001b[0m \u001b[0;32mand\u001b[0m \u001b[0;32mnot\u001b[0m \u001b[0mself\u001b[0m\u001b[0;34m.\u001b[0m\u001b[0mhasnans\u001b[0m\u001b[0;34m:\u001b[0m\u001b[0;34m\u001b[0m\u001b[0;34m\u001b[0m\u001b[0m\n",
            "\u001b[0;31mKeyError\u001b[0m: 'subdistrict_name_th'"
          ]
        }
      ]
    }
  ]
}