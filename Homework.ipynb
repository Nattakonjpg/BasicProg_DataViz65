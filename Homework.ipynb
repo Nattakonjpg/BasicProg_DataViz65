{
  "nbformat": 4,
  "nbformat_minor": 0,
  "metadata": {
    "colab": {
      "name": "Homework.ipynb",
      "provenance": [],
      "collapsed_sections": [],
      "authorship_tag": "ABX9TyNNCIdCTwdEjBQxMw19fjyX",
      "include_colab_link": true
    },
    "kernelspec": {
      "name": "python3",
      "display_name": "Python 3"
    },
    "language_info": {
      "name": "python"
    }
  },
  "cells": [
    {
      "cell_type": "markdown",
      "metadata": {
        "id": "view-in-github",
        "colab_type": "text"
      },
      "source": [
        "<a href=\"https://colab.research.google.com/github/Nattakonjpg/BasicProg_DataViz65/blob/main/Homework.ipynb\" target=\"_parent\"><img src=\"https://colab.research.google.com/assets/colab-badge.svg\" alt=\"Open In Colab\"/></a>"
      ]
    },
    {
      "cell_type": "markdown",
      "source": [
        "##HW1\n",
        "\n",
        "เขียน function แสดงความต่างของเวลา (Quiz1) โดย input อยู่ในรูปแบบ '09:11:50 - 12:30:15'\n",
        "\n",
        "และทดลองรัน\n",
        "\n",
        "09:11:50 - 12:30:15\n",
        "\n",
        "13:41:07 - 20:00:18\n",
        "\n",
        "00:00:00 - 23:59:59"
      ],
      "metadata": {
        "id": "k031kI3kQXZK"
      }
    },
    {
      "cell_type": "code",
      "source": [
        "def print_time(mytime):\n",
        "    start=mytime.split(\"-\")  #ตัด - ออก ทำให้ได้จำนวนสมาชิกมา 2 ตัว คือเวลาเริ่ม กับเวลาจบ\n",
        "    time1=start[0] #กำหนดเวลาเริ่มป็น 1\n",
        "    sp_time1=time1.split(\":\") #เวลาเริ่มเอา : ออกจะได้เหลือแต่ตัวเลข\n",
        "    time2=start[1] #กำหนดเวลาจบเป็น 2\n",
        "    sp_time2=time2.split(\":\") #เวลาจบเอา : ออกจะได้เหลือแต่ตัวเลข\n",
        "    a1 = (int(sp_time1[0])*3600)+(int(sp_time1[1])*60)+int(sp_time1[2])\n",
        "    a2 = (int(sp_time2[0])*3600)+(int(sp_time2[1])*60)+int(sp_time2[2])\n",
        "    time3 = a2-a1\n",
        "    print(f'{time1}-{time2} ความต่างของเวลา = {time3} วินาที')"
      ],
      "metadata": {
        "id": "VCz2QE2QQrvf"
      },
      "execution_count": 141,
      "outputs": []
    },
    {
      "cell_type": "code",
      "source": [
        "print_time(\"09:11:50-12:30:15\")"
      ],
      "metadata": {
        "colab": {
          "base_uri": "https://localhost:8080/"
        },
        "id": "Gjy5ksP1R07G",
        "outputId": "06a2a510-cd3f-4feb-e942-92dbe62eff44"
      },
      "execution_count": 142,
      "outputs": [
        {
          "output_type": "stream",
          "name": "stdout",
          "text": [
            "09:11:50-12:30:15 ความต่างของเวลา = 11905 วินาที\n"
          ]
        }
      ]
    },
    {
      "cell_type": "code",
      "source": [
        "print_time(\"13:41:07 - 20:00:18\")"
      ],
      "metadata": {
        "colab": {
          "base_uri": "https://localhost:8080/"
        },
        "id": "IhjVJsLFr0pB",
        "outputId": "746ddcf7-0f1c-4aa2-92d8-e9ab38a2adf9"
      },
      "execution_count": 143,
      "outputs": [
        {
          "output_type": "stream",
          "name": "stdout",
          "text": [
            "13:41:07 - 20:00:18 ความต่างของเวลา = 22751 วินาที\n"
          ]
        }
      ]
    },
    {
      "cell_type": "code",
      "source": [
        "print_time(\"00:00:00 - 23:59:59\")"
      ],
      "metadata": {
        "colab": {
          "base_uri": "https://localhost:8080/"
        },
        "id": "y3U2iwSTr625",
        "outputId": "d68319bb-a357-45c2-b6dc-59c23daaebdd"
      },
      "execution_count": 144,
      "outputs": [
        {
          "output_type": "stream",
          "name": "stdout",
          "text": [
            "00:00:00 - 23:59:59 ความต่างของเวลา = 86399 วินาที\n"
          ]
        }
      ]
    }
  ]
}