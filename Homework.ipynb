{
  "nbformat": 4,
  "nbformat_minor": 0,
  "metadata": {
    "colab": {
      "name": "Homework.ipynb",
      "provenance": [],
      "authorship_tag": "ABX9TyPeopQi43CrOWIeIUlRKsWm",
      "include_colab_link": true
    },
    "kernelspec": {
      "name": "python3",
      "display_name": "Python 3"
    },
    "language_info": {
      "name": "python"
    }
  },
  "cells": [
    {
      "cell_type": "markdown",
      "metadata": {
        "id": "view-in-github",
        "colab_type": "text"
      },
      "source": [
        "<a href=\"https://colab.research.google.com/github/Nattakonjpg/BasicProg_DataViz65/blob/main/Homework.ipynb\" target=\"_parent\"><img src=\"https://colab.research.google.com/assets/colab-badge.svg\" alt=\"Open In Colab\"/></a>"
      ]
    },
    {
      "cell_type": "markdown",
      "source": [
        "##HW1\n",
        "\n",
        "เขียน function แสดงความต่างของเวลา (Quiz1) โดย input อยู่ในรูปแบบ '09:11:50 - 12:30:15'\n",
        "\n",
        "และทดลองรัน\n",
        "\n",
        "09:11:50 - 12:30:15\n",
        "\n",
        "13:41:07 - 20:00:18\n",
        "\n",
        "00:00:00 - 23:59:59"
      ],
      "metadata": {
        "id": "k031kI3kQXZK"
      }
    },
    {
      "cell_type": "code",
      "source": [
        "def print_time(time1,time2):\n",
        "    t1 = time1\n",
        "    sp_t1 =t1.split(\":\")\n",
        "    t2 = time2\n",
        "    sp_t2=t2.split(\":\")\n",
        "    a1 = (int(sp_t2[0])*3600)+(int(sp_t2[1])*60)+int(sp_t2[2])\n",
        "    a2 = (int(sp_t1[0])*3600)+(int(sp_t1[1])*60)+int(sp_t1[2])\n",
        "    time3 = (a1-a2)\n",
        "    print(f'{time1} - {time2} ความต่างของเวลา = {time3} วินาที')"
      ],
      "metadata": {
        "id": "VCz2QE2QQrvf"
      },
      "execution_count": 32,
      "outputs": []
    },
    {
      "cell_type": "code",
      "source": [
        "print_time(\"09:11:50\",\"12:30:15\")"
      ],
      "metadata": {
        "colab": {
          "base_uri": "https://localhost:8080/"
        },
        "id": "Gjy5ksP1R07G",
        "outputId": "7fbc1b96-3f5f-4083-d406-4d218b098ddb"
      },
      "execution_count": 27,
      "outputs": [
        {
          "output_type": "stream",
          "name": "stdout",
          "text": [
            "09:11:50 - 12:30:15 ความต่างของเวลา = 11905 วินาที\n"
          ]
        }
      ]
    },
    {
      "cell_type": "code",
      "source": [
        "print_time(\"13:41:07\",\"20:00:18\")"
      ],
      "metadata": {
        "colab": {
          "base_uri": "https://localhost:8080/"
        },
        "id": "yo33_vg0S-Rj",
        "outputId": "2a025687-a0f4-459a-893c-e3bcb56d854a"
      },
      "execution_count": 28,
      "outputs": [
        {
          "output_type": "stream",
          "name": "stdout",
          "text": [
            "13:41:07 - 20:00:18 ความต่างของเวลา = 22751 วินาที\n"
          ]
        }
      ]
    },
    {
      "cell_type": "code",
      "source": [
        "print_time(\"00:00:00\",\"23:59:59\")"
      ],
      "metadata": {
        "colab": {
          "base_uri": "https://localhost:8080/"
        },
        "id": "Fd5zaG1kTF5N",
        "outputId": "a97fe163-5bba-4336-dea1-7f0b139d40e1"
      },
      "execution_count": 31,
      "outputs": [
        {
          "output_type": "stream",
          "name": "stdout",
          "text": [
            "00:00:00 - 23:59:59 ความต่างของเวลา = 86399 วินาที\n"
          ]
        }
      ]
    }
  ]
}