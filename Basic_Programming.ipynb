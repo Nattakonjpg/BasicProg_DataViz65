{
  "nbformat": 4,
  "nbformat_minor": 0,
  "metadata": {
    "colab": {
      "name": "Basic Programming.ipynb",
      "provenance": [],
      "collapsed_sections": [],
      "authorship_tag": "ABX9TyPdDlX7jQeKvk4Tw6uJxQKQ",
      "include_colab_link": true
    },
    "kernelspec": {
      "name": "python3",
      "display_name": "Python 3"
    },
    "language_info": {
      "name": "python"
    }
  },
  "cells": [
    {
      "cell_type": "markdown",
      "metadata": {
        "id": "view-in-github",
        "colab_type": "text"
      },
      "source": [
        "<a href=\"https://colab.research.google.com/github/Nattakonjpg/BasicProg_DataViz65/blob/main/Basic_Programming.ipynb\" target=\"_parent\"><img src=\"https://colab.research.google.com/assets/colab-badge.svg\" alt=\"Open In Colab\"/></a>"
      ]
    },
    {
      "cell_type": "markdown",
      "source": [
        "#Function ($f(x)=y$)\n",
        "\n"
      ],
      "metadata": {
        "id": "n9Vpm82lL40W"
      }
    },
    {
      "cell_type": "markdown",
      "source": [
        "```python\n",
        "def function(input_x) :\n",
        "    do something\n",
        "    return output_y\n",
        "\n",
        " ```"
      ],
      "metadata": {
        "id": "RZ2VWRC2MCqy"
      }
    },
    {
      "cell_type": "markdown",
      "source": [
        "$f_1(x)=x^2 + 75$"
      ],
      "metadata": {
        "id": "IdSWl-aH5wc-"
      }
    },
    {
      "cell_type": "code",
      "source": [
        "def function_f1(x):\n",
        "    a = x**2  # ค่าที่ได้ ยกกำลัง 2\n",
        "    y = a + 75 # เอาค่าที่ยก 2 มา +75 \n",
        "    return y\n",
        "    print(\"finish\")"
      ],
      "metadata": {
        "id": "QdQZu-sJ596h"
      },
      "execution_count": 5,
      "outputs": []
    },
    {
      "cell_type": "code",
      "source": [
        "function_f1(2)"
      ],
      "metadata": {
        "colab": {
          "base_uri": "https://localhost:8080/"
        },
        "id": "hLpQE2NY6u_K",
        "outputId": "0c2f1100-9945-4110-db4e-cca5bfab1ae7"
      },
      "execution_count": 6,
      "outputs": [
        {
          "output_type": "execute_result",
          "data": {
            "text/plain": [
              "79"
            ]
          },
          "metadata": {},
          "execution_count": 6
        }
      ]
    },
    {
      "cell_type": "markdown",
      "source": [
        "### function มีส่วนสำคัญทั้งหมด  4 ส่วน\n",
        "1. บอก python ว่าเราจะเขียนฟังก์ชั่น ชื่ออะไร def function_name(): (ขาดไม่ได้)\n",
        "2. กำหนดตัวแปรที่จะเป็น input _Input_ (ขาดได้)\n",
        "3. ส่วนประมวลผล do_something with *Input* to get *Output* (ขาดไม่ได้)\n",
        "4. ส่วน output return Output (ขาดไม่ได้)"
      ],
      "metadata": {
        "id": "1N7Dz9Lr7XLy"
      }
    },
    {
      "cell_type": "markdown",
      "source": [
        "### ตัวอย่าง function ที่มีส่วนประกอบครบ"
      ],
      "metadata": {
        "id": "qM56Zu1D78eE"
      }
    },
    {
      "cell_type": "code",
      "source": [
        "def function_f1(x):\n",
        "    a = x**2  # ค่าที่ได้ ยกกำลัง 2\n",
        "    y = a + 75 # เอาค่าที่ยก 2 มา +75 \n",
        "    return y"
      ],
      "metadata": {
        "id": "MnS3uJVP8BUz"
      },
      "execution_count": null,
      "outputs": []
    },
    {
      "cell_type": "markdown",
      "source": [
        "### ตัวอย่าง function ที่มีส่วนประกอบไม่ครบ"
      ],
      "metadata": {
        "id": "GLWQf6xu8JR3"
      }
    },
    {
      "cell_type": "code",
      "source": [
        "def pi_v():\n",
        "    y = 3.141592654\n",
        "    return y"
      ],
      "metadata": {
        "id": "TNKGl6L-8MV_"
      },
      "execution_count": 8,
      "outputs": []
    },
    {
      "cell_type": "code",
      "source": [
        "piv= pi_v()\n",
        "circle_area_r2 = piv*(2**2)\n",
        "print(circle_area_r2)"
      ],
      "metadata": {
        "colab": {
          "base_uri": "https://localhost:8080/"
        },
        "id": "bEIAkT1sIBvO",
        "outputId": "06c8dda2-f967-480c-e30f-b85622482845"
      },
      "execution_count": 9,
      "outputs": [
        {
          "output_type": "stream",
          "name": "stdout",
          "text": [
            "12.566370616\n"
          ]
        }
      ]
    },
    {
      "cell_type": "markdown",
      "source": [
        "### Function ไม่มี process ไม่ได้"
      ],
      "metadata": {
        "id": "-ObKrgVaIiNT"
      }
    },
    {
      "cell_type": "code",
      "source": [
        "def function_a():"
      ],
      "metadata": {
        "id": "WYxp6vgIJJes"
      },
      "execution_count": null,
      "outputs": []
    },
    {
      "cell_type": "markdown",
      "source": [
        "##Function **Print**"
      ],
      "metadata": {
        "id": "WFN3S1ugRXB7"
      }
    },
    {
      "cell_type": "code",
      "source": [
        "def print_name_id(name,id):             # input รับค่า\n",
        "    print(f'ชื่อ {name} รหัสประจำตัว {id}') # print(input)"
      ],
      "metadata": {
        "id": "ynBn22bzNMkJ"
      },
      "execution_count": 12,
      "outputs": []
    },
    {
      "cell_type": "code",
      "source": [
        "print_name_id('ณัฐกรณ์',\"633021015-9\") # ป้อน input เข้าไป"
      ],
      "metadata": {
        "colab": {
          "base_uri": "https://localhost:8080/"
        },
        "id": "9jnQQJupNYCd",
        "outputId": "5e2483f2-03e9-44d3-f173-58a7d79c29f7"
      },
      "execution_count": 13,
      "outputs": [
        {
          "output_type": "stream",
          "name": "stdout",
          "text": [
            "ชื่อ ณัฐกรณ์ รหัสประจำตัว 633021015-9\n"
          ]
        }
      ]
    },
    {
      "cell_type": "code",
      "source": [
        "a = print_name_id('ณัฐกรณ์',\"633021015-9\")"
      ],
      "metadata": {
        "colab": {
          "base_uri": "https://localhost:8080/"
        },
        "id": "XAf7Sd2bNqf3",
        "outputId": "c58f31d0-9853-4a20-ca3d-4a22dca20f5e"
      },
      "execution_count": 17,
      "outputs": [
        {
          "output_type": "stream",
          "name": "stdout",
          "text": [
            "ชื่อ ณัฐกรณ์ รหัสประจำตัว 633021015-9\n"
          ]
        }
      ]
    },
    {
      "cell_type": "code",
      "source": [
        "print(a)"
      ],
      "metadata": {
        "colab": {
          "base_uri": "https://localhost:8080/"
        },
        "id": "cL7cFKSZNtYZ",
        "outputId": "8dae60ff-ea43-4e66-ecda-8404f657a7bc"
      },
      "execution_count": 18,
      "outputs": [
        {
          "output_type": "stream",
          "name": "stdout",
          "text": [
            "None\n"
          ]
        }
      ]
    },
    {
      "cell_type": "code",
      "source": [
        "print(\"hello\")\n",
        "print(\"สวัสดี\")"
      ],
      "metadata": {
        "colab": {
          "base_uri": "https://localhost:8080/"
        },
        "id": "fnEGhQ_tRefS",
        "outputId": "8a29e650-7c94-4df0-cf93-c114dfbd913a"
      },
      "execution_count": 10,
      "outputs": [
        {
          "output_type": "stream",
          "name": "stdout",
          "text": [
            "hello\n",
            "สวัสดี\n"
          ]
        }
      ]
    },
    {
      "cell_type": "code",
      "source": [
        "print(\"hello\",end=\"\")\n",
        "print(\"สวัสดี\")"
      ],
      "metadata": {
        "colab": {
          "base_uri": "https://localhost:8080/"
        },
        "id": "dfRSazdQSAL5",
        "outputId": "7cc8d7e1-5abc-476f-c2b5-ca1d443f7667"
      },
      "execution_count": 11,
      "outputs": [
        {
          "output_type": "stream",
          "name": "stdout",
          "text": [
            "helloสวัสดี\n"
          ]
        }
      ]
    }
  ]
}