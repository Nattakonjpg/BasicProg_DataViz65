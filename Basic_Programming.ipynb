{
  "nbformat": 4,
  "nbformat_minor": 0,
  "metadata": {
    "colab": {
      "provenance": [],
      "collapsed_sections": [
        "qM56Zu1D78eE",
        "GLWQf6xu8JR3",
        "-ObKrgVaIiNT",
        "WFN3S1ugRXB7",
        "0lGWvIqAOHpK",
        "PawI6y01EqVi"
      ],
      "authorship_tag": "ABX9TyOYaju5e1NWRwUVD3eLFCMf",
      "include_colab_link": true
    },
    "kernelspec": {
      "name": "python3",
      "display_name": "Python 3"
    },
    "language_info": {
      "name": "python"
    }
  },
  "cells": [
    {
      "cell_type": "markdown",
      "metadata": {
        "id": "view-in-github",
        "colab_type": "text"
      },
      "source": [
        "<a href=\"https://colab.research.google.com/github/Nattakonjpg/BasicProg_DataViz65/blob/main/Basic_Programming.ipynb\" target=\"_parent\"><img src=\"https://colab.research.google.com/assets/colab-badge.svg\" alt=\"Open In Colab\"/></a>"
      ]
    },
    {
      "cell_type": "markdown",
      "source": [
        "#Function ($f(x)=y$)\n",
        "\n"
      ],
      "metadata": {
        "id": "n9Vpm82lL40W"
      }
    },
    {
      "cell_type": "markdown",
      "source": [
        "```python\n",
        "def function(input_x) :\n",
        "    do something\n",
        "    return output_y\n",
        "\n",
        " ```"
      ],
      "metadata": {
        "id": "RZ2VWRC2MCqy"
      }
    },
    {
      "cell_type": "markdown",
      "source": [
        "$f_1(x)=x^2 + 75$"
      ],
      "metadata": {
        "id": "IdSWl-aH5wc-"
      }
    },
    {
      "cell_type": "code",
      "source": [
        "def function_f1(x):\n",
        "    a = x**2  # ค่าที่ได้ ยกกำลัง 2\n",
        "    y = a + 75 # เอาค่าที่ยก 2 มา +75 \n",
        "    return y\n",
        "    print(\"finish\")"
      ],
      "metadata": {
        "id": "QdQZu-sJ596h"
      },
      "execution_count": null,
      "outputs": []
    },
    {
      "cell_type": "code",
      "source": [
        "function_f1(2)"
      ],
      "metadata": {
        "colab": {
          "base_uri": "https://localhost:8080/"
        },
        "id": "hLpQE2NY6u_K",
        "outputId": "0c2f1100-9945-4110-db4e-cca5bfab1ae7"
      },
      "execution_count": null,
      "outputs": [
        {
          "output_type": "execute_result",
          "data": {
            "text/plain": [
              "79"
            ]
          },
          "metadata": {},
          "execution_count": 6
        }
      ]
    },
    {
      "cell_type": "markdown",
      "source": [
        "### function มีส่วนสำคัญทั้งหมด  4 ส่วน\n",
        "1. บอก python ว่าเราจะเขียนฟังก์ชั่น ชื่ออะไร def function_name(): (ขาดไม่ได้)\n",
        "2. กำหนดตัวแปรที่จะเป็น input _Input_ (ขาดได้)\n",
        "3. ส่วนประมวลผล do_something with *Input* to get *Output* (ขาดไม่ได้)\n",
        "4. ส่วน output return Output (ขาดไม่ได้)"
      ],
      "metadata": {
        "id": "1N7Dz9Lr7XLy"
      }
    },
    {
      "cell_type": "markdown",
      "source": [
        "### ตัวอย่าง function ที่มีส่วนประกอบครบ"
      ],
      "metadata": {
        "id": "qM56Zu1D78eE"
      }
    },
    {
      "cell_type": "code",
      "source": [
        "def function_f1(x):\n",
        "    a = x**2  # ค่าที่ได้ ยกกำลัง 2\n",
        "    y = a + 75 # เอาค่าที่ยก 2 มา +75 \n",
        "    return y"
      ],
      "metadata": {
        "id": "MnS3uJVP8BUz"
      },
      "execution_count": null,
      "outputs": []
    },
    {
      "cell_type": "markdown",
      "source": [
        "### ตัวอย่าง function ที่มีส่วนประกอบไม่ครบ"
      ],
      "metadata": {
        "id": "GLWQf6xu8JR3"
      }
    },
    {
      "cell_type": "code",
      "source": [
        "def pi_v():\n",
        "    y = 3.141592654\n",
        "    return y"
      ],
      "metadata": {
        "id": "TNKGl6L-8MV_"
      },
      "execution_count": null,
      "outputs": []
    },
    {
      "cell_type": "code",
      "source": [
        "piv= pi_v()\n",
        "circle_area_r2 = piv*(2**2)\n",
        "print(circle_area_r2)"
      ],
      "metadata": {
        "colab": {
          "base_uri": "https://localhost:8080/"
        },
        "id": "bEIAkT1sIBvO",
        "outputId": "06c8dda2-f967-480c-e30f-b85622482845"
      },
      "execution_count": null,
      "outputs": [
        {
          "output_type": "stream",
          "name": "stdout",
          "text": [
            "12.566370616\n"
          ]
        }
      ]
    },
    {
      "cell_type": "markdown",
      "source": [
        "### Function ไม่มี process ไม่ได้"
      ],
      "metadata": {
        "id": "-ObKrgVaIiNT"
      }
    },
    {
      "cell_type": "code",
      "source": [
        "def function_a():"
      ],
      "metadata": {
        "id": "WYxp6vgIJJes"
      },
      "execution_count": null,
      "outputs": []
    },
    {
      "cell_type": "markdown",
      "source": [
        "##Function **Print**"
      ],
      "metadata": {
        "id": "WFN3S1ugRXB7"
      }
    },
    {
      "cell_type": "code",
      "source": [
        "def print_name_id(name,id):             # input รับค่า\n",
        "    print(f'ชื่อ {name} รหัสประจำตัว {id}') # print(input)"
      ],
      "metadata": {
        "id": "ynBn22bzNMkJ"
      },
      "execution_count": null,
      "outputs": []
    },
    {
      "cell_type": "code",
      "source": [
        "print_name_id('ณัฐกรณ์',\"633021015-9\") # ป้อน input เข้าไป"
      ],
      "metadata": {
        "colab": {
          "base_uri": "https://localhost:8080/"
        },
        "id": "9jnQQJupNYCd",
        "outputId": "5e2483f2-03e9-44d3-f173-58a7d79c29f7"
      },
      "execution_count": null,
      "outputs": [
        {
          "output_type": "stream",
          "name": "stdout",
          "text": [
            "ชื่อ ณัฐกรณ์ รหัสประจำตัว 633021015-9\n"
          ]
        }
      ]
    },
    {
      "cell_type": "code",
      "source": [
        "a = print_name_id('ณัฐกรณ์',\"633021015-9\")"
      ],
      "metadata": {
        "colab": {
          "base_uri": "https://localhost:8080/",
          "height": 165
        },
        "id": "XAf7Sd2bNqf3",
        "outputId": "a0bf5b77-5555-4792-9b4f-707530ae3354"
      },
      "execution_count": null,
      "outputs": [
        {
          "output_type": "error",
          "ename": "NameError",
          "evalue": "ignored",
          "traceback": [
            "\u001b[0;31m---------------------------------------------------------------------------\u001b[0m",
            "\u001b[0;31mNameError\u001b[0m                                 Traceback (most recent call last)",
            "\u001b[0;32m<ipython-input-15-3a8b5c969bde>\u001b[0m in \u001b[0;36m<module>\u001b[0;34m()\u001b[0m\n\u001b[0;32m----> 1\u001b[0;31m \u001b[0ma\u001b[0m \u001b[0;34m=\u001b[0m \u001b[0mprint_name_id\u001b[0m\u001b[0;34m(\u001b[0m\u001b[0;34m'ณัฐกรณ์'\u001b[0m\u001b[0;34m,\u001b[0m\u001b[0;34m\"633021015-9\"\u001b[0m\u001b[0;34m)\u001b[0m\u001b[0;34m\u001b[0m\u001b[0;34m\u001b[0m\u001b[0m\n\u001b[0m",
            "\u001b[0;31mNameError\u001b[0m: name 'print_name_id' is not defined"
          ]
        }
      ]
    },
    {
      "cell_type": "code",
      "source": [
        "print(a)"
      ],
      "metadata": {
        "colab": {
          "base_uri": "https://localhost:8080/"
        },
        "id": "cL7cFKSZNtYZ",
        "outputId": "8dae60ff-ea43-4e66-ecda-8404f657a7bc"
      },
      "execution_count": null,
      "outputs": [
        {
          "output_type": "stream",
          "name": "stdout",
          "text": [
            "None\n"
          ]
        }
      ]
    },
    {
      "cell_type": "code",
      "source": [
        "print(\"hello\")\n",
        "print(\"สวัสดี\")"
      ],
      "metadata": {
        "colab": {
          "base_uri": "https://localhost:8080/"
        },
        "id": "fnEGhQ_tRefS",
        "outputId": "8a29e650-7c94-4df0-cf93-c114dfbd913a"
      },
      "execution_count": null,
      "outputs": [
        {
          "output_type": "stream",
          "name": "stdout",
          "text": [
            "hello\n",
            "สวัสดี\n"
          ]
        }
      ]
    },
    {
      "cell_type": "code",
      "source": [
        "print(\"hello\",end=\"\")\n",
        "print(\"สวัสดี\")"
      ],
      "metadata": {
        "colab": {
          "base_uri": "https://localhost:8080/"
        },
        "id": "dfRSazdQSAL5",
        "outputId": "7cc8d7e1-5abc-476f-c2b5-ca1d443f7667"
      },
      "execution_count": null,
      "outputs": [
        {
          "output_type": "stream",
          "name": "stdout",
          "text": [
            "helloสวัสดี\n"
          ]
        }
      ]
    },
    {
      "cell_type": "code",
      "source": [
        "print(\"ณัฐกรณ์\",\"633021015-9\",sep=\" => \")"
      ],
      "metadata": {
        "colab": {
          "base_uri": "https://localhost:8080/"
        },
        "id": "lNk5Z4JdN4KS",
        "outputId": "550cdab9-6fe3-4fb6-d5ca-2c3b3002bef3"
      },
      "execution_count": null,
      "outputs": [
        {
          "output_type": "stream",
          "name": "stdout",
          "text": [
            "ณัฐกรณ์ => 633021015-9\n"
          ]
        }
      ]
    },
    {
      "cell_type": "markdown",
      "source": [
        "## Input ของ function แบ่งเป็น 2 ชนิด (จำเป็นต้องใส่ กับ ไม่จำเป็นต้องใส่)"
      ],
      "metadata": {
        "id": "0lGWvIqAOHpK"
      }
    },
    {
      "cell_type": "markdown",
      "source": [
        "ตัวอย่าง function print_grade() มี input 3 ตัว จำเป็นต้องใส่ 2 ตัวคือ name , id \n",
        "\n",
        "และไม่จำเป็นต้องใส่ 1 ตัว คือเกรด ซึ่งมีค่า default เป็น F"
      ],
      "metadata": {
        "id": "ay3reBzEO2hm"
      }
    },
    {
      "cell_type": "code",
      "source": [
        "def print_grade(name,id,grade = \"F\"):\n",
        "    print(f'ชื่อ {name} รหัสประจำตัว {id}')\n",
        "    print(f'ได้เกรด {grade}')"
      ],
      "metadata": {
        "id": "Ka8d2r2mOPrE"
      },
      "execution_count": null,
      "outputs": []
    },
    {
      "cell_type": "code",
      "source": [
        "print_grade(\"ณัฐกรณ์ พวงแก้ว\",\"633021015-9\",\"A\") #ข้างในคือ input"
      ],
      "metadata": {
        "id": "IOBxiOVgPJCa"
      },
      "execution_count": null,
      "outputs": []
    },
    {
      "cell_type": "code",
      "source": [
        "print_grade(id=\"633021015-9\",name=\"Nattakon Puangkaew\")"
      ],
      "metadata": {
        "id": "3h_K-XWOPPWj"
      },
      "execution_count": null,
      "outputs": []
    },
    {
      "cell_type": "markdown",
      "source": [
        "#Looping (for)"
      ],
      "metadata": {
        "id": "iBkcJCKGlXSm"
      }
    },
    {
      "cell_type": "markdown",
      "source": [
        "``` python\n",
        "for member in listEx:\n",
        "    do_something()\n",
        "```"
      ],
      "metadata": {
        "id": "GVKyEwztlblB"
      }
    },
    {
      "cell_type": "code",
      "source": [
        "for member in [1,2,3,4,5,6]:\n",
        "    print(member)"
      ],
      "metadata": {
        "id": "-g8YbGq5mAPe"
      },
      "execution_count": null,
      "outputs": []
    },
    {
      "cell_type": "code",
      "source": [
        "def print_name(name):\n",
        "    print(f'ฉันชื่อ {name}')"
      ],
      "metadata": {
        "id": "WYQz4PqImYaG"
      },
      "execution_count": null,
      "outputs": []
    },
    {
      "cell_type": "code",
      "source": [
        "for name in  ['ณัฐกรณ์','Wanchai','Wanpen'] : #สร้าง list เก็บชื่อ\n",
        "    print_name(name)  #แล้วเอา list ใส่ในฟังก์ชั่น เพื่อที่จะรันฟังก์ชั่น\n"
      ],
      "metadata": {
        "id": "LmFj0rDJmok5"
      },
      "execution_count": null,
      "outputs": []
    },
    {
      "cell_type": "code",
      "source": [
        "list_name_id_grade =[[\"ณัฐกรณ พวงแก้ว\",'015-9','A'],\n",
        "                     [\"วันชัย พวงแก้ว\",'016-0','B+'],\n",
        "                     [\"วรรเพ็ญ บัวศรี\",'016-1','B']]"
      ],
      "metadata": {
        "id": "5vJEUkOtpdlZ"
      },
      "execution_count": null,
      "outputs": []
    },
    {
      "cell_type": "code",
      "source": [
        "for each in list_name_id_grade :\n",
        "    name = each[0]\n",
        "    id = each[1]\n",
        "    grade = each[2]\n",
        "    print_grade(name,id,grade)\n",
        "    print(\"---------------\") "
      ],
      "metadata": {
        "colab": {
          "base_uri": "https://localhost:8080/"
        },
        "id": "JuhXyyBGtuvb",
        "outputId": "7c73010f-2c11-42f4-b8a8-81589e2a2a39"
      },
      "execution_count": null,
      "outputs": [
        {
          "output_type": "stream",
          "name": "stdout",
          "text": [
            "ชื่อ ณัฐกรณ พวงแก้ว รหัสประจำตัว 015-9\n",
            "ได้เกรด A\n",
            "---------------\n",
            "ชื่อ วันชัย พวงแก้ว รหัสประจำตัว 016-0\n",
            "ได้เกรด B+\n",
            "---------------\n",
            "ชื่อ วรรเพ็ญ บัวศรี รหัสประจำตัว 016-1\n",
            "ได้เกรด B\n",
            "---------------\n"
          ]
        }
      ]
    },
    {
      "cell_type": "markdown",
      "source": [
        "## for loop เพิ่มสมาชิกใน List"
      ],
      "metadata": {
        "id": "KhEM4oqWCaIl"
      }
    },
    {
      "cell_type": "code",
      "source": [
        "list_name =[]           #ตั้ง list ว่าง\n",
        "list_id =[]\n",
        "list_grade=[]\n",
        "for each in list_name_id_grade:     #วน append เพิ่มเก็บค่าของแต่ละ list\n",
        "    list_name.append(each[0])\n",
        "    list_id.append(each[1])\n",
        "    list_grade.append(each[2])\n"
      ],
      "metadata": {
        "id": "UcIfouBBCdUw"
      },
      "execution_count": null,
      "outputs": []
    },
    {
      "cell_type": "code",
      "source": [
        "list_name"
      ],
      "metadata": {
        "colab": {
          "base_uri": "https://localhost:8080/",
          "height": 165
        },
        "id": "l45zEhM6DCam",
        "outputId": "f0b84c0c-3633-4fe4-b53f-798bf1266b53"
      },
      "execution_count": null,
      "outputs": [
        {
          "output_type": "error",
          "ename": "NameError",
          "evalue": "ignored",
          "traceback": [
            "\u001b[0;31m---------------------------------------------------------------------------\u001b[0m",
            "\u001b[0;31mNameError\u001b[0m                                 Traceback (most recent call last)",
            "\u001b[0;32m<ipython-input-14-de13cfdb95e2>\u001b[0m in \u001b[0;36m<module>\u001b[0;34m()\u001b[0m\n\u001b[0;32m----> 1\u001b[0;31m \u001b[0mlist_name\u001b[0m\u001b[0;34m\u001b[0m\u001b[0;34m\u001b[0m\u001b[0m\n\u001b[0m",
            "\u001b[0;31mNameError\u001b[0m: name 'list_name' is not defined"
          ]
        }
      ]
    },
    {
      "cell_type": "markdown",
      "source": [
        "### การวนลูปด้วย range()\n"
      ],
      "metadata": {
        "id": "QskRgwuhDj0t"
      }
    },
    {
      "cell_type": "code",
      "source": [
        "for i in range(10): # i 10 ครั้ง\n",
        "    print('งง',end=\" \")"
      ],
      "metadata": {
        "id": "DCeS30BmDmuf",
        "colab": {
          "base_uri": "https://localhost:8080/"
        },
        "outputId": "800d10ee-ce89-4185-dddd-e099ff912607"
      },
      "execution_count": null,
      "outputs": [
        {
          "output_type": "stream",
          "name": "stdout",
          "text": [
            "งง งง งง งง งง งง งง งง งง งง "
          ]
        }
      ]
    },
    {
      "cell_type": "markdown",
      "source": [
        "###Loop ซ้อน Loop"
      ],
      "metadata": {
        "id": "PawI6y01EqVi"
      }
    },
    {
      "cell_type": "code",
      "source": [
        "for mem1 in range(2,4): #[2,3,4]\n",
        "  print(f'now mem1 = {mem1}')# รันบรรทัดนี้ก่อน จะพิม \"now mem1 = mem1 ตัวแรก\"\n",
        "  for mem2 in range(1,11): #[1,2,3,4,5,6,7,8,9,10] แล้วมารันบรรทัดนี้โดยการรันข้อความข้างล่าง\n",
        "    print(f'{mem1} x {mem2} ={mem1*mem2}') #[2x1,2x2,...,4x10] รันจนกว่าจะคูณถึง 10 แล้วจะรันบรรทัด 2 ใหม่\n",
        "  print(\"end inner for mem1 =\", {mem1} )"
      ],
      "metadata": {
        "id": "HrX7Yz5rFLR3",
        "colab": {
          "base_uri": "https://localhost:8080/"
        },
        "outputId": "b05e8f4d-8c49-4072-cc1b-49994e275d44"
      },
      "execution_count": null,
      "outputs": [
        {
          "output_type": "stream",
          "name": "stdout",
          "text": [
            "now mem1 = 2\n",
            "2 x 1 =2\n",
            "2 x 2 =4\n",
            "2 x 3 =6\n",
            "2 x 4 =8\n",
            "2 x 5 =10\n",
            "2 x 6 =12\n",
            "2 x 7 =14\n",
            "2 x 8 =16\n",
            "2 x 9 =18\n",
            "2 x 10 =20\n",
            "end inner for mem1 = {2}\n",
            "now mem1 = 3\n",
            "3 x 1 =3\n",
            "3 x 2 =6\n",
            "3 x 3 =9\n",
            "3 x 4 =12\n",
            "3 x 5 =15\n",
            "3 x 6 =18\n",
            "3 x 7 =21\n",
            "3 x 8 =24\n",
            "3 x 9 =27\n",
            "3 x 10 =30\n",
            "end inner for mem1 = {3}\n"
          ]
        }
      ]
    },
    {
      "cell_type": "markdown",
      "source": [
        "##Loop in funciton"
      ],
      "metadata": {
        "id": "n8T5DqzFcGTw"
      }
    },
    {
      "cell_type": "code",
      "source": [
        "def print_grade_loop(names,grades):\n",
        "    for n,g in zip(names,grades):\n",
        "        print(f'{n} ได้เกรด {g}')"
      ],
      "metadata": {
        "id": "iOVccb0pcIzW"
      },
      "execution_count": null,
      "outputs": []
    },
    {
      "cell_type": "code",
      "source": [
        "print_grade_loop(\"Nattakon \",\"A\")"
      ],
      "metadata": {
        "colab": {
          "base_uri": "https://localhost:8080/"
        },
        "id": "xbfZ7OVReuY-",
        "outputId": "75ee4d76-4aa5-4cea-a527-114203179fbc"
      },
      "execution_count": null,
      "outputs": [
        {
          "output_type": "stream",
          "name": "stdout",
          "text": [
            "N ได้เกรด A\n"
          ]
        }
      ]
    },
    {
      "cell_type": "code",
      "source": [
        "print_grade_loop(list_name,list_grade)"
      ],
      "metadata": {
        "id": "Cv0eiSQdfFDv"
      },
      "execution_count": null,
      "outputs": []
    },
    {
      "cell_type": "code",
      "source": [],
      "metadata": {
        "id": "Zq2NU6s_fNhq"
      },
      "execution_count": null,
      "outputs": []
    },
    {
      "cell_type": "markdown",
      "source": [
        "#Conditional Statement (if)\n"
      ],
      "metadata": {
        "id": "qNywJHwtcd8p"
      }
    },
    {
      "cell_type": "markdown",
      "source": [
        "``` python\n",
        "if condition1 :\n",
        "    do_something() # ถ้า condition 1 เป็นจริงทำ do_something()\n",
        "elif condition2:\n",
        "    do_antother_thing() ## ถ้า condition 1 ไม่เป็นจริงแต่ condition 2 เป็นจริงทำ do_another_thing()\n",
        "else: \n",
        "    do_the_last_thing() ### ถ้าไม่มี condition ไหนเป็นจริง ทำ do_the_last_thing()\n",
        "``` \n"
      ],
      "metadata": {
        "id": "sGDOOj0DlNS9"
      }
    },
    {
      "cell_type": "code",
      "source": [
        "for n in list_name :\n",
        "    if len(n)>20:\n",
        "        print(f'{n} ได้เกรด A')"
      ],
      "metadata": {
        "id": "a6w6wPNscyFc"
      },
      "execution_count": null,
      "outputs": []
    },
    {
      "cell_type": "code",
      "source": [
        "for n in (names) :\n",
        "    if len(n)>10 :\n",
        "        print(f'{n} ได้เกรด A')\n",
        "    else :\n",
        "        print(f'{n} ได้เกรด F') # ชื่อยาวไปได้ F"
      ],
      "metadata": {
        "colab": {
          "base_uri": "https://localhost:8080/"
        },
        "id": "bz7NilM6lppf",
        "outputId": "0e952cd0-67f2-40f9-c3ba-747a41127c0c"
      },
      "execution_count": null,
      "outputs": [
        {
          "output_type": "stream",
          "name": "stdout",
          "text": [
            "['ณัฐกรณ พวงแก้ว', '015-9'] ได้เกรด F\n",
            "['วันชัย พวงแก้ว', '016-0'] ได้เกรด F\n",
            "['วรรเพ็ญ บัวศรี', '016-1'] ได้เกรด F\n"
          ]
        }
      ]
    },
    {
      "cell_type": "code",
      "source": [
        "names= [[\"ณัฐกรณ พวงแก้ว\",'015-9'],\n",
        "[\"วันชัย พวงแก้ว\",'016-0'],\n",
        "[\"วรรเพ็ญ บัวศรี\",'016-1']]"
      ],
      "metadata": {
        "id": "RiFfAVKUmDiX"
      },
      "execution_count": null,
      "outputs": []
    },
    {
      "cell_type": "markdown",
      "source": [
        "#operator ที่ใช้ตรวจสอบ Condition\n",
        "==, !=, >=, <=, <, >, and, or"
      ],
      "metadata": {
        "id": "vTbAmuX_dXbu"
      }
    },
    {
      "cell_type": "code",
      "source": [
        "a =(10 ==20) ## 10 ไม่เท่ากับ 20\n",
        "print(a)"
      ],
      "metadata": {
        "id": "ZADanQOqdf7l",
        "colab": {
          "base_uri": "https://localhost:8080/"
        },
        "outputId": "7130d48e-a937-437d-90ae-502b702cc7fc"
      },
      "execution_count": null,
      "outputs": [
        {
          "output_type": "stream",
          "name": "stdout",
          "text": [
            "False\n"
          ]
        }
      ]
    },
    {
      "cell_type": "code",
      "source": [
        "b = (15 <=20) and (10==20) #จริงและเท็จ = เท็จ\n",
        "print(b)"
      ],
      "metadata": {
        "colab": {
          "base_uri": "https://localhost:8080/"
        },
        "id": "6n2FWJuDdnSi",
        "outputId": "bb59eaa0-fe9d-4737-e360-85e5e0000a91"
      },
      "execution_count": null,
      "outputs": [
        {
          "output_type": "stream",
          "name": "stdout",
          "text": [
            "False\n"
          ]
        }
      ]
    },
    {
      "cell_type": "code",
      "source": [
        "if a:\n",
        "  print('x')"
      ],
      "metadata": {
        "id": "Yt9BqoJRdqkH"
      },
      "execution_count": null,
      "outputs": []
    },
    {
      "cell_type": "code",
      "source": [
        "if a or b: \n",
        "  print(\"x\")\n",
        "else:\n",
        "  print(\"nothing\")  F หรือ F"
      ],
      "metadata": {
        "colab": {
          "base_uri": "https://localhost:8080/"
        },
        "id": "Z_NIBnNBmjpr",
        "outputId": "c9b1d6a4-8f61-4944-d394-a00f0c1ba6c9"
      },
      "execution_count": null,
      "outputs": [
        {
          "output_type": "stream",
          "name": "stdout",
          "text": [
            "nothing\n"
          ]
        }
      ]
    }
  ]
}