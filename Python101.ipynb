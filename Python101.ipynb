{
  "nbformat": 4,
  "nbformat_minor": 0,
  "metadata": {
    "colab": {
      "name": "Python101.ipynb",
      "provenance": [],
      "collapsed_sections": [
        "YHaPkSkfLoU_",
        "sVhE7t5iLtmC",
        "6U0I2J-6SiGS",
        "UBOfxejoW4Eq"
      ],
      "authorship_tag": "ABX9TyNIw7Rie1CwBLaGdmURYhzk",
      "include_colab_link": true
    },
    "kernelspec": {
      "name": "python3",
      "display_name": "Python 3"
    },
    "language_info": {
      "name": "python"
    }
  },
  "cells": [
    {
      "cell_type": "markdown",
      "metadata": {
        "id": "view-in-github",
        "colab_type": "text"
      },
      "source": [
        "<a href=\"https://colab.research.google.com/github/Nattakonjpg/BasicProg_DataViz65/blob/main/Python101.ipynb\" target=\"_parent\"><img src=\"https://colab.research.google.com/assets/colab-badge.svg\" alt=\"Open In Colab\"/></a>"
      ]
    },
    {
      "cell_type": "markdown",
      "source": [
        "#### ข้อความในช่อง text เป็นภาษา Markdown (https://www.markdownguide.org/)"
      ],
      "metadata": {
        "id": "f3QrwmzULA1X"
      }
    },
    {
      "cell_type": "markdown",
      "source": [
        "#การจัดข้อความในการแสดงผล (Print)"
      ],
      "metadata": {
        "id": "0Fctz9dgLguM"
      }
    },
    {
      "cell_type": "markdown",
      "source": [
        "# ข้อความ (String)"
      ],
      "metadata": {
        "id": "YHaPkSkfLoU_"
      }
    },
    {
      "cell_type": "markdown",
      "source": [
        "### test heading 3"
      ],
      "metadata": {
        "id": "sVhE7t5iLtmC"
      }
    },
    {
      "cell_type": "code",
      "source": [
        "print(\"สถิติ\") # \"..\" dobule quote"
      ],
      "metadata": {
        "id": "ci4XDxDGLwdk"
      },
      "execution_count": null,
      "outputs": []
    },
    {
      "cell_type": "markdown",
      "source": [
        "ผลการรันแสดงออกมาได้ 2 รูปแบบ\n",
        "1. ถ้าไม่มีตัวแปรมารับก็จะสแดงผลออกมาที่หน้าจอ\n",
        "2. ถ้ามีตัวแปรมารับ ผลการรันก็จะไปอยู่ในตัวแปร"
      ],
      "metadata": {
        "id": "r6zituhLRU4R"
      }
    },
    {
      "cell_type": "code",
      "source": [
        "x=1+3 # x เป็นตัวแปร รับค่าจาก 1+3 ทำให้เรา print(x) ก็ได้ค่าที่เก็บไว้"
      ],
      "metadata": {
        "id": "OOFgbWqeQpfI"
      },
      "execution_count": null,
      "outputs": []
    },
    {
      "cell_type": "code",
      "source": [
        "print(x) #แสดงตัวแปร"
      ],
      "metadata": {
        "id": "8CoNjgEFQhpq"
      },
      "execution_count": null,
      "outputs": []
    },
    {
      "cell_type": "code",
      "source": [
        "\"B\"+\"A\"+\"N\"+\"K\"  # string + string = การนำมาต่อกัน"
      ],
      "metadata": {
        "id": "R3Czxz87R4Ls"
      },
      "execution_count": null,
      "outputs": []
    },
    {
      "cell_type": "markdown",
      "source": [
        "#ตัวแปร (Variables)"
      ],
      "metadata": {
        "id": "6U0I2J-6SiGS"
      }
    },
    {
      "cell_type": "code",
      "source": [
        "A =99+0.9 #int"
      ],
      "metadata": {
        "id": "cPi3SaBCSlQI"
      },
      "execution_count": null,
      "outputs": []
    },
    {
      "cell_type": "code",
      "source": [
        "print(A)"
      ],
      "metadata": {
        "id": "G3AgygkxSu3T"
      },
      "execution_count": null,
      "outputs": []
    },
    {
      "cell_type": "code",
      "source": [
        "B=\"Natta\"+\"kon\" #string"
      ],
      "metadata": {
        "id": "t9eauED7THMO"
      },
      "execution_count": null,
      "outputs": []
    },
    {
      "cell_type": "code",
      "source": [
        "print(B)"
      ],
      "metadata": {
        "id": "nACinYWgTLbF"
      },
      "execution_count": null,
      "outputs": []
    },
    {
      "cell_type": "markdown",
      "source": [
        "#ข้อกำหนดในการตั้งชื่อตัวแปร\n",
        "1.ตั้งให้สื่อความหมาย \n",
        "\n",
        "2.ต้องเป็นภาษาอังกฤษ\n",
        "\n",
        "3.ใช้ตัวเลขผสมตัวหนังสือได้ ห้ามขึ้นต้นด้วยตัวเลข\n",
        "\n",
        "4.ห้ามมีเว้นวรรคในตัวแปร\n",
        "\n",
        "5.ตัวใหญ่ ตัวเล็ก มีค่าไม่เท่ากัน"
      ],
      "metadata": {
        "id": "0vusISv4UViL"
      }
    },
    {
      "cell_type": "markdown",
      "source": [
        "# Advanved Printing\n",
        "เราสามารถ print code ร่วมกับข้อความได้\n"
      ],
      "metadata": {
        "id": "UBOfxejoW4Eq"
      }
    },
    {
      "cell_type": "markdown",
      "source": [
        "''' python\n",
        "print(f\"ข้อความ(code)\")\n",
        "'''"
      ],
      "metadata": {
        "id": "AgLPVWIRXOYW"
      }
    },
    {
      "cell_type": "code",
      "source": [
        "print(f'หนึ่ง บวก สอง (1+2) เท่ากับ สาม ({1+2})') # {} Curly Backets"
      ],
      "metadata": {
        "colab": {
          "base_uri": "https://localhost:8080/"
        },
        "id": "8cskiqJhXcNU",
        "outputId": "a906f0fd-c9b7-4312-e394-95671e94238c"
      },
      "execution_count": null,
      "outputs": [
        {
          "output_type": "stream",
          "name": "stdout",
          "text": [
            "หนึ่ง บวก สอง (1+2) เท่ากับ สาม (3)\n"
          ]
        }
      ]
    },
    {
      "cell_type": "code",
      "source": [
        "print(f'ส่วนนี้ไม่ใช่ code => (2*3)//ส่วนนี้คือโค๊ด =>({2*+3})') # {} Curly Backets"
      ],
      "metadata": {
        "colab": {
          "base_uri": "https://localhost:8080/"
        },
        "id": "O52mMUaSYa6H",
        "outputId": "29249e5e-99cf-48e3-ce67-f8bc12e33e8d"
      },
      "execution_count": null,
      "outputs": [
        {
          "output_type": "stream",
          "name": "stdout",
          "text": [
            "ส่วนนี้ไม่ใช่ code => (2*3)//ส่วนนี้คือโค๊ด =>(6)\n"
          ]
        }
      ]
    },
    {
      "cell_type": "code",
      "source": [
        "a=1   #เอาตัวแปรมาแสดงพร้อมข้อความพร้อมเขียนโค๊ด\n",
        "b=2 \n",
        "print(f\"หนึ่ง บวก สอง ({a}+{b}) เท่ากับ สาม ({a+b})\") ## {a}=แสดงค่าของตัวแปร a =1"
      ],
      "metadata": {
        "colab": {
          "base_uri": "https://localhost:8080/"
        },
        "id": "GspHLQlVXr-i",
        "outputId": "ce04d771-3540-4dac-8bd8-1588b8b4920c"
      },
      "execution_count": null,
      "outputs": [
        {
          "output_type": "stream",
          "name": "stdout",
          "text": [
            "หนึ่ง บวก สอง (1+2) เท่ากับ สาม (3)\n"
          ]
        }
      ]
    },
    {
      "cell_type": "code",
      "source": [
        "a =5\n",
        "b =2"
      ],
      "metadata": {
        "id": "lm_lsurtZ1JS"
      },
      "execution_count": null,
      "outputs": []
    },
    {
      "cell_type": "code",
      "source": [
        "print(f'{a}+{b}={a+b}')"
      ],
      "metadata": {
        "colab": {
          "base_uri": "https://localhost:8080/"
        },
        "id": "c3sKHoO2Z2w-",
        "outputId": "889fe379-9dff-4017-b5c2-075c4e9e6fe9"
      },
      "execution_count": null,
      "outputs": [
        {
          "output_type": "stream",
          "name": "stdout",
          "text": [
            "5+2=7\n"
          ]
        }
      ]
    },
    {
      "cell_type": "markdown",
      "source": [
        "#ชนิดของตัวแปร\n"
      ],
      "metadata": {
        "id": "n1OOuGBYbqg9"
      }
    },
    {
      "cell_type": "markdown",
      "source": [
        "Character(ตัวอักษร)"
      ],
      "metadata": {
        "id": "loHOQ89xby-H"
      }
    },
    {
      "cell_type": "code",
      "source": [
        "a =\"Char\"\n",
        "b =\"acter\"\n",
        "print(f'a={a} b={b} then a+b = {a+b} ')"
      ],
      "metadata": {
        "colab": {
          "base_uri": "https://localhost:8080/"
        },
        "id": "D2DWEG9taaJk",
        "outputId": "1041824d-544f-4bd1-a401-87059bc71917"
      },
      "execution_count": null,
      "outputs": [
        {
          "output_type": "stream",
          "name": "stdout",
          "text": [
            "a=Char b=acter then a+b = Character \n"
          ]
        }
      ]
    },
    {
      "cell_type": "markdown",
      "source": [
        "Float (จำนวนจริง ทศนิยม)"
      ],
      "metadata": {
        "id": "ZpF4BTJXao-o"
      }
    },
    {
      "cell_type": "code",
      "source": [
        "fl_a = 10.\n",
        "print(fl_a)"
      ],
      "metadata": {
        "colab": {
          "base_uri": "https://localhost:8080/"
        },
        "id": "iJrFCpd1atIc",
        "outputId": "ebf18ddf-e3fe-42a8-a361-fc346838131d"
      },
      "execution_count": null,
      "outputs": [
        {
          "output_type": "stream",
          "name": "stdout",
          "text": [
            "10.0\n"
          ]
        }
      ]
    },
    {
      "cell_type": "markdown",
      "source": [
        "Boolean (True or False)(ตรรกะศาสตร์)\n"
      ],
      "metadata": {
        "id": "NkS-vHNUa7AG"
      }
    },
    {
      "cell_type": "code",
      "source": [
        "b_T = True\n",
        "b_F = False\n",
        "print(b_T,\"and\",b_F)"
      ],
      "metadata": {
        "colab": {
          "base_uri": "https://localhost:8080/"
        },
        "id": "QqukjSZYa_50",
        "outputId": "2d6c886c-10fb-4442-9cc1-0725721dfa1c"
      },
      "execution_count": null,
      "outputs": [
        {
          "output_type": "stream",
          "name": "stdout",
          "text": [
            "True and False\n"
          ]
        }
      ]
    },
    {
      "cell_type": "markdown",
      "source": [
        "Complex (จำนวนเชิงซ้อน)"
      ],
      "metadata": {
        "id": "MADEkQf4bXyC"
      }
    },
    {
      "cell_type": "code",
      "source": [
        "x = 1 +2j\n",
        "print(x)"
      ],
      "metadata": {
        "colab": {
          "base_uri": "https://localhost:8080/"
        },
        "id": "AH6TMEyObbFT",
        "outputId": "518fa8b8-00be-417c-a7e7-2c1126c8264f"
      },
      "execution_count": null,
      "outputs": [
        {
          "output_type": "stream",
          "name": "stdout",
          "text": [
            "(1+2j)\n"
          ]
        }
      ]
    },
    {
      "cell_type": "markdown",
      "source": [
        "เราสามารถตรวจสอบชนิดตัวแปรด้วยคำสั่งType()\n",
        "\n",
        "type()"
      ],
      "metadata": {
        "id": "_7hhwUz2b_O3"
      }
    },
    {
      "cell_type": "code",
      "source": [
        "print(f'ตัวแปร x ={x} ชนิด {type(x)}')"
      ],
      "metadata": {
        "colab": {
          "base_uri": "https://localhost:8080/"
        },
        "id": "KOh8CvXncRJg",
        "outputId": "c778c992-c4ee-4563-c218-9555b0522ac0"
      },
      "execution_count": null,
      "outputs": [
        {
          "output_type": "stream",
          "name": "stdout",
          "text": [
            "ตัวแปร x =(1+2j) ชนิด <class 'complex'>\n"
          ]
        }
      ]
    },
    {
      "cell_type": "markdown",
      "source": [
        "### การแปลงชนิดของตัวแปร (Variable Casting)"
      ],
      "metadata": {
        "id": "pnlese18dGsw"
      }
    },
    {
      "cell_type": "code",
      "source": [
        "int_a = 12 #int\n",
        "int_b = 5\n",
        "fl_a = 2.5 #float\n",
        "fl_b = 3.3"
      ],
      "metadata": {
        "id": "zAkVaowTdrdm"
      },
      "execution_count": null,
      "outputs": []
    },
    {
      "cell_type": "code",
      "source": [
        "print(f'int_a ={int_a} int_b = {int_b} fl_a ={fl_a} fl_b = {fl_b}')"
      ],
      "metadata": {
        "id": "tGhlroIcdOAE"
      },
      "execution_count": null,
      "outputs": []
    },
    {
      "cell_type": "code",
      "source": [
        "str_a = \"6\" #Chr\n",
        "str_b =\"-2\" #Chr"
      ],
      "metadata": {
        "id": "8JCG5hZJd3Qy"
      },
      "execution_count": null,
      "outputs": []
    },
    {
      "cell_type": "code",
      "source": [
        "str_a2int = int(str_a)\n",
        "print(f'ตัวแปร str_a2int ค่าคือ{str_a2int} ชนิด{type(str_a2int)}')"
      ],
      "metadata": {
        "id": "CPnBt2hbd6ce"
      },
      "execution_count": null,
      "outputs": []
    },
    {
      "cell_type": "code",
      "source": [
        "str_b2int = int(str_b)\n",
        "print(f'ตัวแปร str_b2int ค่าคือ{str_b2int} ชนิด{type(str_b2int)}')"
      ],
      "metadata": {
        "id": "AqkNPDd9eQzx"
      },
      "execution_count": null,
      "outputs": []
    },
    {
      "cell_type": "code",
      "source": [
        "str_a2int + str_b2int # 6-2"
      ],
      "metadata": {
        "id": "5lu6ONWfed32"
      },
      "execution_count": null,
      "outputs": []
    },
    {
      "cell_type": "code",
      "source": [
        "#str_a + int_a can't + because str can't + int\n",
        "str_a + str(int_a) #chr + chr = 6 + 10"
      ],
      "metadata": {
        "id": "YPYzzlC9hCjS"
      },
      "execution_count": null,
      "outputs": []
    },
    {
      "cell_type": "code",
      "source": [
        "int(fl_a) #2.5 -> int = 2 #ปัดเป็นจำนวนเต็มลง"
      ],
      "metadata": {
        "id": "tzKDIhFuhnmC"
      },
      "execution_count": null,
      "outputs": []
    },
    {
      "cell_type": "code",
      "source": [
        "float(int_a) #int_a = 10 -> float =10.0"
      ],
      "metadata": {
        "id": "7ZBWF3joh284"
      },
      "execution_count": null,
      "outputs": []
    },
    {
      "cell_type": "code",
      "source": [
        "str(fl_b) #fl_b = 3.3 -> str\"3.3\""
      ],
      "metadata": {
        "id": "HSsCK04hh-qv"
      },
      "execution_count": null,
      "outputs": []
    },
    {
      "cell_type": "markdown",
      "source": [
        "## Operation เอาตัวแปรสองตัวมาทำอะไรกัน"
      ],
      "metadata": {
        "id": "Hvpm47vScT0_"
      }
    },
    {
      "cell_type": "markdown",
      "source": [
        "####Operation ( (บวก(+), ลบ(-), คูณ(*), หาร(/), modulo(%), and(&), or(|) )"
      ],
      "metadata": {
        "id": "lDvFSQZ8ikrR"
      }
    },
    {
      "cell_type": "code",
      "source": [
        "fl_a + int_b"
      ],
      "metadata": {
        "colab": {
          "base_uri": "https://localhost:8080/"
        },
        "id": "TZvukEYCjFzF",
        "outputId": "63ccf97b-67f0-475d-c66a-34c67ae0b150"
      },
      "execution_count": null,
      "outputs": [
        {
          "output_type": "execute_result",
          "data": {
            "text/plain": [
              "7.5"
            ]
          },
          "metadata": {},
          "execution_count": 19
        }
      ]
    },
    {
      "cell_type": "code",
      "source": [
        "9%2  # modulo ช่วยในการเช็คเป็นจำนวนคู่หรือคี่ หารเอาเศษ\n",
        "     # 9%2 = 4 เศษ 1 = จน.คี่"
      ],
      "metadata": {
        "id": "gVc3yy78jIAM"
      },
      "execution_count": null,
      "outputs": []
    },
    {
      "cell_type": "code",
      "source": [
        "10%2"
      ],
      "metadata": {
        "id": "mYx0xOMLkUly"
      },
      "execution_count": null,
      "outputs": []
    },
    {
      "cell_type": "code",
      "source": [
        "int_a /int_b #12 หาร 5"
      ],
      "metadata": {
        "id": "7Men5WU_kXT9"
      },
      "execution_count": null,
      "outputs": []
    },
    {
      "cell_type": "code",
      "source": [
        "int(int_a/int_b) #2.4 -> 2"
      ],
      "metadata": {
        "colab": {
          "base_uri": "https://localhost:8080/"
        },
        "id": "0yWqnqrwkb9e",
        "outputId": "aa5e0e39-0e8d-481d-d6c3-665bf461a8f0"
      },
      "execution_count": null,
      "outputs": [
        {
          "output_type": "execute_result",
          "data": {
            "text/plain": [
              "2"
            ]
          },
          "metadata": {},
          "execution_count": 27
        }
      ]
    },
    {
      "cell_type": "code",
      "source": [
        "False & False "
      ],
      "metadata": {
        "id": "M60EtQPXkezU"
      },
      "execution_count": null,
      "outputs": []
    },
    {
      "cell_type": "code",
      "source": [
        "False & True"
      ],
      "metadata": {
        "id": "bLT9DMnSk9H5"
      },
      "execution_count": null,
      "outputs": []
    },
    {
      "cell_type": "code",
      "source": [
        "False | True"
      ],
      "metadata": {
        "id": "6GC_lVb_lBOP"
      },
      "execution_count": null,
      "outputs": []
    },
    {
      "cell_type": "markdown",
      "source": [
        "### String Operation "
      ],
      "metadata": {
        "id": "tuUHIGx0lI2d"
      }
    },
    {
      "cell_type": "markdown",
      "source": [
        "### +  -> concat, * -> repeat"
      ],
      "metadata": {
        "id": "KJ0wS9qYG452"
      }
    },
    {
      "cell_type": "code",
      "source": [
        "st_test1 ='Department of Statistics '\n",
        "st_test2 ='Faculty of Science'"
      ],
      "metadata": {
        "id": "WdavFb80GZYl"
      },
      "execution_count": 3,
      "outputs": []
    },
    {
      "cell_type": "code",
      "source": [
        "print(st_test1+st_test2)"
      ],
      "metadata": {
        "colab": {
          "base_uri": "https://localhost:8080/"
        },
        "id": "zeqzu6qjGhy_",
        "outputId": "26b525b6-ad5e-42b4-c8c3-b7d2ab3a0de9"
      },
      "execution_count": 4,
      "outputs": [
        {
          "output_type": "stream",
          "name": "stdout",
          "text": [
            "Department of Statistics Faculty of Science\n"
          ]
        }
      ]
    },
    {
      "cell_type": "code",
      "source": [
        "print(10*'A')# A 10ตัว"
      ],
      "metadata": {
        "id": "TvFz83TCGoof"
      },
      "execution_count": null,
      "outputs": []
    },
    {
      "cell_type": "code",
      "source": [
        "print(3*st_test1) #st_test1 3 รอบ"
      ],
      "metadata": {
        "id": "JDtbNp-xGv7E"
      },
      "execution_count": null,
      "outputs": []
    },
    {
      "cell_type": "markdown",
      "source": [
        "###replace() แทนที่ string"
      ],
      "metadata": {
        "id": "jXhFMB8zHXgb"
      }
    },
    {
      "cell_type": "code",
      "source": [
        "st_test1.replace('e',\" \")"
      ],
      "metadata": {
        "colab": {
          "base_uri": "https://localhost:8080/",
          "height": 35
        },
        "id": "n09SChk0HygG",
        "outputId": "67a3e207-672e-45d9-bb14-5e95be074d79"
      },
      "execution_count": 8,
      "outputs": [
        {
          "output_type": "execute_result",
          "data": {
            "text/plain": [
              "'D partm nt of Statistics '"
            ],
            "application/vnd.google.colaboratory.intrinsic+json": {
              "type": "string"
            }
          },
          "metadata": {},
          "execution_count": 8
        }
      ]
    },
    {
      "cell_type": "code",
      "source": [
        "st_test1.replace(\"e\",\"\")"
      ],
      "metadata": {
        "colab": {
          "base_uri": "https://localhost:8080/",
          "height": 35
        },
        "id": "hrjHjp4YH21r",
        "outputId": "e0c10582-5e04-44b5-c848-aed21a54acb9"
      },
      "execution_count": 9,
      "outputs": [
        {
          "output_type": "execute_result",
          "data": {
            "text/plain": [
              "'Dpartmnt of Statistics '"
            ],
            "application/vnd.google.colaboratory.intrinsic+json": {
              "type": "string"
            }
          },
          "metadata": {},
          "execution_count": 9
        }
      ]
    },
    {
      "cell_type": "code",
      "source": [
        "'Department of Statistics, '.replace('a',\"x\") ##ไม่ต้องจับใส่ตัวแปร แต่ replace ได้เลย"
      ],
      "metadata": {
        "colab": {
          "base_uri": "https://localhost:8080/",
          "height": 35
        },
        "id": "VDGlGAMbIjOx",
        "outputId": "885a4096-26ed-44ca-8c7d-99a3b5d109c1"
      },
      "execution_count": 10,
      "outputs": [
        {
          "output_type": "execute_result",
          "data": {
            "text/plain": [
              "'Depxrtment of Stxtistics, '"
            ],
            "application/vnd.google.colaboratory.intrinsic+json": {
              "type": "string"
            }
          },
          "metadata": {},
          "execution_count": 10
        }
      ]
    },
    {
      "cell_type": "markdown",
      "source": [
        "## split() แยก string "
      ],
      "metadata": {
        "id": "kHLkehfhH9jl"
      }
    },
    {
      "cell_type": "code",
      "source": [
        "'a b c d e f g'.split() #ตัดช่องว่างระหว่างตัวอักษร"
      ],
      "metadata": {
        "colab": {
          "base_uri": "https://localhost:8080/"
        },
        "id": "GkoxIg7mIFpQ",
        "outputId": "8063fb85-b53f-4b17-dd49-24316ebfb6cb"
      },
      "execution_count": 11,
      "outputs": [
        {
          "output_type": "execute_result",
          "data": {
            "text/plain": [
              "['a', 'b', 'c', 'd', 'e', 'f', 'g']"
            ]
          },
          "metadata": {},
          "execution_count": 11
        }
      ]
    },
    {
      "cell_type": "code",
      "source": [
        "'a/b/c/d/e'.split('/') #ตัด / ออก"
      ],
      "metadata": {
        "colab": {
          "base_uri": "https://localhost:8080/"
        },
        "id": "h-M60CxLJFal",
        "outputId": "7b2c8bb3-f7e5-4922-8563-8ff108e9aeac"
      },
      "execution_count": 13,
      "outputs": [
        {
          "output_type": "execute_result",
          "data": {
            "text/plain": [
              "['a', 'b', 'c', 'd', 'e']"
            ]
          },
          "metadata": {},
          "execution_count": 13
        }
      ]
    }
  ]
}