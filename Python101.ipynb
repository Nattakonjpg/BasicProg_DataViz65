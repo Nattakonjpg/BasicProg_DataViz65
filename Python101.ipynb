{
  "nbformat": 4,
  "nbformat_minor": 0,
  "metadata": {
    "colab": {
      "name": "Python101.ipynb",
      "provenance": [],
      "authorship_tag": "ABX9TyOqEqw5r0DdR8U5x1Ancd67",
      "include_colab_link": true
    },
    "kernelspec": {
      "name": "python3",
      "display_name": "Python 3"
    },
    "language_info": {
      "name": "python"
    }
  },
  "cells": [
    {
      "cell_type": "markdown",
      "metadata": {
        "id": "view-in-github",
        "colab_type": "text"
      },
      "source": [
        "<a href=\"https://colab.research.google.com/github/Nattakonjpg/BasicProg_DataViz65/blob/main/Python101.ipynb\" target=\"_parent\"><img src=\"https://colab.research.google.com/assets/colab-badge.svg\" alt=\"Open In Colab\"/></a>"
      ]
    },
    {
      "cell_type": "markdown",
      "source": [
        "#### ข้อความในช่อง text เป็นภาษา Markdown (https://www.markdownguide.org/)"
      ],
      "metadata": {
        "id": "f3QrwmzULA1X"
      }
    },
    {
      "cell_type": "markdown",
      "source": [
        "#การจัดข้อความในการแสดงผล (Print)"
      ],
      "metadata": {
        "id": "0Fctz9dgLguM"
      }
    },
    {
      "cell_type": "markdown",
      "source": [
        "# ข้อความ (String)"
      ],
      "metadata": {
        "id": "YHaPkSkfLoU_"
      }
    },
    {
      "cell_type": "markdown",
      "source": [
        "### test heading 3"
      ],
      "metadata": {
        "id": "sVhE7t5iLtmC"
      }
    },
    {
      "cell_type": "code",
      "source": [
        "print(\"สถิติ\") # \"..\" dobule quote"
      ],
      "metadata": {
        "id": "ci4XDxDGLwdk"
      },
      "execution_count": null,
      "outputs": []
    },
    {
      "cell_type": "markdown",
      "source": [
        "ผลการรันแสดงออกมาได้ 2 รูปแบบ\n",
        "1. ถ้าไม่มีตัวแปรมารับก็จะสแดงผลออกมาที่หน้าจอ\n",
        "2. ถ้ามีตัวแปรมารับ ผลการรันก็จะไปอยู่ในตัวแปร"
      ],
      "metadata": {
        "id": "r6zituhLRU4R"
      }
    },
    {
      "cell_type": "code",
      "source": [
        "x=1+3 # x เป็นตัวแปร รับค่าจาก 1+3 ทำให้เรา print(x) ก็ได้ค่าที่เก็บไว้"
      ],
      "metadata": {
        "id": "OOFgbWqeQpfI"
      },
      "execution_count": 9,
      "outputs": []
    },
    {
      "cell_type": "code",
      "source": [
        "print(x) #แสดงตัวแปร"
      ],
      "metadata": {
        "id": "8CoNjgEFQhpq"
      },
      "execution_count": null,
      "outputs": []
    },
    {
      "cell_type": "code",
      "source": [
        "\"B\"+\"A\"+\"N\"+\"K\"  # string + string = การนำมาต่อกัน"
      ],
      "metadata": {
        "id": "R3Czxz87R4Ls"
      },
      "execution_count": null,
      "outputs": []
    },
    {
      "cell_type": "markdown",
      "source": [
        "#ตัวแปร (Variables)"
      ],
      "metadata": {
        "id": "6U0I2J-6SiGS"
      }
    },
    {
      "cell_type": "code",
      "source": [
        "A =99+0.9 #int"
      ],
      "metadata": {
        "id": "cPi3SaBCSlQI"
      },
      "execution_count": 13,
      "outputs": []
    },
    {
      "cell_type": "code",
      "source": [
        "print(A)"
      ],
      "metadata": {
        "id": "G3AgygkxSu3T"
      },
      "execution_count": null,
      "outputs": []
    },
    {
      "cell_type": "code",
      "source": [
        "B=\"Natta\"+\"kon\" #string"
      ],
      "metadata": {
        "id": "t9eauED7THMO"
      },
      "execution_count": 15,
      "outputs": []
    },
    {
      "cell_type": "code",
      "source": [
        "print(B)"
      ],
      "metadata": {
        "id": "nACinYWgTLbF"
      },
      "execution_count": null,
      "outputs": []
    },
    {
      "cell_type": "markdown",
      "source": [
        "#ข้อกำหนดในการตั้งชื่อตัวแปร\n",
        "1.ตั้งให้สื่อความหมาย \n",
        "\n",
        "2.ต้องเป็นภาษาอังกฤษ\n",
        "\n",
        "3.ใช้ตัวเลขผสมตัวหนังสือได้ ห้ามขึ้นต้นด้วยตัวเลข\n",
        "\n",
        "4.ห้ามมีเว้นวรรคในตัวแปร\n",
        "\n",
        "5.ตัวใหญ่ ตัวเล็ก มีค่าไม่เท่ากัน"
      ],
      "metadata": {
        "id": "0vusISv4UViL"
      }
    },
    {
      "cell_type": "markdown",
      "source": [
        "# Advanved Printing\n",
        "เราสามารถ print code ร่วมกับข้อความได้\n"
      ],
      "metadata": {
        "id": "UBOfxejoW4Eq"
      }
    },
    {
      "cell_type": "markdown",
      "source": [
        "''' python\n",
        "print(f\"ข้อความ(code)\")\n",
        "'''"
      ],
      "metadata": {
        "id": "AgLPVWIRXOYW"
      }
    },
    {
      "cell_type": "code",
      "source": [
        "print(f'หนึ่ง บวก สอง (1+2) เท่ากับ สาม ({1+2})') # {} Curly Backets"
      ],
      "metadata": {
        "colab": {
          "base_uri": "https://localhost:8080/"
        },
        "id": "8cskiqJhXcNU",
        "outputId": "a906f0fd-c9b7-4312-e394-95671e94238c"
      },
      "execution_count": 18,
      "outputs": [
        {
          "output_type": "stream",
          "name": "stdout",
          "text": [
            "หนึ่ง บวก สอง (1+2) เท่ากับ สาม (3)\n"
          ]
        }
      ]
    },
    {
      "cell_type": "code",
      "source": [
        "print(f'ส่วนนี้ไม่ใช่ code => (2*3)//ส่วนนี้คือโค๊ด =>({2*+3})') # {} Curly Backets"
      ],
      "metadata": {
        "colab": {
          "base_uri": "https://localhost:8080/"
        },
        "id": "O52mMUaSYa6H",
        "outputId": "29249e5e-99cf-48e3-ce67-f8bc12e33e8d"
      },
      "execution_count": 23,
      "outputs": [
        {
          "output_type": "stream",
          "name": "stdout",
          "text": [
            "ส่วนนี้ไม่ใช่ code => (2*3)//ส่วนนี้คือโค๊ด =>(6)\n"
          ]
        }
      ]
    },
    {
      "cell_type": "code",
      "source": [
        "a=1   #เอาตัวแปรมาแสดงพร้อมข้อความพร้อมเขียนโค๊ด\n",
        "b=2 \n",
        "print(f\"หนึ่ง บวก สอง ({a}+{b}) เท่ากับ สาม ({a+b})\") ## {a}=แสดงค่าของตัวแปร a =1"
      ],
      "metadata": {
        "colab": {
          "base_uri": "https://localhost:8080/"
        },
        "id": "GspHLQlVXr-i",
        "outputId": "ce04d771-3540-4dac-8bd8-1588b8b4920c"
      },
      "execution_count": 20,
      "outputs": [
        {
          "output_type": "stream",
          "name": "stdout",
          "text": [
            "หนึ่ง บวก สอง (1+2) เท่ากับ สาม (3)\n"
          ]
        }
      ]
    },
    {
      "cell_type": "code",
      "source": [
        "a =5\n",
        "b =2"
      ],
      "metadata": {
        "id": "lm_lsurtZ1JS"
      },
      "execution_count": 25,
      "outputs": []
    },
    {
      "cell_type": "code",
      "source": [
        "print(f'{a}+{b}={a+b}')"
      ],
      "metadata": {
        "colab": {
          "base_uri": "https://localhost:8080/"
        },
        "id": "c3sKHoO2Z2w-",
        "outputId": "889fe379-9dff-4017-b5c2-075c4e9e6fe9"
      },
      "execution_count": 28,
      "outputs": [
        {
          "output_type": "stream",
          "name": "stdout",
          "text": [
            "5+2=7\n"
          ]
        }
      ]
    },
    {
      "cell_type": "markdown",
      "source": [
        "#ชนิดของตัวแปร\n"
      ],
      "metadata": {
        "id": "n1OOuGBYbqg9"
      }
    },
    {
      "cell_type": "markdown",
      "source": [
        "Character(ตัวอักษร)"
      ],
      "metadata": {
        "id": "loHOQ89xby-H"
      }
    },
    {
      "cell_type": "code",
      "source": [
        "a =\"Char\"\n",
        "b =\"acter\"\n",
        "print(f'a={a} b={b} then a+b = {a+b} ')"
      ],
      "metadata": {
        "colab": {
          "base_uri": "https://localhost:8080/"
        },
        "id": "D2DWEG9taaJk",
        "outputId": "1041824d-544f-4bd1-a401-87059bc71917"
      },
      "execution_count": 39,
      "outputs": [
        {
          "output_type": "stream",
          "name": "stdout",
          "text": [
            "a=Char b=acter then a+b = Character \n"
          ]
        }
      ]
    },
    {
      "cell_type": "markdown",
      "source": [
        "Float (จำนวนจริง ทศนิยม)"
      ],
      "metadata": {
        "id": "ZpF4BTJXao-o"
      }
    },
    {
      "cell_type": "code",
      "source": [
        "fl_a = 10.\n",
        "print(fl_a)"
      ],
      "metadata": {
        "colab": {
          "base_uri": "https://localhost:8080/"
        },
        "id": "iJrFCpd1atIc",
        "outputId": "ebf18ddf-e3fe-42a8-a361-fc346838131d"
      },
      "execution_count": 40,
      "outputs": [
        {
          "output_type": "stream",
          "name": "stdout",
          "text": [
            "10.0\n"
          ]
        }
      ]
    },
    {
      "cell_type": "markdown",
      "source": [
        "Boolean (True or False)(ตรรกะศาสตร์)\n"
      ],
      "metadata": {
        "id": "NkS-vHNUa7AG"
      }
    },
    {
      "cell_type": "code",
      "source": [
        "b_T = True\n",
        "b_F = False\n",
        "print(b_T,\"and\",b_F)"
      ],
      "metadata": {
        "colab": {
          "base_uri": "https://localhost:8080/"
        },
        "id": "QqukjSZYa_50",
        "outputId": "2d6c886c-10fb-4442-9cc1-0725721dfa1c"
      },
      "execution_count": 41,
      "outputs": [
        {
          "output_type": "stream",
          "name": "stdout",
          "text": [
            "True and False\n"
          ]
        }
      ]
    },
    {
      "cell_type": "markdown",
      "source": [
        "Complex (จำนวนเชิงซ้อน)"
      ],
      "metadata": {
        "id": "MADEkQf4bXyC"
      }
    },
    {
      "cell_type": "code",
      "source": [
        "x = 1 +2j\n",
        "print(x)"
      ],
      "metadata": {
        "colab": {
          "base_uri": "https://localhost:8080/"
        },
        "id": "AH6TMEyObbFT",
        "outputId": "518fa8b8-00be-417c-a7e7-2c1126c8264f"
      },
      "execution_count": 42,
      "outputs": [
        {
          "output_type": "stream",
          "name": "stdout",
          "text": [
            "(1+2j)\n"
          ]
        }
      ]
    },
    {
      "cell_type": "markdown",
      "source": [
        "เราสามารถตรวจสอบชนิดตัวแปรด้วยคำสั่งType()\n",
        "\n",
        "type()"
      ],
      "metadata": {
        "id": "_7hhwUz2b_O3"
      }
    },
    {
      "cell_type": "code",
      "source": [
        "print(f'ตัวแปร x ={x} ชนิด {type(x)}')"
      ],
      "metadata": {
        "colab": {
          "base_uri": "https://localhost:8080/"
        },
        "id": "KOh8CvXncRJg",
        "outputId": "c778c992-c4ee-4563-c218-9555b0522ac0"
      },
      "execution_count": 46,
      "outputs": [
        {
          "output_type": "stream",
          "name": "stdout",
          "text": [
            "ตัวแปร x =(1+2j) ชนิด <class 'complex'>\n"
          ]
        }
      ]
    }
  ]
}