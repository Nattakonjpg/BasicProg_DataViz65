{
  "nbformat": 4,
  "nbformat_minor": 0,
  "metadata": {
    "colab": {
      "name": "Quiz3.ipynb",
      "provenance": [],
      "authorship_tag": "ABX9TyM7cXkTBurD9Iurfr9FeAU6",
      "include_colab_link": true
    },
    "kernelspec": {
      "name": "python3",
      "display_name": "Python 3"
    },
    "language_info": {
      "name": "python"
    }
  },
  "cells": [
    {
      "cell_type": "markdown",
      "metadata": {
        "id": "view-in-github",
        "colab_type": "text"
      },
      "source": [
        "<a href=\"https://colab.research.google.com/github/Nattakonjpg/BasicProg_DataViz65/blob/main/Quiz3.ipynb\" target=\"_parent\"><img src=\"https://colab.research.google.com/assets/colab-badge.svg\" alt=\"Open In Colab\"/></a>"
      ]
    },
    {
      "cell_type": "markdown",
      "source": [
        "#Quiz 3\n",
        "\n",
        "เขียน function แสดงความต่างของเวลาโดย input อยู่ในรูปแบบ 'XX:YY:ZZ - AA:BB:CC'\n",
        "\n",
        "และวนลูปแสดงผลของ input ต่อไปนี้\n",
        "\n",
        "'09:11:50 - 12:30:15'\n",
        "\n",
        "'13:41:07 - 20:00:18'\n",
        "\n",
        "'00:00:00 - 23:59:59'\n",
        "\n",
        "'18:04:11 - 00:00:00'\n",
        "\n",
        "'21:30:00 - 03:05:15' \n",
        "\n",
        "ตัวอย่าง input '00:00:00-01:00:00'\n",
        "\n",
        "output ช่วงระยะเวลาระหว่าง 00:00:00 ถึง 01:00:00 มีเวลาทั้งหมด 3,600 วินาที"
      ],
      "metadata": {
        "id": "QWtTBYi5FRRh"
      }
    },
    {
      "cell_type": "code",
      "execution_count": 27,
      "metadata": {
        "id": "o1q_GxcRDrYZ"
      },
      "outputs": [],
      "source": [
        "def print_time(alltime): #mytime = input\n",
        "    for i in (alltime):\n",
        "      start=alltime.split(\"-\")  #ตัด - ออก ทำให้ได้จำนวนสมาชิกมา 2 ตัว คือเวลาเริ่ม กับเวลาจบ\n",
        "      time1=start[0] #กำหนดเวลาเริ่มป็น 1\n",
        "      sp_time1=time1.split(\":\") #เวลาเริ่มเอา : ออกจะได้เหลือแต่ตัวเลข\n",
        "      time2=start[1] #กำหนดเวลาจบเป็น 2\n",
        "      sp_time2=time2.split(\":\") #เวลาจบเอา : ออกจะได้เหลือแต่ตัวเลข\n",
        "      a1 = (int(sp_time1[0])*3600)+(int(sp_time1[1])*60)+int(sp_time1[2])\n",
        "      a2 = (int(sp_time2[0])*3600)+(int(sp_time2[1])*60)+int(sp_time2[2])\n",
        "      time3 = a2-a1\n",
        "      time1day = 86400 \n",
        "    if time3 < 0 :\n",
        "       time4 = (time3 + time1day)\n",
        "       print(f'ช่วงระยะเวลาระหว่าง {time1}ถึง{time2} มีเวลาทั้งหมด {time4:,} วินาที')\n",
        "    else:\n",
        "      print(f'ช่วงระยะเวลาระหว่าง {time1}ถึง{time2} มีเวลาทั้งหมด {time3:,} วินาที')"
      ]
    },
    {
      "cell_type": "code",
      "source": [
        "print_time('09:11:50 - 12:30:15') #ป้อน input"
      ],
      "metadata": {
        "colab": {
          "base_uri": "https://localhost:8080/"
        },
        "id": "VTwk31CJD674",
        "outputId": "f31e2e05-fdec-4d30-c365-040ecffb352f"
      },
      "execution_count": 28,
      "outputs": [
        {
          "output_type": "stream",
          "name": "stdout",
          "text": [
            "ช่วงระยะเวลาระหว่าง 09:11:50 ถึง 12:30:15 มีเวลาทั้งหมด 11,905 วินาที\n"
          ]
        }
      ]
    },
    {
      "cell_type": "code",
      "source": [
        "print_time('09:11:50 - 12:30:15') #ป้อน input"
      ],
      "metadata": {
        "colab": {
          "base_uri": "https://localhost:8080/"
        },
        "id": "SYDTbCb0FP1T",
        "outputId": "084f0b8b-8b36-4490-a251-88640c557273"
      },
      "execution_count": 29,
      "outputs": [
        {
          "output_type": "stream",
          "name": "stdout",
          "text": [
            "ช่วงระยะเวลาระหว่าง 09:11:50 ถึง 12:30:15 มีเวลาทั้งหมด 11,905 วินาที\n"
          ]
        }
      ]
    },
    {
      "cell_type": "code",
      "source": [
        "print_time('00:00:00 - 23:59:59') #ป้อน input"
      ],
      "metadata": {
        "colab": {
          "base_uri": "https://localhost:8080/"
        },
        "id": "VyU5T4XmFUo6",
        "outputId": "bad85e33-2dcd-4fa4-dd7e-118c90f22b88"
      },
      "execution_count": 31,
      "outputs": [
        {
          "output_type": "stream",
          "name": "stdout",
          "text": [
            "ช่วงระยะเวลาระหว่าง 00:00:00 ถึง 23:59:59 มีเวลาทั้งหมด 86,399 วินาที\n"
          ]
        }
      ]
    },
    {
      "cell_type": "code",
      "source": [
        "print_time('18:04:11 - 00:00:00') #ป้อน input"
      ],
      "metadata": {
        "colab": {
          "base_uri": "https://localhost:8080/"
        },
        "id": "vfANXpa7FU8t",
        "outputId": "4b73d28c-e938-4970-d0ad-243e9976886f"
      },
      "execution_count": 30,
      "outputs": [
        {
          "output_type": "stream",
          "name": "stdout",
          "text": [
            "ช่วงระยะเวลาระหว่าง 18:04:11 ถึง 00:00:00 มีเวลาทั้งหมด 21,349 วินาที\n"
          ]
        }
      ]
    },
    {
      "cell_type": "code",
      "source": [
        "print_time('21:30:00 - 03:05:15') #ป้อน input"
      ],
      "metadata": {
        "colab": {
          "base_uri": "https://localhost:8080/"
        },
        "id": "88_51TkSFVQ-",
        "outputId": "03afdad0-aa59-4445-b1b9-1e755a44ea4b"
      },
      "execution_count": 32,
      "outputs": [
        {
          "output_type": "stream",
          "name": "stdout",
          "text": [
            "ช่วงระยะเวลาระหว่าง 21:30:00 ถึง 03:05:15 มีเวลาทั้งหมด 20,115 วินาที\n"
          ]
        }
      ]
    }
  ]
}