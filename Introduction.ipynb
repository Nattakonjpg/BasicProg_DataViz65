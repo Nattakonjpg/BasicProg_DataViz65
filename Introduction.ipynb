{
  "nbformat": 4,
  "nbformat_minor": 0,
  "metadata": {
    "colab": {
      "name": "Introduction.ipynb",
      "provenance": [],
      "authorship_tag": "ABX9TyPWBE4PO0c5SaC/WGUuq9yS",
      "include_colab_link": true
    },
    "kernelspec": {
      "name": "python3",
      "display_name": "Python 3"
    },
    "language_info": {
      "name": "python"
    }
  },
  "cells": [
    {
      "cell_type": "markdown",
      "metadata": {
        "id": "view-in-github",
        "colab_type": "text"
      },
      "source": [
        "<a href=\"https://colab.research.google.com/github/Nattakonjpg/BasicProg_DataViz65/blob/main/Introduction.ipynb\" target=\"_parent\"><img src=\"https://colab.research.google.com/assets/colab-badge.svg\" alt=\"Open In Colab\"/></a>"
      ]
    },
    {
      "cell_type": "markdown",
      "source": [
        "Sawutdeekub ณัฐกรณ์ พวงแก้ว (015-9)"
      ],
      "metadata": {
        "id": "Fr0D3zhSFd1G"
      }
    },
    {
      "cell_type": "markdown",
      "source": [
        "#Hello\n"
      ],
      "metadata": {
        "id": "i34TJnCLGv08"
      }
    },
    {
      "cell_type": "code",
      "source": [
        "print(\"Was'up\")"
      ],
      "metadata": {
        "colab": {
          "base_uri": "https://localhost:8080/"
        },
        "id": "DQQFT3skHFM8",
        "outputId": "e403a23d-ee97-4a33-a3af-e3cd7f0c651a"
      },
      "execution_count": 1,
      "outputs": [
        {
          "output_type": "stream",
          "name": "stdout",
          "text": [
            "Was'up\n"
          ]
        }
      ]
    }
  ]
}