{
  "nbformat": 4,
  "nbformat_minor": 0,
  "metadata": {
    "colab": {
      "name": "Data structure.ipynb",
      "provenance": [],
      "collapsed_sections": [],
      "authorship_tag": "ABX9TyNbxNPe5vRCH8arA8l67Uzv",
      "include_colab_link": true
    },
    "kernelspec": {
      "name": "python3",
      "display_name": "Python 3"
    },
    "language_info": {
      "name": "python"
    }
  },
  "cells": [
    {
      "cell_type": "markdown",
      "metadata": {
        "id": "view-in-github",
        "colab_type": "text"
      },
      "source": [
        "<a href=\"https://colab.research.google.com/github/Nattakonjpg/BasicProg_DataViz65/blob/main/Data_structure.ipynb\" target=\"_parent\"><img src=\"https://colab.research.google.com/assets/colab-badge.svg\" alt=\"Open In Colab\"/></a>"
      ]
    },
    {
      "cell_type": "markdown",
      "source": [
        "##Dictionary"
      ],
      "metadata": {
        "id": "rgD7VqleM3yy"
      }
    },
    {
      "cell_type": "markdown",
      "source": [
        "- คล้าย list ()\n",
        "- index เป็นอะไรก็ได้ ไม่จำเป็นต้องเป็นเลขลำดับ\n",
        "- ลำดับไม่มีความสำคัญ"
      ],
      "metadata": {
        "id": "mPKCCrFhNJPU"
      }
    },
    {
      "cell_type": "code",
      "source": [
        "dict_a = {1:\"Hello\",'N':\"New\",3:\"Year\",'4':\"2022\"} # { } Curly brackets\n"
      ],
      "metadata": {
        "id": "n39xjxzlNSqr"
      },
      "execution_count": null,
      "outputs": []
    },
    {
      "cell_type": "code",
      "source": [
        "dict_a[1] # 1:กำหนดให้ตัวนั้นเป็น index 1\n"
      ],
      "metadata": {
        "id": "gUS_ay9WO2US"
      },
      "execution_count": null,
      "outputs": []
    },
    {
      "cell_type": "code",
      "source": [
        "dict_a.keys() #index = keys เรียก check มาดูก่อนว่ามี key ไรบ้าง"
      ],
      "metadata": {
        "id": "OQP5yia1PACk"
      },
      "execution_count": null,
      "outputs": []
    },
    {
      "cell_type": "code",
      "source": [
        "dict_a.values() #ดูว่ามีค่าอะไรบ้างข้างใน"
      ],
      "metadata": {
        "id": "HfHyYXn8PI7a"
      },
      "execution_count": null,
      "outputs": []
    },
    {
      "cell_type": "markdown",
      "source": [
        "### การเพิ่มสมาชิกลงไปใน Dictionary"
      ],
      "metadata": {
        "id": "qQWWTDBCPhvE"
      }
    },
    {
      "cell_type": "code",
      "source": [
        "dict_a[7] = 3.14 #ระบุ index แล้วก็ค่านั้น"
      ],
      "metadata": {
        "id": "pi32BXbyPlmW"
      },
      "execution_count": null,
      "outputs": []
    },
    {
      "cell_type": "code",
      "source": [
        "dict_a['N'] =\"Newwwwwwwww\""
      ],
      "metadata": {
        "id": "wG2reLArQKOs"
      },
      "execution_count": null,
      "outputs": []
    },
    {
      "cell_type": "code",
      "source": [
        "dict_a"
      ],
      "metadata": {
        "id": "s4vluuIRQSA1"
      },
      "execution_count": null,
      "outputs": []
    },
    {
      "cell_type": "markdown",
      "source": [
        "##Numpy array"
      ],
      "metadata": {
        "id": "vUiDixRVQcep"
      }
    },
    {
      "cell_type": "markdown",
      "source": [
        "- เก็บได้แค่ตัวเลข\n",
        "- อ้างอิงโดยใช้พิกัด (2มิติ ก็มองเป็น Matrix)"
      ],
      "metadata": {
        "id": "zU_QDlSZuQ1q"
      }
    },
    {
      "cell_type": "code",
      "source": [
        "import numpy"
      ],
      "metadata": {
        "id": "J_FcD-ECwk84"
      },
      "execution_count": null,
      "outputs": []
    },
    {
      "cell_type": "code",
      "source": [
        "list_A=[1,2,3,4,5]"
      ],
      "metadata": {
        "id": "auB2wORDxtIW"
      },
      "execution_count": null,
      "outputs": []
    },
    {
      "cell_type": "code",
      "source": [
        "arr_a =numpy.array(list_A)"
      ],
      "metadata": {
        "id": "PZrqULFsxF6-"
      },
      "execution_count": null,
      "outputs": []
    },
    {
      "cell_type": "code",
      "source": [
        "5 * arr_a #5 ไปคูณข้างใน (Scalar multiplication)"
      ],
      "metadata": {
        "id": "40yha1KvyCye"
      },
      "execution_count": null,
      "outputs": []
    },
    {
      "cell_type": "code",
      "source": [
        "4* list_A # Duplicate 4 รอบ"
      ],
      "metadata": {
        "id": "aonsjlQ6yhzq"
      },
      "execution_count": null,
      "outputs": []
    },
    {
      "cell_type": "code",
      "source": [
        "arr_b = numpy.array([10,20,30,40,50])"
      ],
      "metadata": {
        "id": "SzIidAJszpY8"
      },
      "execution_count": null,
      "outputs": []
    },
    {
      "cell_type": "code",
      "source": [
        "print(arr_a, arr_b) "
      ],
      "metadata": {
        "id": "U4R16xy4zv6q"
      },
      "execution_count": null,
      "outputs": []
    },
    {
      "cell_type": "code",
      "source": [
        "arr_a+arr_b"
      ],
      "metadata": {
        "id": "_u1FTk1Pz2dq"
      },
      "execution_count": null,
      "outputs": []
    },
    {
      "cell_type": "markdown",
      "source": [
        "### 2D array"
      ],
      "metadata": {
        "id": "665bo5Caz8yU"
      }
    },
    {
      "cell_type": "code",
      "source": [
        "import numpy as np # as np ตั้งให้มันเป็น np"
      ],
      "metadata": {
        "id": "C5MH5lXe0A0b"
      },
      "execution_count": null,
      "outputs": []
    },
    {
      "cell_type": "code",
      "source": [
        "arr2_z = np.array([[1,2,3],[4,5,6]]) #2 แถว 3หลัก"
      ],
      "metadata": {
        "id": "KRPsEtNu0W_S"
      },
      "execution_count": null,
      "outputs": []
    },
    {
      "cell_type": "code",
      "source": [
        "arr2_z.shape"
      ],
      "metadata": {
        "id": "NYbxQPV20wsq"
      },
      "execution_count": null,
      "outputs": []
    },
    {
      "cell_type": "markdown",
      "source": [
        "#np.zeros()"
      ],
      "metadata": {
        "id": "yq9sNn009Ou6"
      }
    },
    {
      "cell_type": "code",
      "source": [
        "arr2_3_5_0 =np.zeros((3,5)) ## 3 แถว 5 หลัก"
      ],
      "metadata": {
        "id": "SYzJ50OZ9Qi7"
      },
      "execution_count": 24,
      "outputs": []
    },
    {
      "cell_type": "code",
      "source": [
        "arr2_3_5_0"
      ],
      "metadata": {
        "id": "NVT9lSSW9UIC"
      },
      "execution_count": null,
      "outputs": []
    },
    {
      "cell_type": "code",
      "source": [
        "arr2_3_5_0[1,2] = 9 #แถว 1 หลัก 2"
      ],
      "metadata": {
        "id": "vzxjswFI9bSA"
      },
      "execution_count": 26,
      "outputs": []
    },
    {
      "cell_type": "code",
      "source": [
        "arr2_3_5_0"
      ],
      "metadata": {
        "colab": {
          "base_uri": "https://localhost:8080/"
        },
        "id": "IhDDW9kv9fSB",
        "outputId": "f64c48ad-f200-4414-a344-75a95876145e"
      },
      "execution_count": 27,
      "outputs": [
        {
          "output_type": "execute_result",
          "data": {
            "text/plain": [
              "array([[0., 0., 0., 0., 0.],\n",
              "       [0., 0., 9., 0., 0.],\n",
              "       [0., 0., 0., 0., 0.]])"
            ]
          },
          "metadata": {},
          "execution_count": 27
        }
      ]
    },
    {
      "cell_type": "code",
      "source": [
        "arr2_3_5_0[1,2]"
      ],
      "metadata": {
        "id": "SAk1lEHu-BFT"
      },
      "execution_count": null,
      "outputs": []
    },
    {
      "cell_type": "code",
      "source": [
        "print(list_A)\n",
        "list_A[-1] = \"Christmas\" #แทนด้วยคำนี้\n",
        "print(list_A)"
      ],
      "metadata": {
        "id": "OECMZAgk-CE6"
      },
      "execution_count": null,
      "outputs": []
    },
    {
      "cell_type": "markdown",
      "source": [
        "#np.ones()"
      ],
      "metadata": {
        "id": "3QSB58Ts-Mmb"
      }
    },
    {
      "cell_type": "code",
      "source": [
        "arr2_4_5_1 = np.ones((4,5))"
      ],
      "metadata": {
        "id": "u4QjGl7b-ONv"
      },
      "execution_count": 30,
      "outputs": []
    },
    {
      "cell_type": "code",
      "source": [
        "arr2_4_5_1"
      ],
      "metadata": {
        "id": "IgzPXF9H-SHx"
      },
      "execution_count": null,
      "outputs": []
    },
    {
      "cell_type": "code",
      "source": [
        "arr2_4_5_1[0,0] =9"
      ],
      "metadata": {
        "id": "GSkOpBbL-Wsz"
      },
      "execution_count": 36,
      "outputs": []
    },
    {
      "cell_type": "code",
      "source": [
        "arr2_4_5_1"
      ],
      "metadata": {
        "id": "lquH91Wc-bE2"
      },
      "execution_count": null,
      "outputs": []
    },
    {
      "cell_type": "code",
      "source": [
        "arr2_4_5_200 =200*np.ones((4,4))"
      ],
      "metadata": {
        "id": "e1NDjbQI-fjg"
      },
      "execution_count": 38,
      "outputs": []
    },
    {
      "cell_type": "code",
      "source": [
        "arr2_4_5_200"
      ],
      "metadata": {
        "colab": {
          "base_uri": "https://localhost:8080/"
        },
        "id": "t-Q5Mwcy-jch",
        "outputId": "5c635757-b817-4832-8048-08ad92472585"
      },
      "execution_count": 39,
      "outputs": [
        {
          "output_type": "execute_result",
          "data": {
            "text/plain": [
              "array([[200., 200., 200., 200.],\n",
              "       [200., 200., 200., 200.],\n",
              "       [200., 200., 200., 200.],\n",
              "       [200., 200., 200., 200.]])"
            ]
          },
          "metadata": {},
          "execution_count": 39
        }
      ]
    },
    {
      "cell_type": "markdown",
      "source": [
        "#Matrix Operations"
      ],
      "metadata": {
        "id": "9nI-4mFJ-lYN"
      }
    },
    {
      "cell_type": "markdown",
      "source": [
        "**การบวก ลบ Matrix M+-N บวกลบตัวที่อยู่ตำแหน่งเดียวกัน**"
      ],
      "metadata": {
        "id": "G_NHn60z-nKJ"
      }
    }
  ]
}