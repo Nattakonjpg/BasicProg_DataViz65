{
  "nbformat": 4,
  "nbformat_minor": 0,
  "metadata": {
    "colab": {
      "name": "Data structure.ipynb",
      "provenance": [],
      "collapsed_sections": [
        "rgD7VqleM3yy",
        "665bo5Caz8yU",
        "yq9sNn009Ou6",
        "3QSB58Ts-Mmb"
      ],
      "authorship_tag": "ABX9TyMD3zDkv+W36/ZErKYXZf4W",
      "include_colab_link": true
    },
    "kernelspec": {
      "name": "python3",
      "display_name": "Python 3"
    },
    "language_info": {
      "name": "python"
    }
  },
  "cells": [
    {
      "cell_type": "markdown",
      "metadata": {
        "id": "view-in-github",
        "colab_type": "text"
      },
      "source": [
        "<a href=\"https://colab.research.google.com/github/Nattakonjpg/BasicProg_DataViz65/blob/main/Data_structure.ipynb\" target=\"_parent\"><img src=\"https://colab.research.google.com/assets/colab-badge.svg\" alt=\"Open In Colab\"/></a>"
      ]
    },
    {
      "cell_type": "markdown",
      "source": [
        "#Data Structure (โครงสร้างข้อมูล)\n",
        "การเก็บข้อมูลหลายๆตัวไว้ด้วยกันอย่างเป็นระเบียบ\n"
      ],
      "metadata": {
        "id": "9QUzcn7VKf4A"
      }
    },
    {
      "cell_type": "markdown",
      "source": [
        "##List () "
      ],
      "metadata": {
        "id": "2QP3nflCKonP"
      }
    },
    {
      "cell_type": "code",
      "source": [
        "list_a =[1,2,3,4,5] #square bracket"
      ],
      "metadata": {
        "id": "kyq2h4IXKxno"
      },
      "execution_count": null,
      "outputs": []
    },
    {
      "cell_type": "code",
      "source": [
        "list_b =['ab',1,2,3.14,True,list_a]"
      ],
      "metadata": {
        "id": "gLtHzpKHLOQF"
      },
      "execution_count": null,
      "outputs": []
    },
    {
      "cell_type": "code",
      "source": [
        "list_b"
      ],
      "metadata": {
        "colab": {
          "base_uri": "https://localhost:8080/"
        },
        "id": "Nk53XKwtLV4g",
        "outputId": "5a8e7b38-535d-43cf-b374-97cfb1a0af38"
      },
      "execution_count": null,
      "outputs": [
        {
          "output_type": "execute_result",
          "data": {
            "text/plain": [
              "['ab', 1, 2, 3.14, True, [1, 2, 3, 4, 5]]"
            ]
          },
          "metadata": {},
          "execution_count": 5
        }
      ]
    },
    {
      "cell_type": "markdown",
      "source": [
        "### indexing การชี้สมาชิกใน list ด้วยลำดับของ list"
      ],
      "metadata": {
        "id": "am_11325LmYm"
      }
    },
    {
      "cell_type": "code",
      "source": [
        "list_b[3]"
      ],
      "metadata": {
        "id": "Z7fWwS-GLY0E"
      },
      "execution_count": null,
      "outputs": []
    },
    {
      "cell_type": "code",
      "source": [
        "list_b[5] #ทั้งก้อน"
      ],
      "metadata": {
        "id": "UMSdDY_hLt8n"
      },
      "execution_count": null,
      "outputs": []
    },
    {
      "cell_type": "code",
      "source": [
        "list_b[-1] #ตัวสุดท้ายของ list คือ-1 นับถอยไป"
      ],
      "metadata": {
        "id": "Q-j4hpFFL0RE"
      },
      "execution_count": null,
      "outputs": []
    },
    {
      "cell_type": "markdown",
      "source": [
        "###การสร้าง list()"
      ],
      "metadata": {
        "id": "ftBlfjQmMLoq"
      }
    },
    {
      "cell_type": "code",
      "source": [
        "list_c1 = [] #แบบที่1\n",
        "list_c2 = list() #แบบที่ 2"
      ],
      "metadata": {
        "id": "Jvc1AFqnMOFw"
      },
      "execution_count": null,
      "outputs": []
    },
    {
      "cell_type": "code",
      "source": [
        "print(list_c1,list_c2)"
      ],
      "metadata": {
        "id": "JsTQnToiMX66"
      },
      "execution_count": null,
      "outputs": []
    },
    {
      "cell_type": "markdown",
      "source": [
        "###เพิ่มสมาชิกเข้าไปใน List ด้วย append()"
      ],
      "metadata": {
        "id": "xddLC337MdAG"
      }
    },
    {
      "cell_type": "code",
      "source": [
        "list_c1.append(\"Bank\") #เพิ่มข้อความใน c1"
      ],
      "metadata": {
        "id": "-Z3m2JeJMhQ6"
      },
      "execution_count": null,
      "outputs": []
    },
    {
      "cell_type": "markdown",
      "source": [
        "###ลบสมาชิกจาก List ด้วย pop()"
      ],
      "metadata": {
        "id": "1S2yiY2XNdpH"
      }
    },
    {
      "cell_type": "code",
      "source": [
        "list_c1.pop()\n",
        "print(list_c1)"
      ],
      "metadata": {
        "id": "T7CkLeqcNjaJ"
      },
      "execution_count": null,
      "outputs": []
    },
    {
      "cell_type": "markdown",
      "source": [
        "###Len() ตรวจสอบจำนวนสมาชิกใน List"
      ],
      "metadata": {
        "id": "_OPNRHUlOCcw"
      }
    },
    {
      "cell_type": "code",
      "source": [
        "print(list_b)\n",
        "print(len(list_b)) #มีสมาชิก 6ตัว"
      ],
      "metadata": {
        "id": "4o19Ov09OFSe"
      },
      "execution_count": null,
      "outputs": []
    },
    {
      "cell_type": "markdown",
      "source": [
        "##String is a list of characters"
      ],
      "metadata": {
        "id": "4PxfMf-BOPgV"
      }
    },
    {
      "cell_type": "code",
      "source": [
        "st_start = \"Department of Statistics, Faculty of Science\""
      ],
      "metadata": {
        "id": "P_LTSGjdOTjt"
      },
      "execution_count": null,
      "outputs": []
    },
    {
      "cell_type": "code",
      "source": [
        "st_start[9]"
      ],
      "metadata": {
        "id": "sfkLhLzIOYwQ"
      },
      "execution_count": null,
      "outputs": []
    },
    {
      "cell_type": "code",
      "source": [
        "len(st_start) #มีสมาชิก 44 ตัว"
      ],
      "metadata": {
        "id": "iSFlaKhuOdc2"
      },
      "execution_count": null,
      "outputs": []
    },
    {
      "cell_type": "markdown",
      "source": [
        "##Colon :  [start:stop,step]\n",
        "\n"
      ],
      "metadata": {
        "id": "TKts_fZuOlJh"
      }
    },
    {
      "cell_type": "code",
      "source": [
        "list_a"
      ],
      "metadata": {
        "id": "dVIHMMG3Ooy9"
      },
      "execution_count": null,
      "outputs": []
    },
    {
      "cell_type": "code",
      "source": [
        "list_a[-3:] # : -> colon"
      ],
      "metadata": {
        "id": "v0y1s-RiOq5W"
      },
      "execution_count": null,
      "outputs": []
    },
    {
      "cell_type": "code",
      "source": [
        "list_a[1:] #เอาตั้งแต่ตัวindex [1]"
      ],
      "metadata": {
        "id": "EEDOlDI5QDmG"
      },
      "execution_count": null,
      "outputs": []
    },
    {
      "cell_type": "markdown",
      "source": [
        "###Step"
      ],
      "metadata": {
        "id": "acCrs-r7QNnU"
      }
    },
    {
      "cell_type": "code",
      "source": [
        "list_c =[1,2,3,4,5,6,7,8,9,10]"
      ],
      "metadata": {
        "id": "9ue8xD3KQUIW"
      },
      "execution_count": null,
      "outputs": []
    },
    {
      "cell_type": "code",
      "source": [
        "list_c[:9:3] #ตั้งแต่ตัวที่ 1->9 โดยนับทีละ3"
      ],
      "metadata": {
        "id": "emGW1PYYQX58"
      },
      "execution_count": null,
      "outputs": []
    },
    {
      "cell_type": "code",
      "source": [
        "list_c[:10:2] #ตั้งแต่ตัวที่ 1->10 โดยนับทีละ2 "
      ],
      "metadata": {
        "id": "RsHT_WwPQsZl"
      },
      "execution_count": null,
      "outputs": []
    },
    {
      "cell_type": "markdown",
      "source": [
        "### range()"
      ],
      "metadata": {
        "id": "XVXSBuLXQ1_m"
      }
    },
    {
      "cell_type": "code",
      "source": [
        "range(21) # จะได้ 21 ตัวเริ่มจาก 0"
      ],
      "metadata": {
        "id": "3wXsIzQ4RBcc"
      },
      "execution_count": null,
      "outputs": []
    },
    {
      "cell_type": "code",
      "source": [
        "a = list(range(1,21)) # ได้21 ตัวเริ่มจาก 1"
      ],
      "metadata": {
        "id": "p_XEMNNmQ4g0"
      },
      "execution_count": null,
      "outputs": []
    },
    {
      "cell_type": "code",
      "source": [
        "a"
      ],
      "metadata": {
        "id": "ISZ4kThMQ_US"
      },
      "execution_count": null,
      "outputs": []
    },
    {
      "cell_type": "markdown",
      "source": [
        "##Dictionary"
      ],
      "metadata": {
        "id": "rgD7VqleM3yy"
      }
    },
    {
      "cell_type": "markdown",
      "source": [
        "- คล้าย list ()\n",
        "- index เป็นอะไรก็ได้ ไม่จำเป็นต้องเป็นเลขลำดับ\n",
        "- ลำดับไม่มีความสำคัญ"
      ],
      "metadata": {
        "id": "mPKCCrFhNJPU"
      }
    },
    {
      "cell_type": "code",
      "source": [
        "dict_a = {1:\"Hello\",'N':\"New\",3:\"Year\",'4':\"2022\"} # { } Curly brackets\n"
      ],
      "metadata": {
        "id": "n39xjxzlNSqr"
      },
      "execution_count": null,
      "outputs": []
    },
    {
      "cell_type": "code",
      "source": [
        "dict_a[1] # 1:กำหนดให้ตัวนั้นเป็น index 1\n"
      ],
      "metadata": {
        "id": "gUS_ay9WO2US"
      },
      "execution_count": null,
      "outputs": []
    },
    {
      "cell_type": "code",
      "source": [
        "dict_a.keys() #index = keys เรียก check มาดูก่อนว่ามี key ไรบ้าง"
      ],
      "metadata": {
        "id": "OQP5yia1PACk"
      },
      "execution_count": null,
      "outputs": []
    },
    {
      "cell_type": "code",
      "source": [
        "dict_a.values() #ดูว่ามีค่าอะไรบ้างข้างใน"
      ],
      "metadata": {
        "id": "HfHyYXn8PI7a"
      },
      "execution_count": null,
      "outputs": []
    },
    {
      "cell_type": "markdown",
      "source": [
        "### การเพิ่มสมาชิกลงไปใน Dictionary"
      ],
      "metadata": {
        "id": "qQWWTDBCPhvE"
      }
    },
    {
      "cell_type": "code",
      "source": [
        "dict_a[7] = 3.14 #ระบุ index แล้วก็ค่านั้น"
      ],
      "metadata": {
        "id": "pi32BXbyPlmW"
      },
      "execution_count": null,
      "outputs": []
    },
    {
      "cell_type": "code",
      "source": [
        "dict_a['N'] =\"Newwwwwwwww\""
      ],
      "metadata": {
        "id": "wG2reLArQKOs"
      },
      "execution_count": null,
      "outputs": []
    },
    {
      "cell_type": "code",
      "source": [
        "dict_a"
      ],
      "metadata": {
        "id": "s4vluuIRQSA1"
      },
      "execution_count": null,
      "outputs": []
    },
    {
      "cell_type": "markdown",
      "source": [
        "##Numpy array"
      ],
      "metadata": {
        "id": "vUiDixRVQcep"
      }
    },
    {
      "cell_type": "markdown",
      "source": [
        "- เก็บได้แค่ตัวเลข\n",
        "- อ้างอิงโดยใช้พิกัด (2มิติ ก็มองเป็น Matrix)"
      ],
      "metadata": {
        "id": "zU_QDlSZuQ1q"
      }
    },
    {
      "cell_type": "code",
      "source": [
        "import numpy"
      ],
      "metadata": {
        "id": "J_FcD-ECwk84"
      },
      "execution_count": null,
      "outputs": []
    },
    {
      "cell_type": "code",
      "source": [
        "list_A=[1,2,3,4,5]"
      ],
      "metadata": {
        "id": "auB2wORDxtIW"
      },
      "execution_count": null,
      "outputs": []
    },
    {
      "cell_type": "code",
      "source": [
        "arr_a =numpy.array(list_A)"
      ],
      "metadata": {
        "id": "PZrqULFsxF6-"
      },
      "execution_count": null,
      "outputs": []
    },
    {
      "cell_type": "code",
      "source": [
        "5 * arr_a #5 ไปคูณข้างใน (Scalar multiplication)"
      ],
      "metadata": {
        "id": "40yha1KvyCye"
      },
      "execution_count": null,
      "outputs": []
    },
    {
      "cell_type": "code",
      "source": [
        "4* list_A # Duplicate 4 รอบ"
      ],
      "metadata": {
        "id": "aonsjlQ6yhzq"
      },
      "execution_count": null,
      "outputs": []
    },
    {
      "cell_type": "code",
      "source": [
        "arr_b = numpy.array([10,20,30,40,50])"
      ],
      "metadata": {
        "id": "SzIidAJszpY8"
      },
      "execution_count": null,
      "outputs": []
    },
    {
      "cell_type": "code",
      "source": [
        "print(arr_a, arr_b) "
      ],
      "metadata": {
        "id": "U4R16xy4zv6q"
      },
      "execution_count": null,
      "outputs": []
    },
    {
      "cell_type": "code",
      "source": [
        "arr_a+arr_b"
      ],
      "metadata": {
        "id": "_u1FTk1Pz2dq"
      },
      "execution_count": null,
      "outputs": []
    },
    {
      "cell_type": "markdown",
      "source": [
        "### 2D array"
      ],
      "metadata": {
        "id": "665bo5Caz8yU"
      }
    },
    {
      "cell_type": "code",
      "source": [
        "import numpy as np # as np ตั้งชื่อให้มันเป็น np"
      ],
      "metadata": {
        "id": "C5MH5lXe0A0b"
      },
      "execution_count": null,
      "outputs": []
    },
    {
      "cell_type": "code",
      "source": [
        "arr2_z = np.array([[1,2,3],[4,5,6]]) #array([],[]) ตัวหน้า=จำนวน2 แถว,ตัวหลัง=จำนวน3หลัก สมาชิกย่อยตัวละ3ตัว"
      ],
      "metadata": {
        "id": "KRPsEtNu0W_S"
      },
      "execution_count": null,
      "outputs": []
    },
    {
      "cell_type": "code",
      "source": [
        "arr2_z.shape #เช็คว่าหลักและแถวมีเท่าไหร่"
      ],
      "metadata": {
        "id": "NYbxQPV20wsq"
      },
      "execution_count": null,
      "outputs": []
    },
    {
      "cell_type": "code",
      "source": [
        "arr2_z"
      ],
      "metadata": {
        "id": "YUVZ-sk8msA7"
      },
      "execution_count": null,
      "outputs": []
    },
    {
      "cell_type": "markdown",
      "source": [
        "#np.zeros()"
      ],
      "metadata": {
        "id": "yq9sNn009Ou6"
      }
    },
    {
      "cell_type": "code",
      "source": [
        "arr2_3_5_0 = np.zeros((3,5)) ## 3 แถว 5 หลัก ,np.zero ตัวเลขข้างในจะเป็น 0\n",
        "arr2_3_5_0"
      ],
      "metadata": {
        "id": "SYzJ50OZ9Qi7"
      },
      "execution_count": null,
      "outputs": []
    },
    {
      "cell_type": "code",
      "source": [
        "arr2_3_5_0[1,2] = 9 #แถว 1 หลัก 2 ,แถวหลักจะเริ่มจาก 0,0\n",
        "arr2_3_5_0"
      ],
      "metadata": {
        "id": "vzxjswFI9bSA"
      },
      "execution_count": null,
      "outputs": []
    },
    {
      "cell_type": "code",
      "source": [
        "arr2_3_5_0[1,2] #แถวที่ 1  หลักที่ 2 คือตัวเลข 9"
      ],
      "metadata": {
        "id": "SAk1lEHu-BFT"
      },
      "execution_count": null,
      "outputs": []
    },
    {
      "cell_type": "code",
      "source": [
        "list_A = [1,2,3,4,5]\n",
        "print(list_A)\n",
        "list_A[-1] = \"Christmas\" #แทนตัวสุดท้าย(5) ด้วยคำนี้\n",
        "print(list_A)"
      ],
      "metadata": {
        "id": "OECMZAgk-CE6"
      },
      "execution_count": null,
      "outputs": []
    },
    {
      "cell_type": "markdown",
      "source": [
        "#np.ones()"
      ],
      "metadata": {
        "id": "3QSB58Ts-Mmb"
      }
    },
    {
      "cell_type": "code",
      "source": [
        "arr2_4_5_1 = np.ones((4,5)) # 3แถว 5 หลัก เต็มไปด้วยเลข 1\n",
        "arr2_4_5_1"
      ],
      "metadata": {
        "id": "u4QjGl7b-ONv",
        "colab": {
          "base_uri": "https://localhost:8080/"
        },
        "outputId": "8467bc83-318a-48f9-e538-37aa7a0c44d3"
      },
      "execution_count": null,
      "outputs": [
        {
          "output_type": "execute_result",
          "data": {
            "text/plain": [
              "array([[1., 1., 1., 1., 1.],\n",
              "       [1., 1., 1., 1., 1.],\n",
              "       [1., 1., 1., 1., 1.],\n",
              "       [1., 1., 1., 1., 1.]])"
            ]
          },
          "metadata": {},
          "execution_count": 26
        }
      ]
    },
    {
      "cell_type": "code",
      "source": [
        "arr2_4_5_1[0,0] =9 #ให้ตัวที่อยู่แถว 0 หลัก 0 เป็น 9"
      ],
      "metadata": {
        "id": "GSkOpBbL-Wsz"
      },
      "execution_count": null,
      "outputs": []
    },
    {
      "cell_type": "code",
      "source": [
        "arr2_4_5_1.shape"
      ],
      "metadata": {
        "colab": {
          "base_uri": "https://localhost:8080/"
        },
        "id": "2ZoCPO4Qphq3",
        "outputId": "a9b698e8-5775-4b0b-d4be-38861511138b"
      },
      "execution_count": null,
      "outputs": [
        {
          "output_type": "execute_result",
          "data": {
            "text/plain": [
              "(4, 5)"
            ]
          },
          "metadata": {},
          "execution_count": 36
        }
      ]
    },
    {
      "cell_type": "code",
      "source": [
        "arr2_4_5_200 =200*np.ones((4,5)) #ให้เลขข้างในเป็นเลข 200 แทนเลข 1"
      ],
      "metadata": {
        "id": "e1NDjbQI-fjg"
      },
      "execution_count": null,
      "outputs": []
    },
    {
      "cell_type": "code",
      "source": [
        "arr2_4_5_200"
      ],
      "metadata": {
        "id": "t-Q5Mwcy-jch"
      },
      "execution_count": null,
      "outputs": []
    },
    {
      "cell_type": "code",
      "source": [
        "arr2_4_5_200.shape"
      ],
      "metadata": {
        "colab": {
          "base_uri": "https://localhost:8080/"
        },
        "id": "FHOfOz5Ypn2s",
        "outputId": "b165c3f0-2cbc-4d41-fc69-3f57cf4ad162"
      },
      "execution_count": null,
      "outputs": [
        {
          "output_type": "execute_result",
          "data": {
            "text/plain": [
              "(4, 5)"
            ]
          },
          "metadata": {},
          "execution_count": 39
        }
      ]
    },
    {
      "cell_type": "markdown",
      "source": [
        "#Matrix Operations"
      ],
      "metadata": {
        "id": "9nI-4mFJ-lYN"
      }
    },
    {
      "cell_type": "markdown",
      "source": [
        "**การบวก ลบ Matrix $M+-N$ (บวกลบตัวที่อยู่ตำแหน่งเดียวกัน)**"
      ],
      "metadata": {
        "id": "G_NHn60z-nKJ"
      }
    },
    {
      "cell_type": "code",
      "source": [
        " arr2_4_5_200 + arr2_3_5_0 # การบวก ลบ matrix shape ต้องเท่ากัน "
      ],
      "metadata": {
        "id": "HpVMpuijpGrg"
      },
      "execution_count": null,
      "outputs": []
    },
    {
      "cell_type": "code",
      "source": [
        "arr2_4_5_200 + arr2_4_5_1 # shape เท่ากัน (4,4)"
      ],
      "metadata": {
        "id": "qvI41Nf8pT6V"
      },
      "execution_count": null,
      "outputs": []
    },
    {
      "cell_type": "markdown",
      "source": [
        "### การคูณ matrix\n",
        " $aM$  scalar คูณ Matrix  (scalar คูณกระจายเข้าไปในทุกตัว)\n"
      ],
      "metadata": {
        "id": "yXSo3xo3pzM3"
      }
    },
    {
      "cell_type": "code",
      "source": [
        "5 * arr_a #5 ไปคูณข้างใน (Scalar multiplication)"
      ],
      "metadata": {
        "id": "foRdDvdorFVX"
      },
      "execution_count": null,
      "outputs": []
    },
    {
      "cell_type": "markdown",
      "source": [
        "$M\\times N$ Matrix คูณ Matrix (แถวคูณหลัก)\n",
        "- (m,n) $\\times$ (n,o) = (m,o) (Shape) m แถว o หลัก"
      ],
      "metadata": {
        "id": "fFff_b2NrqMS"
      }
    },
    {
      "cell_type": "code",
      "source": [
        "mat_a = np.array([[2,3,5],[4,6,7]])\n",
        "mat_b = np.array([[1,2,5],[2,4,-7]])\n",
        "mat_c = np.array([[2,3],[4,6],[7,9]])"
      ],
      "metadata": {
        "id": "ir79TUH_r92G"
      },
      "execution_count": null,
      "outputs": []
    },
    {
      "cell_type": "code",
      "source": [
        "print(mat_a) # 2 x 3"
      ],
      "metadata": {
        "colab": {
          "base_uri": "https://localhost:8080/"
        },
        "id": "cv7bmjaMsc0b",
        "outputId": "1b85e6af-22e0-4f1c-fa0b-9408fd1a6c15"
      },
      "execution_count": null,
      "outputs": [
        {
          "output_type": "stream",
          "name": "stdout",
          "text": [
            "[[2 4 5]\n",
            " [1 2 3]\n",
            " [9 8 7]\n",
            " [3 6 9]]\n"
          ]
        }
      ]
    },
    {
      "cell_type": "code",
      "source": [
        "print(mat_b) # 2 x 3"
      ],
      "metadata": {
        "colab": {
          "base_uri": "https://localhost:8080/"
        },
        "id": "9uH7inXLslJs",
        "outputId": "d20bf47d-ffb8-418d-9f21-851d50e6586f"
      },
      "execution_count": null,
      "outputs": [
        {
          "output_type": "stream",
          "name": "stdout",
          "text": [
            "[[ 1  2  5]\n",
            " [ 2  4 -7]]\n"
          ]
        }
      ]
    },
    {
      "cell_type": "code",
      "source": [
        "print(mat_c) # 3 x 2"
      ],
      "metadata": {
        "colab": {
          "base_uri": "https://localhost:8080/"
        },
        "id": "yKnk_9eWslpV",
        "outputId": "3e044520-2c74-4f1a-9637-ca970b62bb69"
      },
      "execution_count": null,
      "outputs": [
        {
          "output_type": "stream",
          "name": "stdout",
          "text": [
            "[[2 3]\n",
            " [4 6]\n",
            " [7 9]]\n"
          ]
        }
      ]
    },
    {
      "cell_type": "markdown",
      "source": [
        "axc , bxc"
      ],
      "metadata": {
        "id": "QVVJ9t1assjF"
      }
    },
    {
      "cell_type": "code",
      "source": [
        "np.dot(mat_a,mat_c) #คูณกันได้เพราะshapeเท่ากัน, 2x2"
      ],
      "metadata": {
        "colab": {
          "base_uri": "https://localhost:8080/"
        },
        "id": "XNArlFK-suU7",
        "outputId": "1315e0d8-cf35-4fcb-cdc9-bdab4d76e7d8"
      },
      "execution_count": null,
      "outputs": [
        {
          "output_type": "execute_result",
          "data": {
            "text/plain": [
              "array([[ 51,  69],\n",
              "       [ 81, 111]])"
            ]
          },
          "metadata": {},
          "execution_count": 57
        }
      ]
    },
    {
      "cell_type": "code",
      "source": [
        "np.dot(mat_b,mat_c) # 2x 2"
      ],
      "metadata": {
        "colab": {
          "base_uri": "https://localhost:8080/"
        },
        "id": "N5015oAytQse",
        "outputId": "b5d71d0d-d01c-429c-8d2a-ec127f1f9513"
      },
      "execution_count": null,
      "outputs": [
        {
          "output_type": "execute_result",
          "data": {
            "text/plain": [
              "array([[ 45,  60],\n",
              "       [-29, -33]])"
            ]
          },
          "metadata": {},
          "execution_count": 58
        }
      ]
    },
    {
      "cell_type": "markdown",
      "source": [
        "cxa, cxb"
      ],
      "metadata": {
        "id": "KUlta0Aitgkj"
      }
    },
    {
      "cell_type": "code",
      "source": [
        "np.dot(mat_c,mat_a)  #3 x 3"
      ],
      "metadata": {
        "colab": {
          "base_uri": "https://localhost:8080/"
        },
        "id": "8vryMEsjth9H",
        "outputId": "cb7887bf-0787-42a7-8a3d-cc7fc21f9746"
      },
      "execution_count": null,
      "outputs": [
        {
          "output_type": "execute_result",
          "data": {
            "text/plain": [
              "array([[16, 24, 31],\n",
              "       [32, 48, 62],\n",
              "       [50, 75, 98]])"
            ]
          },
          "metadata": {},
          "execution_count": 59
        }
      ]
    },
    {
      "cell_type": "code",
      "source": [
        "mat_X = np.dot(mat_c,mat_b) #3 x 3"
      ],
      "metadata": {
        "id": "-a2UnW53tj9w"
      },
      "execution_count": null,
      "outputs": []
    },
    {
      "cell_type": "code",
      "source": [
        "mat_a * mat_b #คูณแบบไม่ตรงตามเมทริก คูณตรงตามตำแหน่ง ต้องใช้ .dot"
      ],
      "metadata": {
        "colab": {
          "base_uri": "https://localhost:8080/"
        },
        "id": "ZgFafjiftuQm",
        "outputId": "70b7102b-6ad0-4cc2-b7ce-5b8702b8444c"
      },
      "execution_count": null,
      "outputs": [
        {
          "output_type": "execute_result",
          "data": {
            "text/plain": [
              "array([[  2,   6,  25],\n",
              "       [  8,  24, -49]])"
            ]
          },
          "metadata": {},
          "execution_count": 61
        }
      ]
    },
    {
      "cell_type": "markdown",
      "source": [
        "#Matrix Slicing"
      ],
      "metadata": {
        "id": "TeBTF4zyCtj0"
      }
    },
    {
      "cell_type": "code",
      "source": [
        "mat_X[:2,:2]"
      ],
      "metadata": {
        "colab": {
          "base_uri": "https://localhost:8080/"
        },
        "id": "7fJRy3_pt99u",
        "outputId": "9e0c6c4c-afa4-414f-e7df-74f0ec21abe6"
      },
      "execution_count": null,
      "outputs": [
        {
          "output_type": "execute_result",
          "data": {
            "text/plain": [
              "array([[ 8, 16],\n",
              "       [16, 32]])"
            ]
          },
          "metadata": {},
          "execution_count": 92
        }
      ]
    },
    {
      "cell_type": "code",
      "source": [
        "import numpy"
      ],
      "metadata": {
        "id": "Jx_VqwykCwpq"
      },
      "execution_count": null,
      "outputs": []
    },
    {
      "cell_type": "code",
      "source": [
        "mat_Y = numpy.array([[2,4,5],[1,2,3],[9,8,7],[3,6,9]])\n",
        "print(mat_Y)"
      ],
      "metadata": {
        "colab": {
          "base_uri": "https://localhost:8080/"
        },
        "id": "cNC9S1CfD7W1",
        "outputId": "3444a13a-01d2-421f-a572-02fb6df7f1b5"
      },
      "execution_count": null,
      "outputs": [
        {
          "output_type": "stream",
          "name": "stdout",
          "text": [
            "[[2 4 5]\n",
            " [1 2 3]\n",
            " [9 8 7]\n",
            " [3 6 9]]\n"
          ]
        }
      ]
    },
    {
      "cell_type": "code",
      "source": [
        "import numpy as np"
      ],
      "metadata": {
        "id": "AcLukJXFFB9j"
      },
      "execution_count": null,
      "outputs": []
    },
    {
      "cell_type": "code",
      "source": [
        "list_b = [[-1,-1,2,4,5],[-2,-2,1,2,3],[-3,-3,9,8,7],[-4,-4,3,6,9]]\n",
        "mat_Z= np.array(list_b)\n",
        "mat_Z"
      ],
      "metadata": {
        "colab": {
          "base_uri": "https://localhost:8080/"
        },
        "id": "Ry7XtM4AFELA",
        "outputId": "bb76e30c-8c9b-4975-d408-e61ddc38d94c"
      },
      "execution_count": null,
      "outputs": [
        {
          "output_type": "execute_result",
          "data": {
            "text/plain": [
              "array([[-1, -1,  2,  4,  5],\n",
              "       [-2, -2,  1,  2,  3],\n",
              "       [-3, -3,  9,  8,  7],\n",
              "       [-4, -4,  3,  6,  9]])"
            ]
          },
          "metadata": {},
          "execution_count": 80
        }
      ]
    },
    {
      "cell_type": "markdown",
      "source": [
        "## Quiz 2\n",
        "1.slice ค่าลบออกมาจาก '''mat_b'''\n",
        "\n",
        "2.slice '''[1,2,3] ''' จาก '''mat_a'''\n",
        "\n",
        "3.slice '''[[1,3], [9,7], [3,9]]''' ออกจาก'''mat_b'''"
      ],
      "metadata": {
        "id": "aDmvnrfRFWyC"
      }
    },
    {
      "cell_type": "code",
      "source": [
        "mat_a"
      ],
      "metadata": {
        "colab": {
          "base_uri": "https://localhost:8080/"
        },
        "id": "YkrDayLyGWbf",
        "outputId": "bbb919a6-2953-4748-9593-4ad6a0bac34e"
      },
      "execution_count": null,
      "outputs": [
        {
          "output_type": "execute_result",
          "data": {
            "text/plain": [
              "array([[2, 4, 5],\n",
              "       [1, 2, 3],\n",
              "       [9, 8, 7],\n",
              "       [3, 6, 9]])"
            ]
          },
          "metadata": {},
          "execution_count": 66
        }
      ]
    },
    {
      "cell_type": "code",
      "source": [
        "mat_b"
      ],
      "metadata": {
        "colab": {
          "base_uri": "https://localhost:8080/"
        },
        "id": "sK9_IBB9IqCk",
        "outputId": "aacd25a3-0cfb-4966-f1e3-abf7b53dd3b7"
      },
      "execution_count": null,
      "outputs": [
        {
          "output_type": "execute_result",
          "data": {
            "text/plain": [
              "array([[-1, -1,  2,  4,  5],\n",
              "       [-2, -2,  1,  2,  3],\n",
              "       [-3, -3,  9,  8,  7],\n",
              "       [-4, -4,  3,  6,  9]])"
            ]
          },
          "metadata": {},
          "execution_count": 67
        }
      ]
    },
    {
      "cell_type": "code",
      "source": [
        "mat_a[1:2,:4]"
      ],
      "metadata": {
        "colab": {
          "base_uri": "https://localhost:8080/"
        },
        "id": "t1QfsWfWHOdO",
        "outputId": "9ccf9294-970a-4cf9-f068-ae55ea8f176a"
      },
      "execution_count": null,
      "outputs": [
        {
          "output_type": "execute_result",
          "data": {
            "text/plain": [
              "array([[1, 2, 3]])"
            ]
          },
          "metadata": {},
          "execution_count": 68
        }
      ]
    },
    {
      "cell_type": "code",
      "source": [
        "mat_b[:5,:2]"
      ],
      "metadata": {
        "colab": {
          "base_uri": "https://localhost:8080/"
        },
        "id": "vna_OIwbH3qF",
        "outputId": "88b01756-3b6d-4ce6-e85d-483f44d742be"
      },
      "execution_count": null,
      "outputs": [
        {
          "output_type": "execute_result",
          "data": {
            "text/plain": [
              "array([[-1, -1],\n",
              "       [-2, -2],\n",
              "       [-3, -3],\n",
              "       [-4, -4]])"
            ]
          },
          "metadata": {},
          "execution_count": 69
        }
      ]
    },
    {
      "cell_type": "code",
      "source": [
        "mat_b[1:4,2:5:2]"
      ],
      "metadata": {
        "colab": {
          "base_uri": "https://localhost:8080/"
        },
        "id": "MD4XoaL6IALW",
        "outputId": "2c607bae-3f8c-434e-ce7a-cd94da7a503f"
      },
      "execution_count": null,
      "outputs": [
        {
          "output_type": "execute_result",
          "data": {
            "text/plain": [
              "array([[1, 3],\n",
              "       [9, 7],\n",
              "       [3, 9]])"
            ]
          },
          "metadata": {},
          "execution_count": 70
        }
      ]
    }
  ]
}