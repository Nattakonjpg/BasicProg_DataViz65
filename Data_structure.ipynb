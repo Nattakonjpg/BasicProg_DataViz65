{
  "nbformat": 4,
  "nbformat_minor": 0,
  "metadata": {
    "colab": {
      "name": "Data structure.ipynb",
      "provenance": [],
      "collapsed_sections": [],
      "authorship_tag": "ABX9TyOcSgHTh8ooISLJl+euMynw"
    },
    "kernelspec": {
      "name": "python3",
      "display_name": "Python 3"
    },
    "language_info": {
      "name": "python"
    }
  },
  "cells": [
    {
      "cell_type": "markdown",
      "source": [
        "##Dictionary"
      ],
      "metadata": {
        "id": "rgD7VqleM3yy"
      }
    },
    {
      "cell_type": "markdown",
      "source": [
        "- คล้าย list ()\n",
        "- index เป็นอะไรก็ได้ ไม่จำเป็นต้องเป็นเลขลำดับ\n",
        "- ลำดับไม่มีความสำคัญ"
      ],
      "metadata": {
        "id": "mPKCCrFhNJPU"
      }
    },
    {
      "cell_type": "code",
      "source": [
        "dict_a = {1:\"Hello\",'N':\"New\",3:\"Year\",'4':\"2022\"} # { } Curly brackets\n"
      ],
      "metadata": {
        "id": "n39xjxzlNSqr"
      },
      "execution_count": null,
      "outputs": []
    },
    {
      "cell_type": "code",
      "source": [
        "dict_a[1] # 1:กำหนดให้ตัวนั้นเป็น index 1\n"
      ],
      "metadata": {
        "id": "gUS_ay9WO2US"
      },
      "execution_count": null,
      "outputs": []
    },
    {
      "cell_type": "code",
      "source": [
        "dict_a.keys() #index = keys เรียก check มาดูก่อนว่ามี key ไรบ้าง"
      ],
      "metadata": {
        "id": "OQP5yia1PACk"
      },
      "execution_count": null,
      "outputs": []
    },
    {
      "cell_type": "code",
      "source": [
        "dict_a.values() #ดูว่ามีค่าอะไรบ้างข้างใน"
      ],
      "metadata": {
        "id": "HfHyYXn8PI7a"
      },
      "execution_count": null,
      "outputs": []
    },
    {
      "cell_type": "markdown",
      "source": [
        "### การเพิ่มสมาชิกลงไปใน Dictionary"
      ],
      "metadata": {
        "id": "qQWWTDBCPhvE"
      }
    },
    {
      "cell_type": "code",
      "source": [
        "dict_a[7] = 3.14 #ระบุ index แล้วก็ค่านั้น"
      ],
      "metadata": {
        "id": "pi32BXbyPlmW"
      },
      "execution_count": null,
      "outputs": []
    },
    {
      "cell_type": "code",
      "source": [
        "dict_a['N'] =\"Newwwwwwwww\""
      ],
      "metadata": {
        "id": "wG2reLArQKOs"
      },
      "execution_count": null,
      "outputs": []
    },
    {
      "cell_type": "code",
      "source": [
        "dict_a"
      ],
      "metadata": {
        "id": "s4vluuIRQSA1"
      },
      "execution_count": null,
      "outputs": []
    },
    {
      "cell_type": "markdown",
      "source": [
        "##Numpy array"
      ],
      "metadata": {
        "id": "vUiDixRVQcep"
      }
    },
    {
      "cell_type": "markdown",
      "source": [
        "- เก็บได้แค่ตัวเลข\n",
        "- อ้างอิงโดยใช้พิกัด (2มิติ ก็มองเป็น Matrix)"
      ],
      "metadata": {
        "id": "zU_QDlSZuQ1q"
      }
    },
    {
      "cell_type": "code",
      "source": [
        "import numpy"
      ],
      "metadata": {
        "id": "J_FcD-ECwk84"
      },
      "execution_count": null,
      "outputs": []
    },
    {
      "cell_type": "code",
      "source": [
        "list_A=[1,2,3,4,5]"
      ],
      "metadata": {
        "id": "auB2wORDxtIW"
      },
      "execution_count": null,
      "outputs": []
    },
    {
      "cell_type": "code",
      "source": [
        "arr_a =numpy.array(list_A)"
      ],
      "metadata": {
        "id": "PZrqULFsxF6-"
      },
      "execution_count": null,
      "outputs": []
    },
    {
      "cell_type": "code",
      "source": [
        "5 * arr_a #5 ไปคูณข้างใน (Scalar multiplication)"
      ],
      "metadata": {
        "colab": {
          "base_uri": "https://localhost:8080/"
        },
        "id": "40yha1KvyCye",
        "outputId": "d18a6f49-840d-41e7-fd32-6559e4c5808a"
      },
      "execution_count": null,
      "outputs": [
        {
          "output_type": "execute_result",
          "data": {
            "text/plain": [
              "array([ 5, 10, 15, 20, 25])"
            ]
          },
          "metadata": {},
          "execution_count": 11
        }
      ]
    },
    {
      "cell_type": "code",
      "source": [
        "4* list_A # Duplicate 4 รอบ"
      ],
      "metadata": {
        "colab": {
          "base_uri": "https://localhost:8080/"
        },
        "id": "aonsjlQ6yhzq",
        "outputId": "67cc8dca-3af9-4c77-f6fa-774808c4a81a"
      },
      "execution_count": null,
      "outputs": [
        {
          "output_type": "execute_result",
          "data": {
            "text/plain": [
              "[1, 2, 3, 4, 5, 1, 2, 3, 4, 5, 1, 2, 3, 4, 5, 1, 2, 3, 4, 5]"
            ]
          },
          "metadata": {},
          "execution_count": 12
        }
      ]
    },
    {
      "cell_type": "code",
      "source": [
        "arr_b = numpy.array([10,20,30,40,50])"
      ],
      "metadata": {
        "id": "SzIidAJszpY8"
      },
      "execution_count": null,
      "outputs": []
    },
    {
      "cell_type": "code",
      "source": [
        "print(arr_a, arr_b) "
      ],
      "metadata": {
        "colab": {
          "base_uri": "https://localhost:8080/"
        },
        "id": "U4R16xy4zv6q",
        "outputId": "acc740ea-78a3-47cc-fe46-90e25185e2b7"
      },
      "execution_count": null,
      "outputs": [
        {
          "output_type": "stream",
          "name": "stdout",
          "text": [
            "[1 2 3 4 5] [10 20 30 40 50]\n"
          ]
        }
      ]
    },
    {
      "cell_type": "code",
      "source": [
        "arr_a+arr_b"
      ],
      "metadata": {
        "colab": {
          "base_uri": "https://localhost:8080/"
        },
        "id": "_u1FTk1Pz2dq",
        "outputId": "1946e8de-4a67-41c5-8e6c-e5d1a8c37692"
      },
      "execution_count": null,
      "outputs": [
        {
          "output_type": "execute_result",
          "data": {
            "text/plain": [
              "array([11, 22, 33, 44, 55])"
            ]
          },
          "metadata": {},
          "execution_count": 15
        }
      ]
    },
    {
      "cell_type": "markdown",
      "source": [
        "### 2D array"
      ],
      "metadata": {
        "id": "665bo5Caz8yU"
      }
    },
    {
      "cell_type": "code",
      "source": [
        "import numpy as np # as np ตั้งให้มันเป็น np"
      ],
      "metadata": {
        "id": "C5MH5lXe0A0b"
      },
      "execution_count": null,
      "outputs": []
    },
    {
      "cell_type": "code",
      "source": [
        "arr2_z = np.array([[1,2,3],[4,5,6]]) #2 แถว 3หลัก"
      ],
      "metadata": {
        "id": "KRPsEtNu0W_S"
      },
      "execution_count": null,
      "outputs": []
    },
    {
      "cell_type": "code",
      "source": [
        "arr2_z"
      ],
      "metadata": {
        "id": "NYbxQPV20wsq"
      },
      "execution_count": null,
      "outputs": []
    },
    {
      "cell_type": "code",
      "source": [
        ""
      ],
      "metadata": {
        "id": "iGmmoqyW1UVy"
      },
      "execution_count": null,
      "outputs": []
    }
  ]
}