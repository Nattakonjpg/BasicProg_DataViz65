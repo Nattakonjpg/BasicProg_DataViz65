{
  "nbformat": 4,
  "nbformat_minor": 0,
  "metadata": {
    "colab": {
      "name": "function.ipynb",
      "provenance": [],
      "authorship_tag": "ABX9TyN4OdzT3xy2nwkp74Ej58cw",
      "include_colab_link": true
    },
    "kernelspec": {
      "name": "python3",
      "display_name": "Python 3"
    },
    "language_info": {
      "name": "python"
    }
  },
  "cells": [
    {
      "cell_type": "markdown",
      "metadata": {
        "id": "view-in-github",
        "colab_type": "text"
      },
      "source": [
        "<a href=\"https://colab.research.google.com/github/Nattakonjpg/BasicProg_DataViz65/blob/main/function.ipynb\" target=\"_parent\"><img src=\"https://colab.research.google.com/assets/colab-badge.svg\" alt=\"Open In Colab\"/></a>"
      ]
    },
    {
      "cell_type": "markdown",
      "source": [
        "#Function (f(x)=y)\n",
        "\n"
      ],
      "metadata": {
        "id": "n9Vpm82lL40W"
      }
    },
    {
      "cell_type": "markdown",
      "source": [
        "def function_name(input_x):\n",
        "\n",
        "  do something with input_x to get output_y\n",
        "  \n",
        "  return output_y"
      ],
      "metadata": {
        "id": "RZ2VWRC2MCqy"
      }
    },
    {
      "cell_type": "code",
      "source": [
        "def print_name_id(name,id):\n",
        "    print(f'ชื่อ {name} รหัสประจำตัว {id}')"
      ],
      "metadata": {
        "id": "ynBn22bzNMkJ"
      },
      "execution_count": 9,
      "outputs": []
    },
    {
      "cell_type": "code",
      "source": [
        "print_name_id('ณัฐกรณ์',\"633021015-9\")"
      ],
      "metadata": {
        "colab": {
          "base_uri": "https://localhost:8080/"
        },
        "id": "9jnQQJupNYCd",
        "outputId": "05fc76fd-2d93-4804-b8e2-00181f9e4a8a"
      },
      "execution_count": 10,
      "outputs": [
        {
          "output_type": "stream",
          "name": "stdout",
          "text": [
            "ชื่อ ณัฐกรณ์ รหัสประจำตัว 633021015-9\n"
          ]
        }
      ]
    },
    {
      "cell_type": "code",
      "source": [
        "a =print_name_id('ณัฐกรณ์',\"633021015-9\")"
      ],
      "metadata": {
        "colab": {
          "base_uri": "https://localhost:8080/"
        },
        "id": "XAf7Sd2bNqf3",
        "outputId": "367b9a22-d05d-4b2d-9c68-c0d628a1a17f"
      },
      "execution_count": 16,
      "outputs": [
        {
          "output_type": "stream",
          "name": "stdout",
          "text": [
            "ชื่อ ณัฐกรณ์ รหัสประจำตัว 633021015-9\n"
          ]
        }
      ]
    },
    {
      "cell_type": "code",
      "source": [
        "print(a)"
      ],
      "metadata": {
        "colab": {
          "base_uri": "https://localhost:8080/"
        },
        "id": "cL7cFKSZNtYZ",
        "outputId": "7878593a-d170-4f96-b8cf-3e77fc072e65"
      },
      "execution_count": 17,
      "outputs": [
        {
          "output_type": "stream",
          "name": "stdout",
          "text": [
            "None\n"
          ]
        }
      ]
    },
    {
      "cell_type": "markdown",
      "source": [
        "##Function **Print**"
      ],
      "metadata": {
        "id": "WFN3S1ugRXB7"
      }
    },
    {
      "cell_type": "code",
      "source": [
        "print(\"hello\")\n",
        "print(\"สวัสดี\")"
      ],
      "metadata": {
        "colab": {
          "base_uri": "https://localhost:8080/"
        },
        "id": "fnEGhQ_tRefS",
        "outputId": "08271610-075c-4eb9-c603-83b7a414f021"
      },
      "execution_count": 18,
      "outputs": [
        {
          "output_type": "stream",
          "name": "stdout",
          "text": [
            "hello\n",
            "สวัสดี\n"
          ]
        }
      ]
    },
    {
      "cell_type": "code",
      "source": [
        "print()"
      ],
      "metadata": {
        "id": "dfRSazdQSAL5"
      },
      "execution_count": null,
      "outputs": []
    }
  ]
}