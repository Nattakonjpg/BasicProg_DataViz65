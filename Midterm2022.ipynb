{
  "nbformat": 4,
  "nbformat_minor": 0,
  "metadata": {
    "colab": {
      "provenance": [],
      "collapsed_sections": [],
      "authorship_tag": "ABX9TyPsmqbN2YHKo9FC8TbHmtXw",
      "include_colab_link": true
    },
    "kernelspec": {
      "name": "python3",
      "display_name": "Python 3"
    },
    "language_info": {
      "name": "python"
    }
  },
  "cells": [
    {
      "cell_type": "markdown",
      "metadata": {
        "id": "view-in-github",
        "colab_type": "text"
      },
      "source": [
        "<a href=\"https://colab.research.google.com/github/Nattakonjpg/BasicProg_DataViz65/blob/main/Midterm2022.ipynb\" target=\"_parent\"><img src=\"https://colab.research.google.com/assets/colab-badge.svg\" alt=\"Open In Colab\"/></a>"
      ]
    },
    {
      "cell_type": "code",
      "source": [
        "from google.colab import drive ## google drive\n",
        "drive.mount('/content/drive') "
      ],
      "metadata": {
        "colab": {
          "base_uri": "https://localhost:8080/"
        },
        "id": "yquMRtCoUwEn",
        "outputId": "e1e581a0-a39c-41fa-86c1-34f182bc6402"
      },
      "execution_count": 1,
      "outputs": [
        {
          "output_type": "stream",
          "name": "stdout",
          "text": [
            "Mounted at /content/drive\n"
          ]
        }
      ]
    },
    {
      "cell_type": "code",
      "execution_count": 2,
      "metadata": {
        "id": "lTk9Xgx1TyPT"
      },
      "outputs": [],
      "source": [
        "import pandas as pd"
      ]
    },
    {
      "cell_type": "code",
      "source": [
        "import os"
      ],
      "metadata": {
        "id": "vBHc62HnUdg7"
      },
      "execution_count": 3,
      "outputs": []
    },
    {
      "cell_type": "code",
      "source": [
        "Unit = pd.read_csv('/content/drive/My Drive/dataviz_2022/Midterm/opendata_unittype.csv')\n",
        "Unit.head()"
      ],
      "metadata": {
        "id": "AoWZfFJVXVnX"
      },
      "execution_count": null,
      "outputs": []
    },
    {
      "cell_type": "code",
      "source": [
        "rent = pd.read_csv('/content/drive/My Drive/dataviz_2022/Midterm/opendata_volume_listing_rent.csv')\n",
        "rent.head()"
      ],
      "metadata": {
        "id": "mY2I9dLpW45v"
      },
      "execution_count": null,
      "outputs": []
    },
    {
      "cell_type": "code",
      "source": [
        "project = pd.read_csv('/content/drive/MyDrive/dataviz_2022/Midterm/opendata_project.csv')\n",
        "project.head()"
      ],
      "metadata": {
        "id": "x7sUbx90Xh9F"
      },
      "execution_count": null,
      "outputs": []
    },
    {
      "cell_type": "code",
      "source": [
        "eat = pd.read_csv('/content/drive/MyDrive/dataviz_2022/Midterm/opendata_eating_score.csv')\n",
        "eat"
      ],
      "metadata": {
        "id": "GGqJ-AcdX2Bo"
      },
      "execution_count": null,
      "outputs": []
    },
    {
      "cell_type": "markdown",
      "source": [
        "##ลบค่า Missing"
      ],
      "metadata": {
        "id": "tHSSBxrg0Kpc"
      }
    },
    {
      "cell_type": "code",
      "source": [
        "unit1=Unit.dropna(subset=['row_number','unittype_id','project_id','propertytype_id','propertytype_name_en','propertytype_name_th'])"
      ],
      "metadata": {
        "id": "cW2MI9ww0MOu"
      },
      "execution_count": null,
      "outputs": []
    },
    {
      "cell_type": "code",
      "source": [
        "project1=project.dropna(subset=['project_id','name_th','propertytype_id','propertytype_name_th','developer_id',])"
      ],
      "metadata": {
        "id": "sx4MZ0290KaY"
      },
      "execution_count": 27,
      "outputs": []
    },
    {
      "cell_type": "code",
      "source": [
        "rent1=rent.dropna(subset=['row_number','transction_year','transction_month','listing_province_name_th','listing_district_name_th','project_propertytype_name_th','volume_of_rental'])"
      ],
      "metadata": {
        "id": "hBggNZS80Roa"
      },
      "execution_count": 28,
      "outputs": []
    },
    {
      "cell_type": "code",
      "source": [
        "eat1=eat.dropna(subset=['row_number','subdistrict_id','subdistrict_name_th','district_id','district_name_th','province_id','province_name_th','eating_daytime','eating_daytime_price','eating_daytime_variety','eating_nighttime_variety'])\n",
        "eat1.head()"
      ],
      "metadata": {
        "colab": {
          "base_uri": "https://localhost:8080/",
          "height": 357
        },
        "id": "dGbt5d7b0T3v",
        "outputId": "e008106d-07bf-49b6-d75d-b51477c33065"
      },
      "execution_count": 105,
      "outputs": [
        {
          "output_type": "execute_result",
          "data": {
            "text/plain": [
              "   row_number  subdistrict_id subdistrict_name_en subdistrict_name_th  \\\n",
              "0           2            4001         HUAI KHWANG            ห้วยขวาง   \n",
              "1         397            2632      THEP KRASATTRI         เทพกระษัตรี   \n",
              "2          76            3509             PAK NAM              ปากน้ำ   \n",
              "3         368            4628               SAMET               เสม็ด   \n",
              "4         531            1166             TON PAO              ต้นเปา   \n",
              "\n",
              "   district_id     district_name_en  district_name_th  province_id  \\\n",
              "0         4000          HUAI KHWANG          ห้วยขวาง         3781   \n",
              "1         2630              THALANG              ถลาง         2616   \n",
              "2         3499  MUEANG SAMUT PRAKAN  เมืองสมุทรปราการ         3498   \n",
              "3         4617     MUEANG CHON BURI       เมืองชลบุรี         4616   \n",
              "4         1164        SAN KAMPHAENG          สันกำแพง         1005   \n",
              "\n",
              "  province_name_en province_name_th  eating_daytime  eating_daytime_price  \\\n",
              "0          Bangkok    กรุงเทพมหานคร            66.0                  72.0   \n",
              "1           Phuket           ภูเก็ต            35.0                  37.0   \n",
              "2     Samut Prakan      สมุทรปราการ            70.0                  84.0   \n",
              "3        Chon Buri           ชลบุรี            68.0                  67.0   \n",
              "4       Chiang Mai        เชียงใหม่            44.0                  36.0   \n",
              "\n",
              "   eating_daytime_quality  eating_daytime_variety  eating_nighttime  \\\n",
              "0                    49.0                    92.0              75.0   \n",
              "1                    30.0                    45.0              38.0   \n",
              "2                    55.0                    79.0              65.0   \n",
              "3                    56.0                    97.0              69.0   \n",
              "4                    47.0                    51.0              47.0   \n",
              "\n",
              "   eating_nighttime_price  eating_nighttime_quality  eating_nighttime_variety  \\\n",
              "0                    68.0                      54.0                      94.0   \n",
              "1                    28.0                      28.0                      51.0   \n",
              "2                    72.0                      57.0                      67.0   \n",
              "3                    41.0                      54.0                      94.0   \n",
              "4                    22.0                      61.0                      52.0   \n",
              "\n",
              "   source         day  \n",
              "0  baania  2022-08-31  \n",
              "1  baania  2022-08-31  \n",
              "2  baania  2022-08-31  \n",
              "3  baania  2022-08-31  \n",
              "4  baania  2022-08-31  "
            ],
            "text/html": [
              "\n",
              "  <div id=\"df-7a434b56-45d9-4a51-b7be-9d38ea866092\">\n",
              "    <div class=\"colab-df-container\">\n",
              "      <div>\n",
              "<style scoped>\n",
              "    .dataframe tbody tr th:only-of-type {\n",
              "        vertical-align: middle;\n",
              "    }\n",
              "\n",
              "    .dataframe tbody tr th {\n",
              "        vertical-align: top;\n",
              "    }\n",
              "\n",
              "    .dataframe thead th {\n",
              "        text-align: right;\n",
              "    }\n",
              "</style>\n",
              "<table border=\"1\" class=\"dataframe\">\n",
              "  <thead>\n",
              "    <tr style=\"text-align: right;\">\n",
              "      <th></th>\n",
              "      <th>row_number</th>\n",
              "      <th>subdistrict_id</th>\n",
              "      <th>subdistrict_name_en</th>\n",
              "      <th>subdistrict_name_th</th>\n",
              "      <th>district_id</th>\n",
              "      <th>district_name_en</th>\n",
              "      <th>district_name_th</th>\n",
              "      <th>province_id</th>\n",
              "      <th>province_name_en</th>\n",
              "      <th>province_name_th</th>\n",
              "      <th>eating_daytime</th>\n",
              "      <th>eating_daytime_price</th>\n",
              "      <th>eating_daytime_quality</th>\n",
              "      <th>eating_daytime_variety</th>\n",
              "      <th>eating_nighttime</th>\n",
              "      <th>eating_nighttime_price</th>\n",
              "      <th>eating_nighttime_quality</th>\n",
              "      <th>eating_nighttime_variety</th>\n",
              "      <th>source</th>\n",
              "      <th>day</th>\n",
              "    </tr>\n",
              "  </thead>\n",
              "  <tbody>\n",
              "    <tr>\n",
              "      <th>0</th>\n",
              "      <td>2</td>\n",
              "      <td>4001</td>\n",
              "      <td>HUAI KHWANG</td>\n",
              "      <td>ห้วยขวาง</td>\n",
              "      <td>4000</td>\n",
              "      <td>HUAI KHWANG</td>\n",
              "      <td>ห้วยขวาง</td>\n",
              "      <td>3781</td>\n",
              "      <td>Bangkok</td>\n",
              "      <td>กรุงเทพมหานคร</td>\n",
              "      <td>66.0</td>\n",
              "      <td>72.0</td>\n",
              "      <td>49.0</td>\n",
              "      <td>92.0</td>\n",
              "      <td>75.0</td>\n",
              "      <td>68.0</td>\n",
              "      <td>54.0</td>\n",
              "      <td>94.0</td>\n",
              "      <td>baania</td>\n",
              "      <td>2022-08-31</td>\n",
              "    </tr>\n",
              "    <tr>\n",
              "      <th>1</th>\n",
              "      <td>397</td>\n",
              "      <td>2632</td>\n",
              "      <td>THEP KRASATTRI</td>\n",
              "      <td>เทพกระษัตรี</td>\n",
              "      <td>2630</td>\n",
              "      <td>THALANG</td>\n",
              "      <td>ถลาง</td>\n",
              "      <td>2616</td>\n",
              "      <td>Phuket</td>\n",
              "      <td>ภูเก็ต</td>\n",
              "      <td>35.0</td>\n",
              "      <td>37.0</td>\n",
              "      <td>30.0</td>\n",
              "      <td>45.0</td>\n",
              "      <td>38.0</td>\n",
              "      <td>28.0</td>\n",
              "      <td>28.0</td>\n",
              "      <td>51.0</td>\n",
              "      <td>baania</td>\n",
              "      <td>2022-08-31</td>\n",
              "    </tr>\n",
              "    <tr>\n",
              "      <th>2</th>\n",
              "      <td>76</td>\n",
              "      <td>3509</td>\n",
              "      <td>PAK NAM</td>\n",
              "      <td>ปากน้ำ</td>\n",
              "      <td>3499</td>\n",
              "      <td>MUEANG SAMUT PRAKAN</td>\n",
              "      <td>เมืองสมุทรปราการ</td>\n",
              "      <td>3498</td>\n",
              "      <td>Samut Prakan</td>\n",
              "      <td>สมุทรปราการ</td>\n",
              "      <td>70.0</td>\n",
              "      <td>84.0</td>\n",
              "      <td>55.0</td>\n",
              "      <td>79.0</td>\n",
              "      <td>65.0</td>\n",
              "      <td>72.0</td>\n",
              "      <td>57.0</td>\n",
              "      <td>67.0</td>\n",
              "      <td>baania</td>\n",
              "      <td>2022-08-31</td>\n",
              "    </tr>\n",
              "    <tr>\n",
              "      <th>3</th>\n",
              "      <td>368</td>\n",
              "      <td>4628</td>\n",
              "      <td>SAMET</td>\n",
              "      <td>เสม็ด</td>\n",
              "      <td>4617</td>\n",
              "      <td>MUEANG CHON BURI</td>\n",
              "      <td>เมืองชลบุรี</td>\n",
              "      <td>4616</td>\n",
              "      <td>Chon Buri</td>\n",
              "      <td>ชลบุรี</td>\n",
              "      <td>68.0</td>\n",
              "      <td>67.0</td>\n",
              "      <td>56.0</td>\n",
              "      <td>97.0</td>\n",
              "      <td>69.0</td>\n",
              "      <td>41.0</td>\n",
              "      <td>54.0</td>\n",
              "      <td>94.0</td>\n",
              "      <td>baania</td>\n",
              "      <td>2022-08-31</td>\n",
              "    </tr>\n",
              "    <tr>\n",
              "      <th>4</th>\n",
              "      <td>531</td>\n",
              "      <td>1166</td>\n",
              "      <td>TON PAO</td>\n",
              "      <td>ต้นเปา</td>\n",
              "      <td>1164</td>\n",
              "      <td>SAN KAMPHAENG</td>\n",
              "      <td>สันกำแพง</td>\n",
              "      <td>1005</td>\n",
              "      <td>Chiang Mai</td>\n",
              "      <td>เชียงใหม่</td>\n",
              "      <td>44.0</td>\n",
              "      <td>36.0</td>\n",
              "      <td>47.0</td>\n",
              "      <td>51.0</td>\n",
              "      <td>47.0</td>\n",
              "      <td>22.0</td>\n",
              "      <td>61.0</td>\n",
              "      <td>52.0</td>\n",
              "      <td>baania</td>\n",
              "      <td>2022-08-31</td>\n",
              "    </tr>\n",
              "  </tbody>\n",
              "</table>\n",
              "</div>\n",
              "      <button class=\"colab-df-convert\" onclick=\"convertToInteractive('df-7a434b56-45d9-4a51-b7be-9d38ea866092')\"\n",
              "              title=\"Convert this dataframe to an interactive table.\"\n",
              "              style=\"display:none;\">\n",
              "        \n",
              "  <svg xmlns=\"http://www.w3.org/2000/svg\" height=\"24px\"viewBox=\"0 0 24 24\"\n",
              "       width=\"24px\">\n",
              "    <path d=\"M0 0h24v24H0V0z\" fill=\"none\"/>\n",
              "    <path d=\"M18.56 5.44l.94 2.06.94-2.06 2.06-.94-2.06-.94-.94-2.06-.94 2.06-2.06.94zm-11 1L8.5 8.5l.94-2.06 2.06-.94-2.06-.94L8.5 2.5l-.94 2.06-2.06.94zm10 10l.94 2.06.94-2.06 2.06-.94-2.06-.94-.94-2.06-.94 2.06-2.06.94z\"/><path d=\"M17.41 7.96l-1.37-1.37c-.4-.4-.92-.59-1.43-.59-.52 0-1.04.2-1.43.59L10.3 9.45l-7.72 7.72c-.78.78-.78 2.05 0 2.83L4 21.41c.39.39.9.59 1.41.59.51 0 1.02-.2 1.41-.59l7.78-7.78 2.81-2.81c.8-.78.8-2.07 0-2.86zM5.41 20L4 18.59l7.72-7.72 1.47 1.35L5.41 20z\"/>\n",
              "  </svg>\n",
              "      </button>\n",
              "      \n",
              "  <style>\n",
              "    .colab-df-container {\n",
              "      display:flex;\n",
              "      flex-wrap:wrap;\n",
              "      gap: 12px;\n",
              "    }\n",
              "\n",
              "    .colab-df-convert {\n",
              "      background-color: #E8F0FE;\n",
              "      border: none;\n",
              "      border-radius: 50%;\n",
              "      cursor: pointer;\n",
              "      display: none;\n",
              "      fill: #1967D2;\n",
              "      height: 32px;\n",
              "      padding: 0 0 0 0;\n",
              "      width: 32px;\n",
              "    }\n",
              "\n",
              "    .colab-df-convert:hover {\n",
              "      background-color: #E2EBFA;\n",
              "      box-shadow: 0px 1px 2px rgba(60, 64, 67, 0.3), 0px 1px 3px 1px rgba(60, 64, 67, 0.15);\n",
              "      fill: #174EA6;\n",
              "    }\n",
              "\n",
              "    [theme=dark] .colab-df-convert {\n",
              "      background-color: #3B4455;\n",
              "      fill: #D2E3FC;\n",
              "    }\n",
              "\n",
              "    [theme=dark] .colab-df-convert:hover {\n",
              "      background-color: #434B5C;\n",
              "      box-shadow: 0px 1px 3px 1px rgba(0, 0, 0, 0.15);\n",
              "      filter: drop-shadow(0px 1px 2px rgba(0, 0, 0, 0.3));\n",
              "      fill: #FFFFFF;\n",
              "    }\n",
              "  </style>\n",
              "\n",
              "      <script>\n",
              "        const buttonEl =\n",
              "          document.querySelector('#df-7a434b56-45d9-4a51-b7be-9d38ea866092 button.colab-df-convert');\n",
              "        buttonEl.style.display =\n",
              "          google.colab.kernel.accessAllowed ? 'block' : 'none';\n",
              "\n",
              "        async function convertToInteractive(key) {\n",
              "          const element = document.querySelector('#df-7a434b56-45d9-4a51-b7be-9d38ea866092');\n",
              "          const dataTable =\n",
              "            await google.colab.kernel.invokeFunction('convertToInteractive',\n",
              "                                                     [key], {});\n",
              "          if (!dataTable) return;\n",
              "\n",
              "          const docLinkHtml = 'Like what you see? Visit the ' +\n",
              "            '<a target=\"_blank\" href=https://colab.research.google.com/notebooks/data_table.ipynb>data table notebook</a>'\n",
              "            + ' to learn more about interactive tables.';\n",
              "          element.innerHTML = '';\n",
              "          dataTable['output_type'] = 'display_data';\n",
              "          await google.colab.output.renderOutput(dataTable, element);\n",
              "          const docLink = document.createElement('div');\n",
              "          docLink.innerHTML = docLinkHtml;\n",
              "          element.appendChild(docLink);\n",
              "        }\n",
              "      </script>\n",
              "    </div>\n",
              "  </div>\n",
              "  "
            ]
          },
          "metadata": {},
          "execution_count": 105
        }
      ]
    },
    {
      "cell_type": "markdown",
      "source": [
        "**Midterm**\n",
        "- หาพื้นที่ (district_name)  ที่มีจำนวนโครงการเยอะที่สุดและมีความต้องการเช่าเยอะที่สุด (5 คะแนน)\n",
        "- โครงการที่แพงที่สุดในพื้นที่ที่มีความต้องการเช่าสูงที่สุด (5 คะแนน)\n",
        "- ราคาเฉลี่ยของโครงการ ที่อยู่ในย่าน (subdistrict) ที่ อาหารการกินมีความหลากหลายที่สุดในช่วงกลางวัน (eating_daytime_variety) ของประเทศไทย (5 คะแนน)\n",
        "- พื้นที่ ที่มีความต้องการเช่ามากที่สุด คือพื้นที่ใด และพื้นที่นั้นมีชนิดของบ้าน แบบไหนมากที่สุด (7 คะแนน)\n",
        "(เฉพาะ กรุงเทพมหานคร) \n",
        "- เปรียบเทียบราคาโครงการที่แพงที่สุดในย่าน (subdistrict)ที่ราคาของอาหารการกินในช่วงกลางคืนที่ราคาสูงที่สุด (eating_nighttime_price) กับ ย่าน (subdistrict)ที่ราคาของอาหารการกินในช่วงกลางคืนที่ราคาต่ำที่สุด (eating_nighttime_price) (10 คะแนน)\n",
        "- แสดงย่านที่ อาหารการกินมีความหลากหลายที่สุดในช่วงกลางวัน (eating_daytime_variety) และ กลางคืน (eating_nighttime_variety) ของแต่ละจังหวัด (13 คะแนน)"
      ],
      "metadata": {
        "id": "JBBy9VUjVzNW"
      }
    },
    {
      "cell_type": "markdown",
      "source": [
        "##ข้อ 1 หาพื้นที่ (district_name)  ที่มีจำนวนโครงการ(name_th)เยอะที่สุดและมีความต้องการเช่าเยอะที่สุด (5 คะแนน)\n",
        "เปรียบเทียบ หาพท.โครงการเยอะสุด\n",
        "- groupby \n",
        "- เรียงว่าอันไหนเยอะสุด\n",
        "- ถ้าไม่ตรงกัน พื้นที่จัตุจักรมีโครงการเยอะสุด แต่สีลมต้องการเช่าเยอะสุด"
      ],
      "metadata": {
        "id": "o7hH2lU5-FZc"
      }
    },
    {
      "cell_type": "code",
      "source": [
        "dataall = project1.merge(eat1, left_on='row_number', right_on='row_number')\n",
        "dataall.head()"
      ],
      "metadata": {
        "id": "ouavOJMp8lNZ"
      },
      "execution_count": null,
      "outputs": []
    },
    {
      "cell_type": "code",
      "source": [
        "dataall2 =dataall.merge(rent1, left_on='row_number', right_on='row_number')\n",
        "dataall2.head()"
      ],
      "metadata": {
        "id": "r7aytIk-8n_y"
      },
      "execution_count": null,
      "outputs": []
    },
    {
      "cell_type": "code",
      "source": [
        "name1=dataall2[\"district_name_th_x\"]\n",
        "name2=dataall2[\"district_name_th_y\"]\n",
        "print(name1,name2)"
      ],
      "metadata": {
        "id": "DWt7J-bGB6L9"
      },
      "execution_count": null,
      "outputs": []
    },
    {
      "cell_type": "code",
      "source": [
        "name=pd.concat([name1,name2])\n",
        "name[[0]]"
      ],
      "metadata": {
        "colab": {
          "base_uri": "https://localhost:8080/"
        },
        "id": "v4VwEA4_B-go",
        "outputId": "2fb84902-5e52-426e-ee24-855cc07f5db8"
      },
      "execution_count": 131,
      "outputs": [
        {
          "output_type": "execute_result",
          "data": {
            "text/plain": [
              "0            พานทอง\n",
              "0    เมืองเชียงใหม่\n",
              "dtype: object"
            ]
          },
          "metadata": {},
          "execution_count": 131
        }
      ]
    },
    {
      "cell_type": "code",
      "source": [
        "dataall2.groupby(\"district_name_th_y\")[[\"name_th\"]].max().sort_values(by=[\"name_th\"], ascending=False)#_y = ชื่อพื้นที่ทั่วประเทศ ทีมีโครงการเยอะสุด\n",
        "ans_1_1 = dataall2.groupby(\"district_name_th_y\")[[\"name_th\"]].max().reset_index().sort_values(by=[\"name_th\"], ascending=False)\n",
        "ans_1_1"
      ],
      "metadata": {
        "colab": {
          "base_uri": "https://localhost:8080/",
          "height": 423
        },
        "id": "8-QG1h5b095O",
        "outputId": "42c27bac-bdb7-47f7-b06f-d23422e421ab"
      },
      "execution_count": 129,
      "outputs": [
        {
          "output_type": "execute_result",
          "data": {
            "text/plain": [
              "    district_name_th_y                          name_th\n",
              "73               วัฒนา  ไอลีฟ ไพร์ม วงแหวน-รังสิตคลอง 4\n",
              "70             ลำลูกกา  ไอลีฟ ไพร์ม วงแหวน-รังสิตคลอง 4\n",
              "102     เมืองเชียงใหม่  ไอลีฟ ไพร์ม วงแหวน-รังสิตคลอง 4\n",
              "15            ตลิ่งชัน  ไอลีฟ พาร์ค วงแหวน-รังสิตคลอง 4\n",
              "99          เมืองระยอง  ไอลีฟ พาร์ค วงแหวน-รังสิตคลอง 4\n",
              "..                 ...                              ...\n",
              "93          เกาะจันทร์           บ้านพฤกษา ราชพฤกษ์-345\n",
              "4            คลองสามวา                     บ้านทวีทอง 1\n",
              "30               บางนา                      บ้านกมลแก้ว\n",
              "80           สันป่าตอง              บีทีเอส เรสซิเด้นซ์\n",
              "27         บางขุนเทียน               บิสพอยท์ 4 ไทวัสดุ\n",
              "\n",
              "[106 rows x 2 columns]"
            ],
            "text/html": [
              "\n",
              "  <div id=\"df-c901fdff-e248-4344-baa1-6633d76524e1\">\n",
              "    <div class=\"colab-df-container\">\n",
              "      <div>\n",
              "<style scoped>\n",
              "    .dataframe tbody tr th:only-of-type {\n",
              "        vertical-align: middle;\n",
              "    }\n",
              "\n",
              "    .dataframe tbody tr th {\n",
              "        vertical-align: top;\n",
              "    }\n",
              "\n",
              "    .dataframe thead th {\n",
              "        text-align: right;\n",
              "    }\n",
              "</style>\n",
              "<table border=\"1\" class=\"dataframe\">\n",
              "  <thead>\n",
              "    <tr style=\"text-align: right;\">\n",
              "      <th></th>\n",
              "      <th>district_name_th_y</th>\n",
              "      <th>name_th</th>\n",
              "    </tr>\n",
              "  </thead>\n",
              "  <tbody>\n",
              "    <tr>\n",
              "      <th>73</th>\n",
              "      <td>วัฒนา</td>\n",
              "      <td>ไอลีฟ ไพร์ม วงแหวน-รังสิตคลอง 4</td>\n",
              "    </tr>\n",
              "    <tr>\n",
              "      <th>70</th>\n",
              "      <td>ลำลูกกา</td>\n",
              "      <td>ไอลีฟ ไพร์ม วงแหวน-รังสิตคลอง 4</td>\n",
              "    </tr>\n",
              "    <tr>\n",
              "      <th>102</th>\n",
              "      <td>เมืองเชียงใหม่</td>\n",
              "      <td>ไอลีฟ ไพร์ม วงแหวน-รังสิตคลอง 4</td>\n",
              "    </tr>\n",
              "    <tr>\n",
              "      <th>15</th>\n",
              "      <td>ตลิ่งชัน</td>\n",
              "      <td>ไอลีฟ พาร์ค วงแหวน-รังสิตคลอง 4</td>\n",
              "    </tr>\n",
              "    <tr>\n",
              "      <th>99</th>\n",
              "      <td>เมืองระยอง</td>\n",
              "      <td>ไอลีฟ พาร์ค วงแหวน-รังสิตคลอง 4</td>\n",
              "    </tr>\n",
              "    <tr>\n",
              "      <th>...</th>\n",
              "      <td>...</td>\n",
              "      <td>...</td>\n",
              "    </tr>\n",
              "    <tr>\n",
              "      <th>93</th>\n",
              "      <td>เกาะจันทร์</td>\n",
              "      <td>บ้านพฤกษา ราชพฤกษ์-345</td>\n",
              "    </tr>\n",
              "    <tr>\n",
              "      <th>4</th>\n",
              "      <td>คลองสามวา</td>\n",
              "      <td>บ้านทวีทอง 1</td>\n",
              "    </tr>\n",
              "    <tr>\n",
              "      <th>30</th>\n",
              "      <td>บางนา</td>\n",
              "      <td>บ้านกมลแก้ว</td>\n",
              "    </tr>\n",
              "    <tr>\n",
              "      <th>80</th>\n",
              "      <td>สันป่าตอง</td>\n",
              "      <td>บีทีเอส เรสซิเด้นซ์</td>\n",
              "    </tr>\n",
              "    <tr>\n",
              "      <th>27</th>\n",
              "      <td>บางขุนเทียน</td>\n",
              "      <td>บิสพอยท์ 4 ไทวัสดุ</td>\n",
              "    </tr>\n",
              "  </tbody>\n",
              "</table>\n",
              "<p>106 rows × 2 columns</p>\n",
              "</div>\n",
              "      <button class=\"colab-df-convert\" onclick=\"convertToInteractive('df-c901fdff-e248-4344-baa1-6633d76524e1')\"\n",
              "              title=\"Convert this dataframe to an interactive table.\"\n",
              "              style=\"display:none;\">\n",
              "        \n",
              "  <svg xmlns=\"http://www.w3.org/2000/svg\" height=\"24px\"viewBox=\"0 0 24 24\"\n",
              "       width=\"24px\">\n",
              "    <path d=\"M0 0h24v24H0V0z\" fill=\"none\"/>\n",
              "    <path d=\"M18.56 5.44l.94 2.06.94-2.06 2.06-.94-2.06-.94-.94-2.06-.94 2.06-2.06.94zm-11 1L8.5 8.5l.94-2.06 2.06-.94-2.06-.94L8.5 2.5l-.94 2.06-2.06.94zm10 10l.94 2.06.94-2.06 2.06-.94-2.06-.94-.94-2.06-.94 2.06-2.06.94z\"/><path d=\"M17.41 7.96l-1.37-1.37c-.4-.4-.92-.59-1.43-.59-.52 0-1.04.2-1.43.59L10.3 9.45l-7.72 7.72c-.78.78-.78 2.05 0 2.83L4 21.41c.39.39.9.59 1.41.59.51 0 1.02-.2 1.41-.59l7.78-7.78 2.81-2.81c.8-.78.8-2.07 0-2.86zM5.41 20L4 18.59l7.72-7.72 1.47 1.35L5.41 20z\"/>\n",
              "  </svg>\n",
              "      </button>\n",
              "      \n",
              "  <style>\n",
              "    .colab-df-container {\n",
              "      display:flex;\n",
              "      flex-wrap:wrap;\n",
              "      gap: 12px;\n",
              "    }\n",
              "\n",
              "    .colab-df-convert {\n",
              "      background-color: #E8F0FE;\n",
              "      border: none;\n",
              "      border-radius: 50%;\n",
              "      cursor: pointer;\n",
              "      display: none;\n",
              "      fill: #1967D2;\n",
              "      height: 32px;\n",
              "      padding: 0 0 0 0;\n",
              "      width: 32px;\n",
              "    }\n",
              "\n",
              "    .colab-df-convert:hover {\n",
              "      background-color: #E2EBFA;\n",
              "      box-shadow: 0px 1px 2px rgba(60, 64, 67, 0.3), 0px 1px 3px 1px rgba(60, 64, 67, 0.15);\n",
              "      fill: #174EA6;\n",
              "    }\n",
              "\n",
              "    [theme=dark] .colab-df-convert {\n",
              "      background-color: #3B4455;\n",
              "      fill: #D2E3FC;\n",
              "    }\n",
              "\n",
              "    [theme=dark] .colab-df-convert:hover {\n",
              "      background-color: #434B5C;\n",
              "      box-shadow: 0px 1px 3px 1px rgba(0, 0, 0, 0.15);\n",
              "      filter: drop-shadow(0px 1px 2px rgba(0, 0, 0, 0.3));\n",
              "      fill: #FFFFFF;\n",
              "    }\n",
              "  </style>\n",
              "\n",
              "      <script>\n",
              "        const buttonEl =\n",
              "          document.querySelector('#df-c901fdff-e248-4344-baa1-6633d76524e1 button.colab-df-convert');\n",
              "        buttonEl.style.display =\n",
              "          google.colab.kernel.accessAllowed ? 'block' : 'none';\n",
              "\n",
              "        async function convertToInteractive(key) {\n",
              "          const element = document.querySelector('#df-c901fdff-e248-4344-baa1-6633d76524e1');\n",
              "          const dataTable =\n",
              "            await google.colab.kernel.invokeFunction('convertToInteractive',\n",
              "                                                     [key], {});\n",
              "          if (!dataTable) return;\n",
              "\n",
              "          const docLinkHtml = 'Like what you see? Visit the ' +\n",
              "            '<a target=\"_blank\" href=https://colab.research.google.com/notebooks/data_table.ipynb>data table notebook</a>'\n",
              "            + ' to learn more about interactive tables.';\n",
              "          element.innerHTML = '';\n",
              "          dataTable['output_type'] = 'display_data';\n",
              "          await google.colab.output.renderOutput(dataTable, element);\n",
              "          const docLink = document.createElement('div');\n",
              "          docLink.innerHTML = docLinkHtml;\n",
              "          element.appendChild(docLink);\n",
              "        }\n",
              "      </script>\n",
              "    </div>\n",
              "  </div>\n",
              "  "
            ]
          },
          "metadata": {},
          "execution_count": 129
        }
      ]
    },
    {
      "cell_type": "code",
      "source": [
        "ans_1_1.iloc[0, 0]"
      ],
      "metadata": {
        "id": "vEflH3fjLZrd"
      },
      "execution_count": null,
      "outputs": []
    },
    {
      "cell_type": "code",
      "source": [
        "dataall2.groupby(\"district_name_th_x\")[[\"name_th\"]].max().sort_values(by=[\"name_th\"], ascending=False)#_y = ชื่อพื้นที่ทั่วประเทศ ทีมีโครงการเยอะสุด\n",
        "ans_1_1_1= dataall2.groupby(\"district_name_th_x\")[[\"name_th\"]].max().reset_index().sort_values(by=[\"name_th\"], ascending=False)\n",
        "ans_1_1_1"
      ],
      "metadata": {
        "id": "KteSbdyY4Q10"
      },
      "execution_count": null,
      "outputs": []
    },
    {
      "cell_type": "code",
      "source": [
        "ans_1_1_1 ="
      ],
      "metadata": {
        "id": "MoPtiq0R9avy"
      },
      "execution_count": null,
      "outputs": []
    },
    {
      "cell_type": "code",
      "source": [
        "ans_1_1_1.iloc[[0]]"
      ],
      "metadata": {
        "id": "mYqzMHof6H4k"
      },
      "execution_count": null,
      "outputs": []
    },
    {
      "cell_type": "code",
      "source": [
        "dataall2.groupby(\"district_name_th_y\")[[\"volume_of_rental\"]].max().sort_values(by=[\"volume_of_rental\"], ascending=False) #_y = ชื่อพื้นที่ที่มีความต้องการเช่ามากสุด\n",
        "ans_1_2 = dataall2.groupby(\"district_name_th_y\")[[\"volume_of_rental\"]].max().reset_index().sort_values(by=[\"volume_of_rental\"], ascending=False)\n",
        "ans_1_2"
      ],
      "metadata": {
        "id": "Tgkk93UzHv4U"
      },
      "execution_count": null,
      "outputs": []
    },
    {
      "cell_type": "code",
      "source": [
        "ans_1_2.iloc[[0]]"
      ],
      "metadata": {
        "id": "vnKiHrUrAopv"
      },
      "execution_count": null,
      "outputs": []
    },
    {
      "cell_type": "code",
      "source": [
        "print(f'พื้นที่ที่มีโครงการเยอะที่สุด คือ {ans_1_1.iloc[0, 0]} โครงการที่เยอะที่สุดคือ {ans_1_1.iloc[0, 1]} ')\n",
        "print(f'แต่พื้นที่ที่มีความต้องการเช่ามากที่สุด คือ {ans_1_2.iloc[0, 0]} จำนวนความต้องการเช่า = {ans_1_2.iloc[0, 1]}  ')"
      ],
      "metadata": {
        "id": "Jd8UB0hzmH9F",
        "colab": {
          "base_uri": "https://localhost:8080/"
        },
        "outputId": "44b9e731-947b-44d8-c751-80cadfa9f35d"
      },
      "execution_count": 114,
      "outputs": [
        {
          "output_type": "stream",
          "name": "stdout",
          "text": [
            "พื้นที่ที่มีโครงการเยอะที่สุด คือ วัฒนา โครงการที่เยอะที่สุดคือ ไอลีฟ ไพร์ม วงแหวน-รังสิตคลอง 4 \n",
            "แต่พื้นที่ที่มีความต้องการเช่ามากที่สุด คือ เมืองปทุมธานี จำนวนความต้องการเช่า = 3996  \n"
          ]
        }
      ]
    },
    {
      "cell_type": "markdown",
      "source": [
        "##ข้อ 2 โครงการที่แพงที่สุดในพื้นที่ที่มีความต้องการเช่าสูงที่สุด (5 คะแนน)\n"
      ],
      "metadata": {
        "id": "MDGDYCoRd6c0"
      }
    },
    {
      "cell_type": "code",
      "source": [
        "dataall2[\"price_min\"] = dataall2[\"price_min\"].astype(float)\n"
      ],
      "metadata": {
        "id": "_xchPlAS_Uo7"
      },
      "execution_count": null,
      "outputs": []
    },
    {
      "cell_type": "code",
      "source": [
        "dataall2.groupby(\"name_th\")[[\"price_min\"]].max().reset_index().sort_index(ascending=False)"
      ],
      "metadata": {
        "id": "eebsIqE-89Fn"
      },
      "execution_count": null,
      "outputs": []
    },
    {
      "cell_type": "code",
      "source": [
        "ans_2 = dataall2.groupby(\"name_th\")[[\"price_min\"]].max().sort_values(by=[\"price_min\"], ascending=False)\n",
        "ans_2"
      ],
      "metadata": {
        "id": "S7AZJN5d8s15"
      },
      "execution_count": null,
      "outputs": []
    },
    {
      "cell_type": "code",
      "source": [
        "dataall2.groupby(\"name_th\")[[\"price_min\"]].max().sort_index(ascending=False)\n"
      ],
      "metadata": {
        "id": "onwOSTVOcJfu"
      },
      "execution_count": null,
      "outputs": []
    },
    {
      "cell_type": "code",
      "source": [
        "print(f'โครงการที่แพงที่สุดในพื้นที่ที่มีความต้องการเช่าสูงที่สุด {Ans2}')"
      ],
      "metadata": {
        "colab": {
          "base_uri": "https://localhost:8080/"
        },
        "id": "p6Mq9pdklMej",
        "outputId": "7fc58462-1148-4016-cf8d-6772584b8c31"
      },
      "execution_count": null,
      "outputs": [
        {
          "output_type": "stream",
          "name": "stdout",
          "text": [
            "โครงการที่แพงที่สุดในพื้นที่ที่มีความต้องการเช่าสูงที่สุด     propertytype_name_en  price_min  volume_of_rental\n",
            "697                Condo  1800000.0              3996\n"
          ]
        }
      ]
    },
    {
      "cell_type": "markdown",
      "source": [
        "##- ราคาเฉลี่ยของโครงการ ที่อยู่ในย่าน (subdistrict) ที่ อาหารการกินมีความหลากหลายที่สุดในช่วงกลางวัน (eating_daytime_variety) ของประเทศไทย (5 คะแนน)\n",
        "- ตารางอาหารการกิน groupby มี max สุดในอาหารการกินแล้วก็เลือกเฉพาะย่านนั้น\n",
        "- mean"
      ],
      "metadata": {
        "id": "BX0wXp9Ui7RD"
      }
    },
    {
      "cell_type": "code",
      "source": [
        "dataall2 = project.merge(eat, left_on='row_number', right_on='row_number')\n",
        "dataall2.head()"
      ],
      "metadata": {
        "id": "5MA35GBKjBZY"
      },
      "execution_count": null,
      "outputs": []
    },
    {
      "cell_type": "code",
      "source": [
        "dataall2['price_min'].mean() #['price_min'].mean()"
      ],
      "metadata": {
        "id": "uk-Aep3HjyEw"
      },
      "execution_count": null,
      "outputs": []
    },
    {
      "cell_type": "code",
      "source": [
        "dataall2['subdistrict_name_th'].describe()"
      ],
      "metadata": {
        "id": "cOykXWsVk1jE"
      },
      "execution_count": null,
      "outputs": []
    },
    {
      "cell_type": "markdown",
      "source": [
        "ข้อ 4 \n",
        "- หาความต้องการเช่ามากสุด \n",
        "- เอาพื้นที่นั้น groupby มีแบบบ้าน.countmax() แบบไหนมากสุด"
      ],
      "metadata": {
        "id": "XlH8DfnB-7MJ"
      }
    },
    {
      "cell_type": "markdown",
      "source": [
        "ข้อ6 เลือกมาเฉพาะกทม\n",
        "- เปรียบเทียบราคา หาสองส่วน \n",
        "- โครงการที่แพงสุดในย่าน groupby subdisrict\n",
        "  - หาอาหารการกินช่วงไหนราคาสูงสุด groupby mean -> sort รู้ย่าน หาในตารางโครงการ merge unit\n",
        "- groupby ย่านหา mean ย่านที่ต่ำสุด\n",
        "  - หาอาหารการกินช่วงไหนราคาสูงสุด groupby mean -> sort รู้ย่าน "
      ],
      "metadata": {
        "id": "xcNpaJVCCKsq"
      }
    },
    {
      "cell_type": "markdown",
      "source": [
        "ข้อ 7\n",
        "- groupby จังหวัด\n",
        "- sort อาหารการกินช่วงกลางวันแต่ละจังหวัด ย่านไหนมากสุด\n",
        "- sort อาหารการกินช่วงกลางคืนแต่ละจังหวัด ย่านไหนมากสุด"
      ],
      "metadata": {
        "id": "waKmPY2FC2SK"
      }
    }
  ]
}