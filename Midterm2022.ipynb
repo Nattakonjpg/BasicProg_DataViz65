{
  "nbformat": 4,
  "nbformat_minor": 0,
  "metadata": {
    "colab": {
      "provenance": [],
      "collapsed_sections": [],
      "authorship_tag": "ABX9TyPRrOiaNWmDSrptAZKrObG7",
      "include_colab_link": true
    },
    "kernelspec": {
      "name": "python3",
      "display_name": "Python 3"
    },
    "language_info": {
      "name": "python"
    }
  },
  "cells": [
    {
      "cell_type": "markdown",
      "metadata": {
        "id": "view-in-github",
        "colab_type": "text"
      },
      "source": [
        "<a href=\"https://colab.research.google.com/github/Nattakonjpg/BasicProg_DataViz65/blob/main/Midterm2022.ipynb\" target=\"_parent\"><img src=\"https://colab.research.google.com/assets/colab-badge.svg\" alt=\"Open In Colab\"/></a>"
      ]
    },
    {
      "cell_type": "code",
      "source": [
        "from google.colab import drive ## google drive\n",
        "drive.mount('/content/drive') "
      ],
      "metadata": {
        "colab": {
          "base_uri": "https://localhost:8080/"
        },
        "id": "yquMRtCoUwEn",
        "outputId": "bea22430-adbd-4aa3-f9b5-dff4ac563b67"
      },
      "execution_count": null,
      "outputs": [
        {
          "output_type": "stream",
          "name": "stdout",
          "text": [
            "Drive already mounted at /content/drive; to attempt to forcibly remount, call drive.mount(\"/content/drive\", force_remount=True).\n"
          ]
        }
      ]
    },
    {
      "cell_type": "code",
      "execution_count": null,
      "metadata": {
        "id": "lTk9Xgx1TyPT"
      },
      "outputs": [],
      "source": [
        "import pandas as pd"
      ]
    },
    {
      "cell_type": "code",
      "source": [
        "import os"
      ],
      "metadata": {
        "id": "vBHc62HnUdg7"
      },
      "execution_count": null,
      "outputs": []
    },
    {
      "cell_type": "code",
      "source": [
        "Unit = pd.read_csv('/content/drive/My Drive/dataviz_2022/Midterm/opendata_unittype.csv')\n",
        "Unit.head()"
      ],
      "metadata": {
        "id": "AoWZfFJVXVnX"
      },
      "execution_count": null,
      "outputs": []
    },
    {
      "cell_type": "code",
      "source": [
        "rent = pd.read_csv('/content/drive/My Drive/dataviz_2022/Midterm/opendata_volume_listing_rent.csv')\n",
        "rent.head()"
      ],
      "metadata": {
        "id": "mY2I9dLpW45v"
      },
      "execution_count": null,
      "outputs": []
    },
    {
      "cell_type": "code",
      "source": [
        "project = pd.read_csv('/content/drive/MyDrive/dataviz_2022/Midterm/opendata_project.csv')\n",
        "project.head()"
      ],
      "metadata": {
        "id": "x7sUbx90Xh9F"
      },
      "execution_count": null,
      "outputs": []
    },
    {
      "cell_type": "code",
      "source": [
        "eat = pd.read_csv('/content/drive/MyDrive/dataviz_2022/Midterm/opendata_eating_score.csv')\n",
        "eat.head()"
      ],
      "metadata": {
        "id": "GGqJ-AcdX2Bo"
      },
      "execution_count": null,
      "outputs": []
    },
    {
      "cell_type": "markdown",
      "source": [
        "##ลบค่า Missing"
      ],
      "metadata": {
        "id": "tHSSBxrg0Kpc"
      }
    },
    {
      "cell_type": "code",
      "source": [
        "unit1=Unit.dropna(subset=['row_number','unittype_id','project_id','propertytype_id','propertytype_name_en','propertytype_name_th'])"
      ],
      "metadata": {
        "id": "cW2MI9ww0MOu"
      },
      "execution_count": null,
      "outputs": []
    },
    {
      "cell_type": "code",
      "source": [
        "project1=project.dropna(subset=['project_id','name_th','propertytype_id','propertytype_name_th','developer_id',])"
      ],
      "metadata": {
        "id": "sx4MZ0290KaY"
      },
      "execution_count": null,
      "outputs": []
    },
    {
      "cell_type": "code",
      "source": [
        "rent1=rent.dropna(subset=['row_number','transction_year','transction_month','listing_province_name_th','listing_district_name_th','project_propertytype_name_th','volume_of_rental'])"
      ],
      "metadata": {
        "id": "hBggNZS80Roa"
      },
      "execution_count": null,
      "outputs": []
    },
    {
      "cell_type": "code",
      "source": [
        "eat1=eat.dropna(subset=['row_number','subdistrict_id','subdistrict_name_th','district_id','district_name_th','province_id','province_name_th','eating_daytime','eating_daytime_price','eating_daytime_variety','eating_nighttime_variety'])\n"
      ],
      "metadata": {
        "id": "dGbt5d7b0T3v"
      },
      "execution_count": null,
      "outputs": []
    },
    {
      "cell_type": "markdown",
      "source": [
        "**Midterm**\n",
        "- หาพื้นที่ (district_name)  ที่มีจำนวนโครงการเยอะที่สุดและมีความต้องการเช่าเยอะที่สุด (5 คะแนน)\n",
        "- โครงการที่แพงที่สุดในพื้นที่ที่มีความต้องการเช่าสูงที่สุด (5 คะแนน)\n",
        "- ราคาเฉลี่ยของโครงการ ที่อยู่ในย่าน (subdistrict) ที่ อาหารการกินมีความหลากหลายที่สุดในช่วงกลางวัน (eating_daytime_variety) ของประเทศไทย (5 คะแนน)\n",
        "- พื้นที่ ที่มีความต้องการเช่ามากที่สุด คือพื้นที่ใด และพื้นที่นั้นมีชนิดของบ้าน แบบไหนมากที่สุด (7 คะแนน)\n",
        "(เฉพาะ กรุงเทพมหานคร) \n",
        "- เปรียบเทียบราคาโครงการที่แพงที่สุดในย่าน (subdistrict)ที่ราคาของอาหารการกินในช่วงกลางคืนที่ราคาสูงที่สุด (eating_nighttime_price) กับ ย่าน (subdistrict)ที่ราคาของอาหารการกินในช่วงกลางคืนที่ราคาต่ำที่สุด (eating_nighttime_price) (10 คะแนน)\n",
        "- แสดงย่านที่ อาหารการกินมีความหลากหลายที่สุดในช่วงกลางวัน (eating_daytime_variety) และ กลางคืน (eating_nighttime_variety) ของแต่ละจังหวัด (13 คะแนน)"
      ],
      "metadata": {
        "id": "JBBy9VUjVzNW"
      }
    },
    {
      "cell_type": "markdown",
      "source": [
        "##ข้อ 1 หาพื้นที่ (district_name)  ที่มีจำนวนโครงการ(name_th)เยอะที่สุดและมีความต้องการเช่าเยอะที่สุด (5 คะแนน)\n",
        "เปรียบเทียบ หาพท.โครงการเยอะสุด\n",
        "- groupby \n",
        "- เรียงว่าอันไหนเยอะสุด\n",
        "- ถ้าไม่ตรงกัน พื้นที่จัตุจักรมีโครงการเยอะสุด แต่สีลมต้องการเช่าเยอะสุด"
      ],
      "metadata": {
        "id": "o7hH2lU5-FZc"
      }
    },
    {
      "cell_type": "code",
      "source": [
        "dataall = project1.merge(eat1, left_on='row_number', right_on='row_number')\n",
        "dataall.head()"
      ],
      "metadata": {
        "id": "ouavOJMp8lNZ"
      },
      "execution_count": null,
      "outputs": []
    },
    {
      "cell_type": "code",
      "source": [
        "dataall2 =dataall.merge(rent1, left_on='row_number', right_on='row_number')\n",
        "dataall2.head()"
      ],
      "metadata": {
        "id": "r7aytIk-8n_y"
      },
      "execution_count": null,
      "outputs": []
    },
    {
      "cell_type": "code",
      "source": [
        "dataall2.groupby(\"district_name_th_y\")[[\"name_th\"]].max().sort_values(by=[\"name_th\"], ascending=False)#_y = ชื่อพื้นที่ทั่วประเทศ ทีมีโครงการเยอะสุด\n",
        "ans_1_1 = dataall2.groupby(\"district_name_th_y\")[[\"name_th\"]].max().reset_index().sort_values(by=[\"name_th\"], ascending=False)\n",
        "ans_1_1"
      ],
      "metadata": {
        "id": "8-QG1h5b095O"
      },
      "execution_count": null,
      "outputs": []
    },
    {
      "cell_type": "code",
      "source": [
        "ans_1_1.iloc[0, 0]"
      ],
      "metadata": {
        "id": "vEflH3fjLZrd"
      },
      "execution_count": null,
      "outputs": []
    },
    {
      "cell_type": "code",
      "source": [
        "dataall2.groupby(\"district_name_th_y\")[[\"volume_of_rental\"]].max().sort_values(by=[\"volume_of_rental\"], ascending=False) #_y = ชื่อพื้นที่ที่มีความต้องการเช่ามากสุด\n",
        "ans_1_2 = dataall2.groupby(\"district_name_th_y\")[[\"volume_of_rental\"]].max().reset_index().sort_values(by=[\"volume_of_rental\"], ascending=False)\n",
        "ans_1_2"
      ],
      "metadata": {
        "id": "Tgkk93UzHv4U"
      },
      "execution_count": null,
      "outputs": []
    },
    {
      "cell_type": "code",
      "source": [
        "ans_1_2.iloc[[0]]"
      ],
      "metadata": {
        "id": "vnKiHrUrAopv"
      },
      "execution_count": null,
      "outputs": []
    },
    {
      "cell_type": "code",
      "source": [
        "print(f'พื้นที่ที่มีโครงการเยอะที่สุด คือ {ans_1_1.iloc[0, 0]} โครงการที่เยอะที่สุดคือ {ans_1_1.iloc[0, 1]} ')\n",
        "print(f'แต่พื้นที่ที่มีความต้องการเช่ามากที่สุด คือ {ans_1_2.iloc[0, 0]} จำนวนความต้องการเช่า = {ans_1_2.iloc[0, 1]}  ')"
      ],
      "metadata": {
        "id": "Jd8UB0hzmH9F",
        "colab": {
          "base_uri": "https://localhost:8080/"
        },
        "outputId": "44b9e731-947b-44d8-c751-80cadfa9f35d"
      },
      "execution_count": null,
      "outputs": [
        {
          "output_type": "stream",
          "name": "stdout",
          "text": [
            "พื้นที่ที่มีโครงการเยอะที่สุด คือ วัฒนา โครงการที่เยอะที่สุดคือ ไอลีฟ ไพร์ม วงแหวน-รังสิตคลอง 4 \n",
            "แต่พื้นที่ที่มีความต้องการเช่ามากที่สุด คือ เมืองปทุมธานี จำนวนความต้องการเช่า = 3996  \n"
          ]
        }
      ]
    },
    {
      "cell_type": "markdown",
      "source": [
        "##ข้อ 2 โครงการที่แพงที่สุดในพื้นที่ที่มีความต้องการเช่าสูงที่สุด (5 คะแนน)\n"
      ],
      "metadata": {
        "id": "MDGDYCoRd6c0"
      }
    },
    {
      "cell_type": "code",
      "source": [
        "dataall3 = dataall2.merge(unit1, left_on='row_number', right_on='row_number')\n",
        "dataall3.head()"
      ],
      "metadata": {
        "id": "sJCJR1_Xw2fY"
      },
      "execution_count": null,
      "outputs": []
    },
    {
      "cell_type": "code",
      "source": [
        "dataall3[dataall3['volume_of_rental']==dataall3['volume_of_rental']][['district_name_th_x','volume_of_rental','price_min_x','name_th_x']].sort_values(by=\"volume_of_rental\", ascending=False)\n"
      ],
      "metadata": {
        "id": "iXWkZHYIxpgo"
      },
      "execution_count": null,
      "outputs": []
    },
    {
      "cell_type": "code",
      "source": [
        "ans2 = dataall3[dataall3['volume_of_rental']==dataall3['volume_of_rental']][['district_name_th_x','volume_of_rental','price_min_x','name_th_x']].sort_values(by=\"volume_of_rental\", ascending=False)\n",
        "ans2"
      ],
      "metadata": {
        "id": "1AL-hjzrxQvw"
      },
      "execution_count": null,
      "outputs": []
    },
    {
      "cell_type": "code",
      "source": [
        "print(f'โครงการที่แพงที่สุดในพื้นที่ที่มีความต้องการเช่าสูงที่สุด  คือ {ans2.iloc[0,3]} มีราคาอยู่ที่ {ans2.iloc[0,2]} ความต้องการเช่า = {ans2.iloc[0,1]} ')"
      ],
      "metadata": {
        "id": "p6Mq9pdklMej"
      },
      "execution_count": null,
      "outputs": []
    },
    {
      "cell_type": "markdown",
      "source": [
        "##- ราคาเฉลี่ยของโครงการ ที่อยู่ในย่าน (subdistrict) ที่ อาหารการกินมีความหลากหลายที่สุดในช่วงกลางวัน (eating_daytime_variety) ของประเทศไทย (5 คะแนน)\n",
        "- ตารางอาหารการกิน groupby มี max สุดในอาหารการกินแล้วก็เลือกเฉพาะย่านนั้น\n",
        "- mean"
      ],
      "metadata": {
        "id": "BX0wXp9Ui7RD"
      }
    },
    {
      "cell_type": "markdown",
      "source": [
        "## ข้อ 4 \n",
        "- หาความต้องการเช่ามากสุด \n",
        "- เอาพื้นที่นั้น groupby มีแบบบ้าน.countmax() แบบไหนมากสุด"
      ],
      "metadata": {
        "id": "XlH8DfnB-7MJ"
      }
    },
    {
      "cell_type": "markdown",
      "source": [
        "## ข้อ 6 เลือกมาเฉพาะกทม\n",
        "- เปรียบเทียบราคา หาสองส่วน \n",
        "- โครงการที่แพงสุดในย่าน groupby subdisrict\n",
        "  - หาอาหารการกินช่วงไหนราคาสูงสุด groupby mean -> sort รู้ย่าน หาในตารางโครงการ merge unit\n",
        "- groupby ย่านหา mean ย่านที่ต่ำสุด\n",
        "  - หาอาหารการกินช่วงไหนราคาสูงสุด groupby mean -> sort รู้ย่าน "
      ],
      "metadata": {
        "id": "xcNpaJVCCKsq"
      }
    },
    {
      "cell_type": "markdown",
      "source": [
        "ข้อ 7\n",
        "- groupby จังหวัด\n",
        "- sort อาหารการกินช่วงกลางวันแต่ละจังหวัด ย่านไหนมากสุด\n",
        "- sort อาหารการกินช่วงกลางคืนแต่ละจังหวัด ย่านไหนมากสุด"
      ],
      "metadata": {
        "id": "waKmPY2FC2SK"
      }
    }
  ]
}